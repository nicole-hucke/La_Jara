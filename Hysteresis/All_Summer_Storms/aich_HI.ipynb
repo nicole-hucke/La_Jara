{
 "cells": [
  {
   "cell_type": "code",
   "execution_count": 21,
   "metadata": {},
   "outputs": [],
   "source": [
    "# testing hysteresis parameter calculation? \n",
    "import numpy as np\n",
    "import scipy.integrate as spi\n",
    "from scipy.optimize import curve_fit\n",
    "import pandas as pd\n",
    "import os\n",
    "import numpy as np\n",
    "import matplotlib.pyplot as plt\n",
    "import seaborn as sns  \n",
    "import matplotlib.collections as mcoll\n",
    "import matplotlib.path as mpath\n",
    "\n",
    "storm_directory = 'C:/Users/huck4481/Documents/GitHub/La_Jara/Hysteresis/All_Summer_Storms'\n",
    "storms = {}\n",
    "for filename in os.listdir(storm_directory):\n",
    "    # check if the file is a CSV file\n",
    "    if filename.endswith('.csv'):\n",
    "        file_path = os.path.join(storm_directory, filename) # construct the full file path\n",
    "        df = pd.read_csv(file_path)                         # read the CSV file into a data frame\n",
    "        df = df.dropna(subset=['Date_Time'])                # drop rows where 'Date/Time' is NaN  \n",
    "        df['Date_Time'] = pd.to_datetime(df['Date_Time'])   # convert to datetime format\n",
    "        df = df.set_index('Date_Time')                      # set date time as the index \n",
    "        df = df.dropna(how='all', axis=1)                   # drop columns where all values are NaN\n",
    "        key = filename[:-4]                                 # remove the '.csv' from the filename to use as the dictionary key\n",
    "        storms[key] = df                                    # store the data frame in the dictionary\n",
    "\n",
    "## STORM 1 AS EXAMPLE ## \n",
    "SSC = np.array(storms['st1_down']['SS (uL/L)'])\n",
    "Q = np.array(storms['st1_down']['depth'])"
   ]
  },
  {
   "cell_type": "code",
   "execution_count": 22,
   "metadata": {},
   "outputs": [],
   "source": [
    "def normalize_data(Q, SSC):\n",
    "    Qn = Q / np.max(Q)  \n",
    "    SSCn = SSC / np.max(SSC) \n",
    "    return Qn, SSCn\n",
    "\n",
    "def find_rising_falling_limb(Qn, SSCn):\n",
    "    Qmax_idx = np.argmax(Qn)  # find the index of the maximum discharge (Qmax)\n",
    "\n",
    "    # rising limb: including Qmax\n",
    "    rising_Qn = Qn[:Qmax_idx+1]\n",
    "    rising_SSCn = SSCn[:Qmax_idx+1]\n",
    "    # falling limb: excluding Qmax\n",
    "    falling_Qn = Qn[Qmax_idx:]\n",
    "    falling_SSCn = SSCn[Qmax_idx:]\n",
    "    return rising_Qn, rising_SSCn, falling_Qn, falling_SSCn\n",
    "\n",
    "def distance_from_line(x, y, m, b):\n",
    "    return np.abs(m * x - y + b) / np.sqrt(m**2 + 1)\n",
    "\n",
    "def get_projection(x0, y0, m, b):\n",
    "    x_proj = (x0 + m * (y0 - b)) / (1 + m**2)\n",
    "    y_proj = m * x_proj + b\n",
    "    return x_proj, y_proj\n",
    "\n",
    "def check_rising_sign(x0, y0, m, b):\n",
    "    C = y0 - (m * x0 + b)  # Compute signed distance\n",
    "    if C >= 0:\n",
    "        sign = 1\n",
    "    else:\n",
    "        sign =-1\n",
    "    return sign\n",
    "\n",
    "def check_falling_sign(x0, y0, m, b):\n",
    "    C = y0 - (m * x0 + b)  # Compute signed distance\n",
    "    if C >= 0:\n",
    "        sign = -1\n",
    "    else:\n",
    "        sign = 1\n",
    "    return sign"
   ]
  },
  {
   "cell_type": "code",
   "execution_count": 23,
   "metadata": {},
   "outputs": [],
   "source": [
    "# normalize discharge and SSC\n",
    "Qn, SSCn = normalize_data(Q, SSC)\n",
    "# find the rising and falling limbs\n",
    "rising_Qn, rising_SSCn, falling_Qn, falling_SSCn = find_rising_falling_limb(Qn, SSCn)\n",
    "\n",
    "# interpolate to get expected values along the rising and falling limbs\n",
    "rising_SSC_interp = np.interp(Qn, rising_Qn, rising_SSCn)\n",
    "falling_SSC_interp = np.interp(Qn, falling_Qn, falling_SSCn)\n",
    "Qmax = np.max(Qn)\n",
    "\n",
    "# Reference line from Qmax to the last point of the loop\n",
    "reference_line_x = [Qmax, Qn[-1]]  # X-coordinates (discharge)\n",
    "reference_line_y = [SSCn[np.argmax(Qn == Qmax)], SSCn[-1]]  # Y-coordinates (SSC)\n",
    "\n",
    "# Calculate the slope (m) and intercept (b) of the reference line\n",
    "m = (reference_line_y[1] - reference_line_y[0]) / (reference_line_x[1] - reference_line_x[0])\n",
    "b = reference_line_y[0] - m * reference_line_x[0]\n",
    "\n",
    "# Calculate perpendicular distances from each point in rising and falling limbs to the reference line\n",
    "Drise = [distance_from_line(rise_x, rise_y, m, b) for rise_x, rise_y in zip(rising_Qn[1:-1], rising_SSCn[1:-1])]\n",
    "Dfall = [distance_from_line(fall_x, fall_y, m, b) for fall_x, fall_y in zip(falling_Qn[1:-1], falling_SSCn[1:-1])]"
   ]
  },
  {
   "cell_type": "code",
   "execution_count": 26,
   "metadata": {},
   "outputs": [],
   "source": [
    "Drise_max = np.max(Drise)\n",
    "Dfall_max = np.max(Dfall)\n",
    "\n",
    "Drise_Qn = rising_Qn[1:-1][Drise == Drise_max]\n",
    "Drise_SSCn = rising_SSCn[1:-1][Drise == Drise_max]\n",
    "\n",
    "Dfall_Qn = falling_Qn[1:-1][Dfall == Dfall_max]\n",
    "Dfall_SSCn = falling_SSCn[1:-1][Dfall == Dfall_max]\n",
    "\n",
    "Drise_xproj, Drise_yproj = get_projection(Drise_Qn, Drise_SSCn, m, b)\n",
    "Dfall_xproj, Dfall_yproj = get_projection(Dfall_Qn, Dfall_SSCn, m, b)\n",
    "\n",
    "Drise_distance = check_rising_sign(np.array(Drise_Qn), np.array(Drise_SSCn), m, b)*Drise_max\n",
    "Dfall_distance = check_falling_sign(np.array(Dfall_Qn), np.array(Dfall_SSCn), m, b)*Dfall_max"
   ]
  },
  {
   "cell_type": "code",
   "execution_count": 27,
   "metadata": {},
   "outputs": [
    {
     "data": {
      "text/plain": [
       "[0.016851864848962603, 0.012610766864700652]"
      ]
     },
     "execution_count": 27,
     "metadata": {},
     "output_type": "execute_result"
    }
   ],
   "source": [
    "Dfall"
   ]
  },
  {
   "cell_type": "code",
   "execution_count": 39,
   "metadata": {},
   "outputs": [
    {
     "data": {
      "image/png": "[encoded data removed]",
      "text/plain": [
       "<Figure size 432x432 with 1 Axes>"
      ]
     },
     "metadata": {
      "needs_background": "light"
     },
     "output_type": "display_data"
    }
   ],
   "source": [
    "# Plot the hysteresis loop\n",
    "plt.figure(figsize=(6, 6))\n",
    "plt.plot(Qn, SSCn, color='b')\n",
    "# Plot the rising and falling limbs\n",
    "plt.plot(rising_Qn, rising_SSCn, label='Rising Limb', color='g')\n",
    "plt.plot(falling_Qn, falling_SSCn, label='Falling Limb', color='r')\n",
    "# Plot the reference line\n",
    "#plt.plot(reference_line_x, reference_line_y, '--k', label='Reference Line (Qmax to Last Sample)')\n",
    "tempCalc1 = np.linspace(0.8, 1.25, 100)\n",
    "plt.plot(tempCalc1, m*tempCalc1 + b, '--k', label='Reference Line (Qmax to Last Sample)')\n",
    "# Mark the Drise and Dfall distances\n",
    "plt.plot(np.array([]), np.array([]), color=\"lightgreen\")\n",
    "\n",
    "# Plotting rising max\n",
    "plt.scatter(Drise_Qn, Drise_SSCn, color=\"green\")\n",
    "plt.plot([Drise_Qn, Drise_xproj], [Drise_SSCn, Drise_yproj], 'g--', label=\"D rising\")\n",
    "\n",
    "# Plotting falling max\n",
    "plt.scatter(Dfall_Qn, Dfall_SSCn, color=\"red\")\n",
    "plt.plot([Dfall_Qn, Dfall_xproj], [Dfall_SSCn, Dfall_yproj], 'r--', label=\"D falling\")\n",
    "\n",
    "plt.xlabel('Normalized Discharge (Qn)')\n",
    "plt.ylabel('Normalized SSC (SSCn)')\n",
    "plt.title('Hysteresis Loop with Reference Line and Distances')\n",
    "plt.legend()\n",
    "plt.xlim(-0.25,1.5)\n",
    "plt.ylim(-0.25,1.5)\n",
    "plt.grid(True)\n",
    "plt.show()"
   ]
  },
  {
   "cell_type": "code",
   "execution_count": null,
   "metadata": {},
   "outputs": [],
   "source": []
  }
 ],
 "metadata": {
  "kernelspec": {
   "display_name": "Python 3",
   "language": "python",
   "name": "python3"
  },
  "language_info": {
   "codemirror_mode": {
    "name": "ipython",
    "version": 3
   },
   "file_extension": ".py",
   "mimetype": "text/x-python",
   "name": "python",
   "nbconvert_exporter": "python",
   "pygments_lexer": "ipython3",
   "version": "3.9.10"
  }
 },
 "nbformat": 4,
 "nbformat_minor": 2
}
