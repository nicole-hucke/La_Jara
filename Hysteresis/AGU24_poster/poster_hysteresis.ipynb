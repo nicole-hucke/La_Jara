{
 "cells": [
  {
   "cell_type": "markdown",
   "metadata": {},
   "source": [
    "# Plotting Hysteresis and other things for AGU 2024 POSTER"
   ]
  },
  {
   "cell_type": "code",
   "execution_count": null,
   "metadata": {},
   "outputs": [],
   "source": [
    "import pandas as pd\n",
    "import numpy as np\n",
    "import matplotlib.pyplot as plt\n",
    "import seaborn as sns  \n",
    "from sklearn.linear_model import LinearRegression\n",
    "\n",
    "# load the data\n",
    "# water depth data\n",
    "depths = pd.read_csv('2023_water_depths.csv', parse_dates=['Date_Time'], index_col='Date_Time')\n",
    "# sonde data\n",
    "down_sonde = pd.read_csv('SP23_down_sonde.csv', parse_dates=['Date_Time'], index_col='Date_Time')\n",
    "up_sonde = pd.read_csv('SP23_up_sonde.csv', parse_dates=['Date_Time'], index_col='Date_Time')\n",
    "# nutrient data\n",
    "down_constituents = pd.read_csv('SP23_down_constituents.csv', parse_dates=['Date_Time'], index_col='Date_Time')\n",
    "up_constituents = pd.read_csv('SP23_up_constituents.csv', parse_dates=['Date_Time'], index_col='Date_Time')"
   ]
  }
 ],
 "metadata": {
  "kernelspec": {
   "display_name": "Python 3",
   "language": "python",
   "name": "python3"
  },
  "language_info": {
   "name": "python",
   "version": "3.9.10"
  }
 },
 "nbformat": 4,
 "nbformat_minor": 2
}
