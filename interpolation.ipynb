{
 "cells": [
  {
   "cell_type": "markdown",
   "metadata": {},
   "source": [
    "## Interpolating data points in a time series \n",
    "I want to find the variable values for a date & time that is not originally in a data set, but can interpolate from date and time"
   ]
  },
  {
   "cell_type": "code",
   "execution_count": 1,
   "metadata": {},
   "outputs": [],
   "source": [
    "# Import the libraries I will be using for this\n",
    "import numpy as np \n",
    "import pandas as pd\n",
    "import matplotlib as plt\n",
    "import xarray as xr\n",
    "\n",
    "# Import my data file \n",
    "url = \"C:/Users/nicol/Documents/GitHub/La_Jara/Diver_Data/Data/raw_barom.csv\"\n",
    "df = pd.read_csv(url)"
   ]
  },
  {
   "cell_type": "code",
   "execution_count": 2,
   "metadata": {},
   "outputs": [
    {
     "data": {
      "text/plain": [
       "0        7/29/2021 12:10\n",
       "1        7/29/2021 12:25\n",
       "2        7/29/2021 12:40\n",
       "3        7/29/2021 12:55\n",
       "4        7/29/2021 13:10\n",
       "              ...       \n",
       "27069     5/7/2022 11:25\n",
       "27070     5/7/2022 11:40\n",
       "27071     5/7/2022 11:55\n",
       "27072     5/7/2022 12:10\n",
       "27073     5/7/2022 12:25\n",
       "Name: date, Length: 27074, dtype: object"
      ]
     },
     "execution_count": 2,
     "metadata": {},
     "output_type": "execute_result"
    }
   ],
   "source": [
    "df['date']"
   ]
  },
  {
   "cell_type": "code",
   "execution_count": 3,
   "metadata": {},
   "outputs": [
    {
     "ename": "SyntaxError",
     "evalue": "invalid syntax (906078667.py, line 1)",
     "output_type": "error",
     "traceback": [
      "\u001b[1;36m  Input \u001b[1;32mIn [3]\u001b[1;36m\u001b[0m\n\u001b[1;33m    df.loc[-1, 'date'] = 7/29/2021 12:15\u001b[0m\n\u001b[1;37m                                   ^\u001b[0m\n\u001b[1;31mSyntaxError\u001b[0m\u001b[1;31m:\u001b[0m invalid syntax\n"
     ]
    }
   ],
   "source": [
    "# Testing the interpolation process \n",
    "df.loc[-1, 'date'] = 7/29/2021 12:15\n",
    "df = df.sort_values('date').reset_index(drop=True)\n",
    "df['date']\n",
    "\n",
    "#df = df.interpolate()\n",
    "#print (df)\n"
   ]
  },
  {
   "cell_type": "code",
   "execution_count": null,
   "metadata": {},
   "outputs": [],
   "source": []
  }
 ],
 "metadata": {
  "kernelspec": {
   "display_name": "Python 3.9.12 ('base')",
   "language": "python",
   "name": "python3"
  },
  "language_info": {
   "codemirror_mode": {
    "name": "ipython",
    "version": 3
   },
   "file_extension": ".py",
   "mimetype": "text/x-python",
   "name": "python",
   "nbconvert_exporter": "python",
   "pygments_lexer": "ipython3",
   "version": "3.9.12"
  },
  "orig_nbformat": 4,
  "vscode": {
   "interpreter": {
    "hash": "07878c45a9b18549480ac2f9ecb8f16bb7162456cf654f6757bcff1d6396abe7"
   }
  }
 },
 "nbformat": 4,
 "nbformat_minor": 2
}
