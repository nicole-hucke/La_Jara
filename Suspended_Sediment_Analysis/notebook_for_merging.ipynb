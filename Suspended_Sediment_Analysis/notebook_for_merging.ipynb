{
 "cells": [
  {
   "cell_type": "markdown",
   "metadata": {},
   "source": [
    "### Short notebook to merge data on dates"
   ]
  },
  {
   "cell_type": "code",
   "execution_count": 10,
   "metadata": {},
   "outputs": [],
   "source": [
    "import pandas as pd\n",
    "import os\n",
    "\n",
    "# directories\n",
    "directory = 'C:/Users/huck4481/Documents/GitHub/La_Jara/Suspended_Sediment_Analysis/depth'\n",
    "\n",
    "# import files\n",
    "sigmoid_SP23 = pd.read_csv(os.path.join(directory, 'discharge_spring2023_sigmoid.csv')).dropna()\n",
    "sigmoid_SM23 = pd.read_csv(os.path.join(directory, 'discharge_summer2023_sigmoid.csv')).dropna()\n",
    "SS_SP23 = pd.read_csv(os.path.join(directory, 'SS_spring2023.csv')).dropna()\n",
    "SS_SM23 = pd.read_csv(os.path.join(directory, 'SS_summer2023.csv')).dropna()\n"
   ]
  },
  {
   "cell_type": "code",
   "execution_count": 11,
   "metadata": {},
   "outputs": [
    {
     "name": "stdout",
     "output_type": "stream",
     "text": [
      "Empty DataFrame\n",
      "Columns: [Date_Time, SSC (mg/L)]\n",
      "Index: []\n"
     ]
    }
   ],
   "source": [
    "# display duplicates\n",
    "duplicates = SS_SP23[SS_SP23.duplicated('Date_Time', keep=False)]\n",
    "\n",
    "# Display the duplicates\n",
    "print(duplicates)"
   ]
  },
  {
   "cell_type": "code",
   "execution_count": 12,
   "metadata": {},
   "outputs": [],
   "source": [
    "# convert first column to datetime\n",
    "sigmoid_SP23['Date_Time'] = pd.to_datetime(sigmoid_SP23['Date_Time'])\n",
    "sigmoid_SM23['Date_Time'] = pd.to_datetime(sigmoid_SM23['Date_Time'])\n",
    "SS_SP23['Date_Time'] = pd.to_datetime(SS_SP23['Date_Time'])\n",
    "SS_SM23['Date_Time'] = pd.to_datetime(SS_SM23['Date_Time'])\n",
    "\n",
    "# for spring, re sample and interpolate\n",
    "sigmoid_SP23 = sigmoid_SP23.set_index('Date_Time').resample('1T').interpolate()\n",
    "SS_SP23 = SS_SP23.set_index('Date_Time').resample('1T').interpolate()\n",
    "# re sample again to the original time difference\n",
    "sigmoid_SP23 = sigmoid_SP23.resample('15T').mean()\n",
    "SS_SP23 = SS_SP23.resample('15T').mean()\n"
   ]
  },
  {
   "cell_type": "code",
   "execution_count": 13,
   "metadata": {},
   "outputs": [],
   "source": [
    "# merge dataframes\n",
    "data_SP23 = pd.merge(sigmoid_SP23, SS_SP23, on='Date_Time')\n",
    "data_SM23 = pd.merge(sigmoid_SM23, SS_SM23, on='Date_Time')\n",
    "\n",
    "# export data to csv\n",
    "data_SP23.to_csv(os.path.join(directory, 'sigmoid_combined_spring2023.csv'))\n",
    "data_SM23.to_csv(os.path.join(directory, 'sigmoid_combined_summer2023.csv'), index=False)"
   ]
  }
 ],
 "metadata": {
  "kernelspec": {
   "display_name": "Python 3",
   "language": "python",
   "name": "python3"
  },
  "language_info": {
   "codemirror_mode": {
    "name": "ipython",
    "version": 3
   },
   "file_extension": ".py",
   "mimetype": "text/x-python",
   "name": "python",
   "nbconvert_exporter": "python",
   "pygments_lexer": "ipython3",
   "version": "3.9.10"
  }
 },
 "nbformat": 4,
 "nbformat_minor": 2
}
