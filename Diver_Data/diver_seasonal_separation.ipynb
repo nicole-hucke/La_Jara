{
 "cells": [
  {
   "cell_type": "code",
   "execution_count": 2,
   "metadata": {},
   "outputs": [],
   "source": [
    "import os\n",
    "import pandas as pd\n",
    "\n",
    "folder_path = 'RAW' # specify the folder path containing your CSV files\n",
    "files = [file for file in os.listdir(folder_path) if file.endswith('.CSV')] # get a list of all CSV files in the folder\n",
    "dataframes_dict = {} # initialize an empty dictionary to store DataFrames\n",
    "\n",
    "# loop through each file and load it into a DataFrame\n",
    "for file in files:\n",
    "    file_path = os.path.join(folder_path, file)\n",
    "    # read file, skip the first 51 rows, and select columns 0, 1, and 2\n",
    "    df = pd.read_csv(file_path, skiprows=51, usecols=[0, 1, 2], parse_dates=[0])\n",
    "    # rename columns as per your requirement\n",
    "    df.columns = ['Date_Time', 'Pressure', 'Temperature']\n",
    "    df = df.iloc[:-1]   # remove the last row\n",
    "    # convert 'Date_Time' to datetime format and set it as the index\n",
    "    df['Date_Time'] = pd.to_datetime(df['Date_Time'])\n",
    "    df.set_index('Date_Time', inplace=True)\n",
    "    dataframes_dict[file] = df #store the DataFrame in the dictionary with the file name as the key\n",
    "    variable_name = f'df_{file.split(\".\")[0].replace(\"-\", \"_\").replace(\" \", \"_\").replace(\".\", \"_\")}'\n",
    "    exec(f\"{variable_name} = df\") \n"
   ]
  },
  {
   "cell_type": "markdown",
   "metadata": {},
   "source": [
    "make sure to change the ones that are in blue and selected DF!!!! "
   ]
  },
  {
   "cell_type": "code",
   "execution_count": 10,
   "metadata": {},
   "outputs": [
    {
     "name": "stdout",
     "output_type": "stream",
     "text": [
      "BAROM_EXP23 DataFrame:\n",
      "                     Pressure  Temperature\n",
      "Date_Time                                 \n",
      "2023-09-18 00:00:00   754.025        6.573\n",
      "2023-09-18 00:15:00   754.142        6.593\n",
      "2023-09-18 00:30:00   754.142        6.547\n",
      "2023-09-18 00:45:00   754.317        6.357\n",
      "2023-09-18 01:00:00   754.142        6.083\n",
      "...                       ...          ...\n",
      "2023-09-28 20:00:00   808.742       23.727\n",
      "2023-09-28 20:15:00   808.567       23.863\n",
      "2023-09-28 20:30:00   808.858       23.933\n",
      "2023-09-28 20:45:00   808.917       23.987\n",
      "2023-09-28 21:00:00   809.033       24.270\n",
      "\n",
      "[1045 rows x 2 columns]\n",
      "\n",
      "Exported BAROM_EXP23 DataFrame to: EXP23\\BAROM_EXP23.csv\n"
     ]
    }
   ],
   "source": [
    "# Specify the date-time range\n",
    "start_date = '2023-09-17T00:00:00.000Z'\n",
    "end_date = '2023-09-28T00:00:00.000Z'\n",
    "\n",
    "# Select a specific DataFrame \n",
    "selected_df = df_Barometric_2022___2023\n",
    "selected_df.index = pd.to_datetime(selected_df.index)\n",
    "selected_df.index = selected_df.index.tz_localize(None) # remove timezone information\n",
    "selected_df.index = selected_df.index.strftime('%Y-%m-%d %H:%M:%S') # format the datetime index\n",
    "\n",
    "# Export the DataFrame to a CSV file\n",
    "selected_df.to_csv('output.csv')\n",
    "\n",
    "# Filter the data within the specified date-time range\n",
    "spring_df = selected_df.loc[start_date:end_date]\n",
    "\n",
    "# Create a new DataFrame with the desired name (e.g., GW1_SP23)\n",
    "new_df_name = 'BAROM_EXP23'\n",
    "dataframes_dict[new_df_name] = spring_df\n",
    "\n",
    "################## DO NOT CHANGE ANYTHING BELOW THIS LINE ##################\n",
    "# Export the new DataFrame to a CSV file in the 'SP23' folder\n",
    "output_folder = 'EXP23'\n",
    "output_file_path = os.path.join(output_folder, f'{new_df_name}.csv')\n",
    "spring_df.to_csv(output_file_path)\n",
    "\n",
    "# Print information about the new DataFrame and its export\n",
    "print(f\"{new_df_name} DataFrame:\\n{spring_df}\")\n",
    "print(f\"\\nExported {new_df_name} DataFrame to: {output_file_path}\")"
   ]
  },
  {
   "cell_type": "code",
   "execution_count": null,
   "metadata": {},
   "outputs": [],
   "source": []
  }
 ],
 "metadata": {
  "kernelspec": {
   "display_name": "base",
   "language": "python",
   "name": "python3"
  },
  "language_info": {
   "codemirror_mode": {
    "name": "ipython",
    "version": 3
   },
   "file_extension": ".py",
   "mimetype": "text/x-python",
   "name": "python",
   "nbconvert_exporter": "python",
   "pygments_lexer": "ipython3",
   "version": "3.9.12"
  }
 },
 "nbformat": 4,
 "nbformat_minor": 2
}
