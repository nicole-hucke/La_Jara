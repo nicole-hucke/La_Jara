{
 "cells": [
  {
   "cell_type": "code",
   "execution_count": 1,
   "metadata": {},
   "outputs": [],
   "source": [
    "import os\n",
    "import pandas as pd\n",
    "\n",
    "folder_path = 'RAW' # specify the folder path containing your CSV files\n",
    "files = [file for file in os.listdir(folder_path) if file.endswith('.CSV')] # get a list of all CSV files in the folder\n",
    "dataframes_dict = {} # initialize an empty dictionary to store DataFrames\n",
    "\n",
    "# loop through each file and load it into a DataFrame\n",
    "for file in files:\n",
    "    file_path = os.path.join(folder_path, file)\n",
    "    # read file, skip the first 51 rows, and select columns 0, 1, and 2\n",
    "    df = pd.read_csv(file_path, skiprows=51, usecols=[0, 1, 2], parse_dates=[0])\n",
    "    # rename columns as per your requirement\n",
    "    df.columns = ['Date_Time', 'Pressure', 'Temperature']\n",
    "    df = df.iloc[:-1]   # remove the last row\n",
    "    # convert 'Date_Time' to datetime format and set it as the index\n",
    "    df['Date_Time'] = pd.to_datetime(df['Date_Time'])\n",
    "    df.set_index('Date_Time', inplace=True)\n",
    "    dataframes_dict[file] = df #store the DataFrame in the dictionary with the file name as the key\n",
    "    variable_name = f'df_{file.split(\".\")[0].replace(\"-\", \"_\").replace(\" \", \"_\").replace(\".\", \"_\")}'\n",
    "    exec(f\"{variable_name} = df\") \n"
   ]
  },
  {
   "cell_type": "markdown",
   "metadata": {},
   "source": [
    "make sure to change the ones that are in blue and selected DF!!!! "
   ]
  },
  {
   "cell_type": "code",
   "execution_count": 2,
   "metadata": {},
   "outputs": [
    {
     "name": "stdout",
     "output_type": "stream",
     "text": [
      "BAROM_21 DataFrame:\n",
      "                     Pressure  Temperature\n",
      "Date_Time                                 \n",
      "2021-07-29 12:10:00   756.650       34.667\n",
      "2021-07-29 12:25:00   756.358       31.290\n",
      "2021-07-29 12:40:00   756.533       30.810\n",
      "2021-07-29 12:55:00   756.183       30.453\n",
      "2021-07-29 13:10:00   756.358       30.993\n",
      "...                       ...          ...\n",
      "2021-09-17 22:55:00   756.650        9.877\n",
      "2021-09-17 23:10:00   756.767        9.047\n",
      "2021-09-17 23:25:00   756.475        8.650\n",
      "2021-09-17 23:40:00   756.475        8.413\n",
      "2021-09-17 23:55:00   756.650        8.250\n",
      "\n",
      "[4848 rows x 2 columns]\n",
      "\n",
      "Exported BAROM_21 DataFrame to: WC/pressure_2021\\BAROM_21.csv\n"
     ]
    }
   ],
   "source": [
    "# Specify the date-time range\n",
    "start_date = '2021-02-28T00:00:00.000Z'\n",
    "end_date = '2021-09-17T00:00:00.000Z'\n",
    "\n",
    "# Select a specific DataFrame \n",
    "selected_df = df_Barometric_2021_2022\n",
    "selected_df.index = pd.to_datetime(selected_df.index)\n",
    "selected_df.index = selected_df.index.tz_localize(None) # remove timezone information\n",
    "selected_df.index = selected_df.index.strftime('%Y-%m-%d %H:%M:%S') # format the datetime index\n",
    "\n",
    "# Filter the data within the specified date-time range\n",
    "cropped_df = selected_df.loc[start_date:end_date]\n",
    "\n",
    "# Create a new DataFrame with the desired name (e.g., GW1_SP23)\n",
    "new_df_name = 'BAROM_21'\n",
    "dataframes_dict[new_df_name] = cropped_df\n",
    "\n",
    "################## DO NOT CHANGE ANYTHING BELOW THIS LINE ##################\n",
    "# Export the new DataFrame to a CSV file in the 'WC' folder\n",
    "output_folder = 'WC/pressure_2021'\n",
    "output_file_path = os.path.join(output_folder, f'{new_df_name}.csv')\n",
    "cropped_df.to_csv(output_file_path)\n",
    "\n",
    "# Print information about the new DataFrame and its export\n",
    "print(f\"{new_df_name} DataFrame:\\n{cropped_df}\")\n",
    "print(f\"\\nExported {new_df_name} DataFrame to: {output_file_path}\")"
   ]
  },
  {
   "cell_type": "markdown",
   "metadata": {},
   "source": [
    "### For 2022, I have my data in two different dataframes"
   ]
  },
  {
   "cell_type": "code",
   "execution_count": 8,
   "metadata": {},
   "outputs": [
    {
     "name": "stdout",
     "output_type": "stream",
     "text": [
      "P6C_22 DataFrame:\n",
      "                     Pressure  Temperature\n",
      "Date_Time                                 \n",
      "2022-02-28 00:00:00   745.917       -2.030\n",
      "2022-02-28 00:15:00   745.567       -1.963\n",
      "2022-02-28 00:30:00   745.567       -1.893\n",
      "2022-02-28 00:45:00   745.042       -1.820\n",
      "2022-02-28 01:00:00   744.867       -1.743\n",
      "...                       ...          ...\n",
      "2022-09-16 23:00:00   746.558        7.943\n",
      "2022-09-16 23:15:00   746.383        7.903\n",
      "2022-09-16 23:30:00   746.383        7.857\n",
      "2022-09-16 23:45:00   746.208        7.817\n",
      "2022-09-17 00:00:00   746.208        7.793\n",
      "\n",
      "[12897 rows x 2 columns]\n",
      "\n",
      "Exported P6C_22 DataFrame to: WC/pressure_2022\\P6C_22.csv\n"
     ]
    }
   ],
   "source": [
    "start_date = '2022-02-28T00:00:00.000Z'\n",
    "end_date = '2022-09-17T00:00:00.000Z'\n",
    "\n",
    "# Select a specific DataFrame \n",
    "df1 = df_P6_C_231205124627_U1655 #this one has the start date\n",
    "df2 = df_P6_C_231205124640_U1655 #this one has the end date\n",
    "\n",
    "# Concatenate the two dataframes along the columns\n",
    "combined_df = pd.concat([df1, df2], axis=0)\n",
    "\n",
    "# Now, 'combined_df' has both the start dates and end dates\n",
    "combined_df.index = pd.to_datetime(combined_df.index)\n",
    "combined_df.index = combined_df.index.tz_localize(None) # remove timezone information\n",
    "combined_df.index = combined_df.index.strftime('%Y-%m-%d %H:%M:%S') # format the datetime index\n",
    "\n",
    "# Convert start_date and end_date to datetime objects\n",
    "start_date_dt = pd.to_datetime(start_date).strftime('%Y-%m-%d %H:%M:%S')\n",
    "end_date_dt = pd.to_datetime(end_date).strftime('%Y-%m-%d %H:%M:%S')\n",
    "\n",
    "# Filter the data within the specified date-time range\n",
    "cropped_df = combined_df.loc[start_date_dt:end_date_dt]\n",
    "\n",
    "# Create a new DataFrame with the desired name (e.g., Barom_22)\n",
    "new_df_name = 'P6C_22'\n",
    "dataframes_dict[new_df_name] = cropped_df\n",
    "\n",
    "################## DO NOT CHANGE ANYTHING BELOW THIS LINE ##################\n",
    "# Export the new DataFrame to a CSV file in the 'WC' folder\n",
    "output_folder = 'WC/pressure_2022'\n",
    "output_file_path = os.path.join(output_folder, f'{new_df_name}.csv')\n",
    "cropped_df.to_csv(output_file_path)\n",
    "\n",
    "# Print information about the new DataFrame and its export\n",
    "print(f\"{new_df_name} DataFrame:\\n{cropped_df}\")\n",
    "print(f\"\\nExported {new_df_name} DataFrame to: {output_file_path}\") "
   ]
  },
  {
   "cell_type": "code",
   "execution_count": null,
   "metadata": {},
   "outputs": [],
   "source": []
  }
 ],
 "metadata": {
  "kernelspec": {
   "display_name": "base",
   "language": "python",
   "name": "python3"
  },
  "language_info": {
   "codemirror_mode": {
    "name": "ipython",
    "version": 3
   },
   "file_extension": ".py",
   "mimetype": "text/x-python",
   "name": "python",
   "nbconvert_exporter": "python",
   "pygments_lexer": "ipython3",
   "version": "3.9.10"
  }
 },
 "nbformat": 4,
 "nbformat_minor": 2
}
