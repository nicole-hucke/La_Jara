{
 "cells": [
  {
   "cell_type": "code",
   "execution_count": 1,
   "metadata": {},
   "outputs": [],
   "source": [
    "import os\n",
    "import pandas as pd\n",
    "import numpy as np\n",
    "\n",
    "folder_path = 'SM23' # specify the folder path containing your CSV files\n",
    "files = [file for file in os.listdir(folder_path) if file.endswith('.csv')] # get a list of all CSV files in the folder\n",
    "\n",
    "# loop through each file and load it into a DataFrame\n",
    "for file in files:\n",
    "    file_path = os.path.join(folder_path, file)\n",
    "    df = pd.read_csv(file_path, usecols=[0, 1, 2], parse_dates=[0]) # the parser will automatically convert the first column to datetime!\n",
    "    df.set_index('Date_Time', inplace=True) # set the datetime column as the index\n",
    "    variable_name = f'{file.split(\".\")[0].replace(\"-\", \"_\").replace(\" \", \"_\").replace(\".\", \"_\")}'\n",
    "    exec(f\"{variable_name} = df\") "
   ]
  },
  {
   "cell_type": "markdown",
   "metadata": {},
   "source": [
    "I need to interpolate the time values, since the start and end time for the barometer is different."
   ]
  },
  {
   "cell_type": "code",
   "execution_count": 2,
   "metadata": {},
   "outputs": [
    {
     "name": "stdout",
     "output_type": "stream",
     "text": [
      "DatetimeIndex(['2023-06-21 00:00:00', '2023-06-21 00:05:00',\n",
      "               '2023-06-21 00:10:00', '2023-06-21 00:15:00',\n",
      "               '2023-06-21 00:20:00', '2023-06-21 00:25:00',\n",
      "               '2023-06-21 00:30:00', '2023-06-21 00:35:00',\n",
      "               '2023-06-21 00:40:00', '2023-06-21 00:45:00',\n",
      "               ...\n",
      "               '2023-09-22 23:00:00', '2023-09-22 23:05:00',\n",
      "               '2023-09-22 23:10:00', '2023-09-22 23:15:00',\n",
      "               '2023-09-22 23:20:00', '2023-09-22 23:25:00',\n",
      "               '2023-09-22 23:30:00', '2023-09-22 23:35:00',\n",
      "               '2023-09-22 23:40:00', '2023-09-22 23:45:00'],\n",
      "              dtype='datetime64[ns]', name='Date_Time', length=27070, freq='5T')\n"
     ]
    }
   ],
   "source": [
    "# get the barometric DataFrame\n",
    "barom_df = eval('BAROM_SM23')\n",
    "# resample the DataFrame to a 5-minute frequency\n",
    "barom_df_resampled = barom_df.resample('5T')\n",
    "# interpolate the missing values\n",
    "barom_df_interpolated = barom_df_resampled.interpolate(method='time')\n",
    "print(barom_df_interpolated.index)\n",
    "BAROM_SM23 = barom_df_interpolated"
   ]
  },
  {
   "cell_type": "markdown",
   "metadata": {},
   "source": [
    "Add the barometric pressure as a new column to each DataFrame:"
   ]
  },
  {
   "cell_type": "code",
   "execution_count": 3,
   "metadata": {},
   "outputs": [],
   "source": [
    "# get the barometric DataFrame\n",
    "barom_df = eval('BAROM_SM23')\n",
    "\n",
    "# iterate over all file names in the 'files' list\n",
    "for file in files:\n",
    "    # get the DataFrame name by removing the '.csv' extension from the file name\n",
    "    df_name = file[:-4]\n",
    "    \n",
    "    if df_name != 'BAROM_SM23': # skip the 'BAROM_SM23' DataFrame\n",
    "        # get the DataFrame by its variable name\n",
    "        df = eval(df_name)\n",
    "        # merge the column from 'BAROM_SM23' DataFrame on the index\n",
    "        df = df.join(barom_df['Barom'])\n",
    "        # drop the rows with missing values\n",
    "        df.dropna(inplace=True)\n",
    "        # assign the result back to the DataFrame variable\n",
    "        exec(f\"{df_name} = df\")"
   ]
  },
  {
   "cell_type": "markdown",
   "metadata": {},
   "source": [
    "Now we compensate!"
   ]
  },
  {
   "cell_type": "code",
   "execution_count": 4,
   "metadata": {},
   "outputs": [
    {
     "name": "stdout",
     "output_type": "stream",
     "text": [
      "GW1_SM23\n",
      "The transducer depth for GW1_SM23 is: 0.97 m\n",
      "GW2_SM23\n",
      "The transducer depth for GW2_SM23 is: 1.04 m\n",
      "GW3_SM23\n",
      "The transducer depth for GW3_SM23 is: 1.04 m\n",
      "GW4_SM23\n",
      "The transducer depth for GW4_SM23 is: 1.07 m\n",
      "GW5_SM23\n",
      "The transducer depth for GW5_SM23 is: 1.044 m\n",
      "GW6_SM23\n",
      "The transducer depth for GW6_SM23 is: 1.054 m\n",
      "GW7_SM23\n",
      "The transducer depth for GW7_SM23 is: 1.045 m\n",
      "GW8_SM23\n",
      "The transducer depth for GW8_SM23 is: 1.005 m\n",
      "GW9_SM23\n",
      "The transducer depth for GW9_SM23 is: 0.988 m\n",
      "P1A_SM23\n",
      "The transducer depth for P1A_SM23 is: 0.746 m\n",
      "P1B_SM23\n",
      "The transducer depth for P1B_SM23 is: 0.514 m\n",
      "P1C_SM23\n",
      "The transducer depth for P1C_SM23 is: 0.398 m\n",
      "P2A_SM23\n",
      "The transducer depth for P2A_SM23 is: 0.69 m\n",
      "P2B_SM23\n",
      "The transducer depth for P2B_SM23 is: 0.575 m\n",
      "P2C_SM23\n",
      "The transducer depth for P2C_SM23 is: 0.428 m\n",
      "P3A_SM23\n",
      "The transducer depth for P3A_SM23 is: 0.616 m\n",
      "P3B_SM23\n",
      "The transducer depth for P3B_SM23 is: 0.562 m\n",
      "P3C_SM23\n",
      "The transducer depth for P3C_SM23 is: 0.293 m\n",
      "P4A_SM23\n",
      "The transducer depth for P4A_SM23 is: 0.656 m\n",
      "P4B_SM23\n",
      "The transducer depth for P4B_SM23 is: 0.56 m\n",
      "P4C_SM23\n",
      "The transducer depth for P4C_SM23 is: 0.384 m\n",
      "P5A_SM23\n",
      "The transducer depth for P5A_SM23 is: 0.724 m\n",
      "P5B_SM23\n",
      "The transducer depth for P5B_SM23 is: 0.586 m\n",
      "P5C_SM23\n",
      "The transducer depth for P5C_SM23 is: 0.477 m\n",
      "P6A_SM23\n",
      "The transducer depth for P6A_SM23 is: 0.705 m\n",
      "P6B_SM23\n",
      "The transducer depth for P6B_SM23 is: 0.574 m\n",
      "P6C_SM23\n",
      "The transducer depth for P6C_SM23 is: 0.4 m\n"
     ]
    }
   ],
   "source": [
    "# use 1 from SM21 to SP22\n",
    "transducer_depths_1 = [1.016, 0.89, 1.107, 1.122, 1.061, 1.071, 1.088, 1.138, 0.921, \n",
    "                        0.696, 0.525, 0.376, 0.526, 0.49, 0.393, 0.604, 0.557, 0.38, 0.67, 0.514, \n",
    "                        0.397, 0.711, 0.532, 0.383, 0.643, 0.551, 0.393]\n",
    "# use 2 from SM22 to SM23\n",
    "transducer_depths_2 = [0.97, 1.04, 1.04, 1.07, 1.044, 1.054, 1.045, 1.005, 0.988, 0.746, \n",
    "                        0.514, 0.398, 0.69, 0.575, 0.428, 0.616, 0.562, 0.293, 0.656, 0.56, \n",
    "                        0.384, 0.724, 0.586, 0.477, 0.705, 0.574, 0.40]\n",
    "\n",
    "densities = pd.read_csv('water_densities.csv', usecols=[0, 1]) \n",
    "# this table contains the water density at different temperatures at 1 atm pressure (our barom is a little bit less than that)\n",
    "# (source: https://www.engineeringtoolbox.com/water-density-specific-weight-d_595.html)\n",
    "\n",
    "# Extract the temperature and density columns from the densities DataFrame\n",
    "temp_values = densities['Temperature'].values\n",
    "density_values = densities['Density (g/cm3)'].values\n",
    "\n",
    "for i, file in enumerate(files):\n",
    "    # get the DataFrame name by removing the '.csv' extension from the file name\n",
    "    df_name = file[:-4]\n",
    "    if df_name != 'BAROM_SM23': # skip the 'BAROM_SM23' DataFrame\n",
    "        # get the DataFrame by its variable name\n",
    "        print(df_name)\n",
    "        df = eval(df_name)\n",
    "\n",
    "        #get the parameters\n",
    "        pressure = df['Pressure']   # Pressure reading in cmH2O\n",
    "        temp = df['Temperature']    # Water temperature in degrees Celsius\n",
    "        barom = df['Barom']  # Atmospheric pressure in cmH2O\n",
    "        d_transducer = transducer_depths_2[i-1] # Depth of the pressure transducer in m (from the list above)\n",
    "\n",
    "        print('The transducer depth for', df_name, 'is:' , d_transducer, 'm')\n",
    "\n",
    "        # convert the pressure from cmH2O to Pascals\n",
    "        barom_pa = barom * 98.0665\n",
    "        pressure_pa = pressure * 98.0665\n",
    "\n",
    "        # interpolate the water density at the measured temperature (originally in g/cm3)\n",
    "        rho = np.interp(temp, temp_values, density_values) * 1000 # convert the density to kg/m3\n",
    "\n",
    "        # calculate the water depth\n",
    "        h = ((pressure_pa - barom_pa) / (rho * 9.81))\n",
    "        # This is how I calculated it for the stilling wells\n",
    "        # h = ((pressure_pa - barom_pa) / (rho * 9.81)) + (0.5 - d_transducer)\n",
    "\n",
    "        # add the water depth as a new column to the DataFrame\n",
    "        df['WaterDepth'] = h\n",
    "\n",
    "        # Save the DataFrame to a CSV file\n",
    "        df.to_csv(f\"{df_name}_depth.csv\")\n",
    "\n",
    "        # Assign the result back to the DataFrame variable\n",
    "        exec(f\"{df_name} = df\")\n",
    "\n"
   ]
  },
  {
   "cell_type": "code",
   "execution_count": null,
   "metadata": {},
   "outputs": [],
   "source": []
  }
 ],
 "metadata": {
  "kernelspec": {
   "display_name": "base",
   "language": "python",
   "name": "python3"
  },
  "language_info": {
   "codemirror_mode": {
    "name": "ipython",
    "version": 3
   },
   "file_extension": ".py",
   "mimetype": "text/x-python",
   "name": "python",
   "nbconvert_exporter": "python",
   "pygments_lexer": "ipython3",
   "version": "3.9.10"
  },
  "orig_nbformat": 4,
  "vscode": {
   "interpreter": {
    "hash": "07878c45a9b18549480ac2f9ecb8f16bb7162456cf654f6757bcff1d6396abe7"
   }
  }
 },
 "nbformat": 4,
 "nbformat_minor": 2
}
