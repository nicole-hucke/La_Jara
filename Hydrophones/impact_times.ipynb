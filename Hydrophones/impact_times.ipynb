{
 "cells": [
  {
   "cell_type": "markdown",
   "id": "e0cdc3ca",
   "metadata": {},
   "source": [
    "### Script to determine the time when sediment transport was captured by hydrophones in La Jara"
   ]
  },
  {
   "cell_type": "code",
   "execution_count": 2,
   "id": "d0ae65a3",
   "metadata": {},
   "outputs": [],
   "source": [
    "import os\n",
    "import re\n",
    "import numpy as np\n",
    "import librosa\n",
    "import scipy.signal\n",
    "from datetime import datetime, timedelta\n",
    "import matplotlib.pyplot as plt\n"
   ]
  },
  {
   "cell_type": "markdown",
   "id": "6ad0f46e",
   "metadata": {},
   "source": [
    "Defining functions"
   ]
  },
  {
   "cell_type": "code",
   "execution_count": null,
   "id": "49812d64",
   "metadata": {},
   "outputs": [],
   "source": [
    "def plot_raw_signals(storm_folder):\n",
    "    # create output folder\n",
    "    output_folder = os.path.join(storm_folder, \"raw_signal_plots\")\n",
    "    os.makedirs(output_folder, exist_ok=True)\n",
    "\n",
    "    # Initialize lists to store min/max values of all signals\n",
    "    all_left_signals = []\n",
    "    all_right_signals = []\n",
    "\n",
    "    # First loop through all files to collect min/max values\n",
    "    for filename in sorted(os.listdir(storm_folder)):\n",
    "        if filename.endswith(\".flac\"):\n",
    "            filepath = os.path.join(storm_folder, filename)\n",
    "            try:\n",
    "                # Load stereo signal\n",
    "                signal, sr = librosa.load(filepath, sr=None, mono=False)\n",
    "\n",
    "                # Append the signals to the lists\n",
    "                all_left_signals.append(signal[0])\n",
    "                all_right_signals.append(signal[1])\n",
    "\n",
    "            except Exception as e:\n",
    "                print(f\"Skipped {filename}: {e}\")\n",
    "\n",
    "    # Now calculate global min/max for left and right signals across all files\n",
    "    left_min = np.min(np.concatenate(all_left_signals))\n",
    "    left_max = np.max(np.concatenate(all_left_signals))\n",
    "    right_min = np.min(np.concatenate(all_right_signals))\n",
    "    right_max = np.max(np.concatenate(all_right_signals))\n",
    "\n",
    "    # Loop again to plot the signals with consistent Y-axis limits\n",
    "    for filename in sorted(os.listdir(storm_folder)):\n",
    "        if filename.endswith(\".flac\"):\n",
    "            filepath = os.path.join(storm_folder, filename)\n",
    "            try:\n",
    "                # Load stereo signal\n",
    "                signal, sr = librosa.load(filepath, sr=None, mono=False)\n",
    "\n",
    "                # Create time axis\n",
    "                duration = signal.shape[-1] / sr\n",
    "                time = np.linspace(0, duration, signal.shape[-1])\n",
    "\n",
    "                # Plot\n",
    "                fig, axes = plt.subplots(2, 1, figsize=(12, 6), sharex=True)\n",
    "\n",
    "                # Plot Right Channel (Top)\n",
    "                axes[0].plot(time, signal[1], label='Right Channel', color='b', alpha=0.7)\n",
    "                axes[0].set_title(f\"Right Channel: {filename}\")\n",
    "                axes[0].set_ylabel(\"Amplitude\")\n",
    "                axes[0].legend()\n",
    "\n",
    "                # Plot Left Channel (Bottom)\n",
    "                axes[1].plot(time, signal[0], label='Left Channel', color='r', alpha=0.7)\n",
    "                axes[1].set_title(f\"Left Channel: {filename}\")\n",
    "                axes[1].set_xlabel(\"Time (s)\")\n",
    "                axes[1].set_ylabel(\"Amplitude\")\n",
    "                axes[1].legend()\n",
    "\n",
    "                # Set consistent Y-axis limits\n",
    "                axes[0].set_ylim([right_min, right_max])  # Right channel\n",
    "                axes[1].set_ylim([left_min, left_max])  # Left channel\n",
    "\n",
    "                # Adjust layout to prevent overlap\n",
    "                plt.tight_layout()\n",
    "\n",
    "                # Save the figure\n",
    "                save_path = os.path.join(output_folder, f\"{filename.replace('.flac', '')}_raw.png\")\n",
    "                plt.savefig(save_path)\n",
    "                plt.close()\n",
    "\n",
    "            except Exception as e:\n",
    "                print(f\"Skipped {filename}: {e}\")\n",
    "\n",
    "\n",
    "\n",
    "############################################################\n",
    "\n",
    "def compute_baseflow_threshold(baseflow_folder, channel=\"left\", margin_factor=1):\n",
    "    envelopes = []\n",
    "\n",
    "    for filename in sorted(os.listdir(baseflow_folder)):\n",
    "        if filename.endswith(\".flac\"):\n",
    "            filepath = os.path.join(baseflow_folder, filename) # get full path\n",
    "            # parse timestamp from filename\n",
    "            try:\n",
    "                signal, sr = librosa.load(filepath, sr=None, mono=False) # load stereo audio\n",
    "                if signal.ndim > 1:\n",
    "                    signal = signal[0] if channel == \"left\" else signal[1] # select channel input by user\n",
    "\n",
    "                # compute the envelope using the Hilbert transform\n",
    "                analytic_signal = scipy.signal.hilbert(signal)\n",
    "                envelope = np.abs(analytic_signal)\n",
    "                envelopes.append(envelope)\n",
    "            except Exception as e:\n",
    "                print(f\"Skipping {filename}: {e}\")\n",
    "\n",
    "    # Concatenate all envelopes and find the maximum value\n",
    "    all_envelopes = np.concatenate(envelopes)\n",
    "    max_envelope_value = np.max(all_envelopes)\n",
    "    envelope_std = np.std(all_envelopes) # calculate std deviation of all envelopes\n",
    "    error_margin = margin_factor * envelope_std\n",
    "\n",
    "    # Set the threshold as the max envelope value + the error margin\n",
    "    threshold = max_envelope_value + error_margin\n",
    "\n",
    "    print(f\"Computed threshold (max + error): {threshold:.6f} (max: {max_envelope_value:.6f}, margin: {error_margin:.6f})\")\n",
    "    return threshold\n",
    "\n",
    "#############################################################\n",
    "\n",
    "def get_first_impact_time(storm_folder, threshold, channel='left'):\n",
    "    impact_times = []\n",
    "    envelope_folder = os.path.join(storm_folder, \"envelopes\")\n",
    "    os.makedirs(envelope_folder, exist_ok=True)\n",
    "\n",
    "    for filename in sorted(os.listdir(storm_folder)): # lopp thru all .flac files\n",
    "        if filename.endswith('.flac'):\n",
    "            # parse timestamp from filename\n",
    "            match = re.search(r'(\\d{6})-(\\d{6})', filename) # in MMDDYY-HHMMSS format\n",
    "            if not match: # if none found, skip this file\n",
    "                continue\n",
    "            date_part = match.group(1)\n",
    "            time_part = match.group(2)\n",
    "            start_time = datetime.strptime(date_part + time_part, '%m%d%y%H%M%S') # create date time object with that time\n",
    "\n",
    "            # load stereo audio (sr=None preserves original sampling rate)\n",
    "            filepath = os.path.join(storm_folder, filename)\n",
    "            signal, sr = librosa.load(filepath, sr=None, mono=False)\n",
    "            \n",
    "            # select left or right channel\n",
    "            signal = signal[0] if channel == 'left' else signal[1]\n",
    "\n",
    "            # Hilbert transform to get the envelope\n",
    "            envelope = np.abs(scipy.signal.hilbert(signal))\n",
    "\n",
    "            # plot and save envelope\n",
    "            times = np.arange(len(envelope)) / sr\n",
    "            plt.figure(figsize=(10, 4))\n",
    "            plt.plot(times, envelope, label=\"Envelope\")\n",
    "            plt.axhline(y=threshold, color='r', linestyle='--', label='Threshold')\n",
    "            plt.title(f\"Envelope: {filename}\")\n",
    "            plt.xlabel(\"Time (s)\")\n",
    "            plt.ylabel(\"Normalized Amplitude\")\n",
    "            plt.legend()\n",
    "            plt.tight_layout()\n",
    "\n",
    "            save_path = os.path.join(envelope_folder, f\"{filename.replace('.flac', '')}_envelope.png\")\n",
    "            plt.savefig(save_path)\n",
    "            plt.close()\n",
    "            \n",
    "            # Find when the signal exceeds the threshold\n",
    "            above_threshold = np.where(envelope > threshold)[0]\n",
    "            if len(above_threshold) > 0:\n",
    "                impact_sample = above_threshold[0]\n",
    "                impact_time = start_time + timedelta(seconds=impact_sample / sr)\n",
    "                impact_times.append((filename, impact_time))\n",
    "                print(f\"First impact in {filename} at {impact_time}\")\n",
    "                break  # stop after first impact is found\n",
    "\n",
    "    return impact_times"
   ]
  },
  {
   "cell_type": "markdown",
   "id": "7edbdb86",
   "metadata": {},
   "source": [
    "Plotting the raw acoustic signal"
   ]
  },
  {
   "cell_type": "code",
   "execution_count": 15,
   "id": "00ffe15d",
   "metadata": {},
   "outputs": [],
   "source": [
    "storm_path = \"H1/st3\"\n",
    "plot_raw_signals(storm_path) "
   ]
  },
  {
   "cell_type": "code",
   "execution_count": 16,
   "id": "763291d7",
   "metadata": {},
   "outputs": [],
   "source": [
    "storm_path = \"H1/st4\"\n",
    "plot_raw_signals(storm_path) "
   ]
  },
  {
   "cell_type": "code",
   "execution_count": 17,
   "id": "c6d4196e",
   "metadata": {},
   "outputs": [],
   "source": [
    "storm_path = \"H1/st5\"\n",
    "plot_raw_signals(storm_path) "
   ]
  },
  {
   "cell_type": "code",
   "execution_count": 18,
   "id": "9e0b028c",
   "metadata": {},
   "outputs": [],
   "source": [
    "storm_path = \"H1/st6\"\n",
    "plot_raw_signals(storm_path) "
   ]
  },
  {
   "cell_type": "code",
   "execution_count": 19,
   "id": "334366d6",
   "metadata": {},
   "outputs": [],
   "source": [
    "storm_path = \"H1/st7\"\n",
    "plot_raw_signals(storm_path) "
   ]
  },
  {
   "cell_type": "markdown",
   "id": "749a2ea2",
   "metadata": {},
   "source": [
    "Processing the timing of each storm: "
   ]
  },
  {
   "cell_type": "code",
   "execution_count": null,
   "id": "6fb5b5c5",
   "metadata": {},
   "outputs": [],
   "source": [
    "storm_path = \"H1/st1\"\n",
    "baseflow_path = \"H1/st1/baseflow\"\n",
    "\n",
    "threshold = compute_baseflow_threshold(baseflow_path, channel=\"right\")\n",
    "get_first_impact_time(storm_path, threshold, channel=\"right\")"
   ]
  },
  {
   "cell_type": "code",
   "execution_count": 13,
   "id": "975b3b79",
   "metadata": {},
   "outputs": [
    {
     "name": "stdout",
     "output_type": "stream",
     "text": [
      "Computed threshold (max + error): 0.009335 (max: 0.009218, margin: 0.000118)\n",
      "First impact in raspberrypi_080322-143100.flac at 2022-08-03 14:31:42.371927\n"
     ]
    },
    {
     "data": {
      "text/plain": [
       "[('raspberrypi_080322-143100.flac',\n",
       "  datetime.datetime(2022, 8, 3, 14, 31, 42, 371927))]"
      ]
     },
     "execution_count": 13,
     "metadata": {},
     "output_type": "execute_result"
    }
   ],
   "source": [
    "storm_path = \"H1/st2\"\n",
    "baseflow_path = \"H1/st2/baseflow\"\n",
    "\n",
    "threshold = compute_baseflow_threshold(baseflow_path, channel=\"right\")\n",
    "get_first_impact_time(storm_path, threshold, channel=\"right\")"
   ]
  },
  {
   "cell_type": "code",
   "execution_count": 20,
   "id": "7dcee896",
   "metadata": {},
   "outputs": [
    {
     "name": "stdout",
     "output_type": "stream",
     "text": [
      "Computed threshold (max + error): 2.887115 (max: 2.872973, margin: 0.014142)\n"
     ]
    },
    {
     "data": {
      "text/plain": [
       "[]"
      ]
     },
     "execution_count": 20,
     "metadata": {},
     "output_type": "execute_result"
    }
   ],
   "source": [
    "storm_path = \"H1/st3\"\n",
    "baseflow_path = \"H1/st3/baseflow\"\n",
    "\n",
    "threshold = compute_baseflow_threshold(baseflow_path, channel=\"left\")\n",
    "get_first_impact_time(storm_path, threshold, channel=\"left\")"
   ]
  },
  {
   "cell_type": "code",
   "execution_count": 21,
   "id": "6f7b4700",
   "metadata": {},
   "outputs": [
    {
     "name": "stdout",
     "output_type": "stream",
     "text": [
      "Computed threshold (max + error): 0.005599 (max: 0.005481, margin: 0.000119)\n",
      "First impact in raspberrypi_072923-133000.flac at 2023-07-29 13:30:14.182268\n"
     ]
    },
    {
     "data": {
      "text/plain": [
       "[('raspberrypi_072923-133000.flac',\n",
       "  datetime.datetime(2023, 7, 29, 13, 30, 14, 182268))]"
      ]
     },
     "execution_count": 21,
     "metadata": {},
     "output_type": "execute_result"
    }
   ],
   "source": [
    "storm_path = \"H1/st4\"\n",
    "baseflow_path = \"H1/st4/baseflow\"\n",
    "\n",
    "threshold = compute_baseflow_threshold(baseflow_path, channel=\"left\")\n",
    "get_first_impact_time(storm_path, threshold, channel=\"left\")"
   ]
  },
  {
   "cell_type": "code",
   "execution_count": 22,
   "id": "7bf1bcf8",
   "metadata": {},
   "outputs": [
    {
     "name": "stdout",
     "output_type": "stream",
     "text": [
      "Computed threshold (max + error): 0.177341 (max: 0.173669, margin: 0.003672)\n",
      "First impact in raspberrypi_081323-183000.flac at 2023-08-13 18:30:00.018707\n"
     ]
    },
    {
     "data": {
      "text/plain": [
       "[('raspberrypi_081323-183000.flac',\n",
       "  datetime.datetime(2023, 8, 13, 18, 30, 0, 18707))]"
      ]
     },
     "execution_count": 22,
     "metadata": {},
     "output_type": "execute_result"
    }
   ],
   "source": [
    "storm_path = \"H1/st5\"\n",
    "baseflow_path = \"H1/st5/baseflow\"\n",
    "\n",
    "threshold = compute_baseflow_threshold(baseflow_path, channel=\"right\")\n",
    "get_first_impact_time(storm_path, threshold, channel=\"right\")"
   ]
  },
  {
   "cell_type": "code",
   "execution_count": 23,
   "id": "90226ba9",
   "metadata": {},
   "outputs": [
    {
     "name": "stdout",
     "output_type": "stream",
     "text": [
      "Computed threshold (max + error): 0.021649 (max: 0.021173, margin: 0.000476)\n",
      "First impact in raspberrypi_082823-121500.flac at 2023-08-28 12:15:30.017868\n"
     ]
    },
    {
     "data": {
      "text/plain": [
       "[('raspberrypi_082823-121500.flac',\n",
       "  datetime.datetime(2023, 8, 28, 12, 15, 30, 17868))]"
      ]
     },
     "execution_count": 23,
     "metadata": {},
     "output_type": "execute_result"
    }
   ],
   "source": [
    "storm_path = \"H1/st6\"\n",
    "baseflow_path = \"H1/st6/baseflow\"\n",
    "\n",
    "threshold = compute_baseflow_threshold(baseflow_path, channel=\"left\")\n",
    "get_first_impact_time(storm_path, threshold, channel=\"left\")"
   ]
  },
  {
   "cell_type": "code",
   "execution_count": 24,
   "id": "050163b3",
   "metadata": {},
   "outputs": [
    {
     "name": "stdout",
     "output_type": "stream",
     "text": [
      "Computed threshold (max + error): 0.012496 (max: 0.012273, margin: 0.000223)\n"
     ]
    },
    {
     "name": "stderr",
     "output_type": "stream",
     "text": [
      "C:\\Users\\huck4481\\AppData\\Local\\Temp\\ipykernel_79180\\1227782215.py:145: UserWarning: Creating legend with loc=\"best\" can be slow with large amounts of data.\n",
      "  plt.tight_layout()\n",
      "C:\\Users\\huck4481\\AppData\\Local\\Temp\\ipykernel_79180\\1227782215.py:148: UserWarning: Creating legend with loc=\"best\" can be slow with large amounts of data.\n",
      "  plt.savefig(save_path)\n"
     ]
    },
    {
     "name": "stdout",
     "output_type": "stream",
     "text": [
      "First impact in raspberrypi_091423-140000.flac at 2023-09-14 14:00:01.836757\n"
     ]
    },
    {
     "data": {
      "text/plain": [
       "[('raspberrypi_091423-140000.flac',\n",
       "  datetime.datetime(2023, 9, 14, 14, 0, 1, 836757))]"
      ]
     },
     "execution_count": 24,
     "metadata": {},
     "output_type": "execute_result"
    }
   ],
   "source": [
    "storm_path = \"H1/st7\"\n",
    "baseflow_path = \"H1/st7/baseflow\"\n",
    "\n",
    "threshold = compute_baseflow_threshold(baseflow_path, channel=\"left\")\n",
    "get_first_impact_time(storm_path, threshold, channel=\"left\")"
   ]
  },
  {
   "cell_type": "code",
   "execution_count": null,
   "id": "aba049a5",
   "metadata": {},
   "outputs": [],
   "source": []
  }
 ],
 "metadata": {
  "kernelspec": {
   "display_name": "Python 3",
   "language": "python",
   "name": "python3"
  },
  "language_info": {
   "codemirror_mode": {
    "name": "ipython",
    "version": 3
   },
   "file_extension": ".py",
   "mimetype": "text/x-python",
   "name": "python",
   "nbconvert_exporter": "python",
   "pygments_lexer": "ipython3",
   "version": "3.9.10"
  }
 },
 "nbformat": 4,
 "nbformat_minor": 5
}
