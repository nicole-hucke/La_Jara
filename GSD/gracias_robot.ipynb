{
 "cells": [
  {
   "cell_type": "markdown",
   "metadata": {},
   "source": [
    "## This code is import all LISST ASC. files and convert them to a readable format"
   ]
  },
  {
   "cell_type": "markdown",
   "metadata": {},
   "source": [
    "Spring 2023"
   ]
  },
  {
   "cell_type": "code",
   "execution_count": 8,
   "metadata": {},
   "outputs": [],
   "source": [
    "import numpy as np\n",
    "import pandas as pd\n",
    "import matplotlib.pyplot as plt\n",
    "import os \n",
    "\n",
    "# identify the directory as the \"Raw_LISST_files\" folder\n",
    "directory = \"Raw_LISST_files/Spring 2023\"\n",
    "\n",
    "# make a list of all the files in the directory\n",
    "files = os.listdir(directory)\n",
    "\n",
    "# create a list to store DataFrames\n",
    "dfs = []\n",
    "\n",
    "# iterate over the files\n",
    "for file in files:\n",
    "    # check if the file is an ASC file\n",
    "    if file.endswith('.ASC'):\n",
    "        # read the file\n",
    "        data = pd.read_csv(directory + '/' + file, delimiter=',', skiprows=3)\n",
    "        # transpose the data\n",
    "        data_transposed = data.transpose()\n",
    "        # convert the second column to a numeric type\n",
    "        data_transposed.iloc[:, 1] = pd.to_numeric(data_transposed.iloc[:, 1], errors='coerce')\n",
    "        # convert the second column to a DataFrame and set the column name to the file name\n",
    "        df = data_transposed.iloc[:, 1].to_frame(name=file)\n",
    "        # add the DataFrame to the list\n",
    "        dfs.append(df)\n",
    "\n",
    "# concatenate all the DataFrames in the list into a single DataFrame\n",
    "final_df = pd.concat(dfs, axis=1)"
   ]
  },
  {
   "cell_type": "code",
   "execution_count": 9,
   "metadata": {},
   "outputs": [],
   "source": [
    "# get rid of the last 22 rows\n",
    "final_df = final_df[:-22]\n",
    "# get rid of the first 21 rows\n",
    "final_df = final_df[21:]"
   ]
  },
  {
   "cell_type": "code",
   "execution_count": null,
   "metadata": {},
   "outputs": [],
   "source": []
  }
 ],
 "metadata": {
  "kernelspec": {
   "display_name": "Python 3",
   "language": "python",
   "name": "python3"
  },
  "language_info": {
   "codemirror_mode": {
    "name": "ipython",
    "version": 3
   },
   "file_extension": ".py",
   "mimetype": "text/x-python",
   "name": "python",
   "nbconvert_exporter": "python",
   "pygments_lexer": "ipython3",
   "version": "3.9.10"
  }
 },
 "nbformat": 4,
 "nbformat_minor": 2
}
