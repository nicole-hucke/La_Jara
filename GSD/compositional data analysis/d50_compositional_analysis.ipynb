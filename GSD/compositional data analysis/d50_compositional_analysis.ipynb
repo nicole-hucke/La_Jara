{
 "cells": [
  {
   "cell_type": "markdown",
   "metadata": {},
   "source": [
    "# D50 compositional ANOVA teste between seasons and trap type"
   ]
  },
  {
   "cell_type": "code",
   "execution_count": 2,
   "metadata": {},
   "outputs": [],
   "source": [
    "import numpy as np\n",
    "import pandas as pd\n",
    "from scipy.stats import f_oneway\n",
    "import statsmodels.api as sm\n",
    "from statsmodels.formula.api import ols\n",
    "\n",
    "spring_fine = pd.read_csv('data/D50/spring_2023_d50_LISST.csv')\n",
    "summer_fine = pd.read_csv('data/D50/summer_2023_d50_LISST.csv')\n",
    "grain_sizes = spring_fine['sample']"
   ]
  },
  {
   "cell_type": "markdown",
   "metadata": {},
   "source": [
    "Defining function"
   ]
  },
  {
   "cell_type": "code",
   "execution_count": 3,
   "metadata": {},
   "outputs": [],
   "source": [
    "def clr_manual(data):\n",
    "    # compute geometric mean\n",
    "    geometric_mean = np.exp(np.mean(np.log(data + 1e-20), axis=1)) # add a small number to avoid log(0)\n",
    "    clr_transformed = np.log((data.T + 1e-20) / geometric_mean).T\n",
    "    return clr_transformed"
   ]
  },
  {
   "cell_type": "markdown",
   "metadata": {},
   "source": [
    "## Spring Fine Sediment "
   ]
  },
  {
   "cell_type": "markdown",
   "metadata": {},
   "source": [
    "Separating by flux direction and basket type"
   ]
  },
  {
   "cell_type": "code",
   "execution_count": 4,
   "metadata": {},
   "outputs": [],
   "source": [
    "# separate by flux\n",
    "upwelling = spring_fine[['T1-A', 'T1-B', 'T1-C', 'T1-D', 'T5-A', 'T5-B', 'T5-C', 'T5-D']]\n",
    "upwelling.index = grain_sizes\n",
    "downwelling = spring_fine[['T2-A', 'T2-B', 'T3-C', 'T3-D', 'T6-A', 'T6-B', 'T6-C', 'T6-D', 'T7-A', 'T7-B', 'T7-C', 'T7-D','T8-C', 'T8-D']]\n",
    "downwelling.index = grain_sizes\n",
    "\n",
    "# transpose and make the first row the column names\n",
    "upwelling = upwelling.T\n",
    "upwelling.columns = grain_sizes\n",
    "downwelling = downwelling.T\n",
    "downwelling.columns = grain_sizes\n",
    "\n",
    "# add trap type column \n",
    "# if the index ends in A or D its closed, if it ends in B or C its open\n",
    "upwelling['trap_type'] = ['closed' if i[-1] in ['A', 'D'] else 'open' for i in upwelling.index]\n",
    "downwelling['trap_type'] = ['closed' if i[-1] in ['A', 'D'] else 'open' for i in downwelling.index]"
   ]
  },
  {
   "cell_type": "markdown",
   "metadata": {},
   "source": [
    "Upwelling"
   ]
  },
  {
   "cell_type": "code",
   "execution_count": 5,
   "metadata": {},
   "outputs": [
    {
     "name": "stdout",
     "output_type": "stream",
     "text": [
      "Spring Fine Upwelling ANOVA results for mean CLR scores:\n",
      "                    sum_sq   df         F    PR(>F)\n",
      "C(trap_type)  1.386670e-32  1.0  0.771429  0.413561\n",
      "Residual      1.078521e-31  6.0       NaN       NaN\n"
     ]
    }
   ],
   "source": [
    "# apply CLR transformation to the data (excluding the 'trap_type' column)\n",
    "clr_transformed_data = clr_manual(upwelling.drop('trap_type', axis=1))\n",
    "# convert CLR data to DataFrame and add the TrapType column back\n",
    "clr_df = pd.DataFrame(clr_transformed_data)\n",
    "clr_df['trap_type'] = upwelling['trap_type']\n",
    "# rename columns to not have a dot for the decimals in the name\n",
    "clr_df.columns = ['size_' + str(col).replace('.', '') if str(col)[0].isdigit() else str(col) for col in clr_df.columns]\n",
    "\n",
    "# conduct ANOVA on each sizes CLR transformed data\n",
    "anova_results = {}\n",
    "for column in clr_df.columns[:-1]:  # exclude 'trap_type' column\n",
    "    model = ols(f'{column} ~ C(trap_type)', data=clr_df).fit()\n",
    "    anova_table = sm.stats.anova_lm(model, typ=2)\n",
    "    anova_results[column] = anova_table\n",
    "\n",
    "# display ANOVA results for each element\n",
    "results = []\n",
    "for element, result in anova_results.items():\n",
    "    #print(f\"ANOVA results for {element}:\")\n",
    "    #print(result, \"\\n\")\n",
    "    results.append(result)\n",
    "# concatenate all results into a single DataFrame\n",
    "results_df = pd.concat(results)\n",
    "# save the results to a CSV file\n",
    "results_df.to_csv('results/d50/spring_fine_upwelling_anova_d50.csv', index=False)\n",
    "\n",
    "# overall ANOVA using the mean clr scores across elements\n",
    "clr_df['mean_clr'] = clr_df.drop('trap_type', axis=1).mean(axis=1)\n",
    "model_mean_clr = ols('mean_clr ~ C(trap_type)', data=clr_df).fit()\n",
    "anova_mean_clr = sm.stats.anova_lm(model_mean_clr, typ=2)\n",
    "print(\"Spring Fine Upwelling ANOVA results for mean CLR scores:\")\n",
    "print(anova_mean_clr)"
   ]
  },
  {
   "cell_type": "markdown",
   "metadata": {},
   "source": [
    "Downwelling"
   ]
  },
  {
   "cell_type": "code",
   "execution_count": 6,
   "metadata": {},
   "outputs": [
    {
     "name": "stdout",
     "output_type": "stream",
     "text": [
      "Spring Fine Downwelling ANOVA results for mean CLR scores:\n",
      "                    sum_sq    df         F    PR(>F)\n",
      "C(trap_type)  1.408680e-32   1.0  0.424779  0.526848\n",
      "Residual      3.979522e-31  12.0       NaN       NaN\n"
     ]
    }
   ],
   "source": [
    "# apply CLR transformation to the data (excluding the 'trap_type' column)\n",
    "clr_transformed_data = clr_manual(downwelling.drop('trap_type', axis=1))\n",
    "# convert CLR data to DataFrame and add the TrapType column back\n",
    "clr_df = pd.DataFrame(clr_transformed_data)\n",
    "clr_df['trap_type'] = downwelling['trap_type']\n",
    "# rename columns to not have a dot for the decimals in the name\n",
    "clr_df.columns = ['size_' + str(col).replace('.', '') if str(col)[0].isdigit() else str(col) for col in clr_df.columns]\n",
    "\n",
    "# conduct ANOVA on each sizes CLR transformed data\n",
    "anova_results = {}\n",
    "for column in clr_df.columns[:-1]:  # exclude 'trap_type' column\n",
    "    model = ols(f'{column} ~ C(trap_type)', data=clr_df).fit()\n",
    "    anova_table = sm.stats.anova_lm(model, typ=2)\n",
    "    anova_results[column] = anova_table\n",
    "\n",
    "# display ANOVA results for each element\n",
    "results = []\n",
    "for element, result in anova_results.items():\n",
    "    #print(f\"ANOVA results for {element}:\")\n",
    "    #print(result, \"\\n\")\n",
    "    results.append(result)\n",
    "# concatenate all results into a single DataFrame\n",
    "results_df = pd.concat(results)\n",
    "# save the results to a CSV file\n",
    "results_df.to_csv('results/d50/spring_fine_downwelling_anova_d50.csv', index=False)\n",
    "\n",
    "# overall ANOVA using the mean clr scores across elements\n",
    "clr_df['mean_clr'] = clr_df.drop('trap_type', axis=1).mean(axis=1)\n",
    "model_mean_clr = ols('mean_clr ~ C(trap_type)', data=clr_df).fit()\n",
    "anova_mean_clr = sm.stats.anova_lm(model_mean_clr, typ=2)\n",
    "print(\"Spring Fine Downwelling ANOVA results for mean CLR scores:\")\n",
    "print(anova_mean_clr)"
   ]
  },
  {
   "cell_type": "markdown",
   "metadata": {},
   "source": [
    "## Summer Fine Sediment "
   ]
  },
  {
   "cell_type": "markdown",
   "metadata": {},
   "source": [
    "Separating by flux direction and basket type"
   ]
  },
  {
   "cell_type": "code",
   "execution_count": 7,
   "metadata": {},
   "outputs": [],
   "source": [
    "# separate by flux\n",
    "upwelling = summer_fine[['T5-A', 'T5-B', 'T5-C', 'T5-D']]\n",
    "upwelling.index = grain_sizes\n",
    "downwelling = summer_fine[['T1-A', 'T1-B', 'T1-C', 'T1-D', 'T2-A', 'T2-B', 'T6-B', 'T6-C', 'T6-D', 'T7-A', 'T7-B', 'T7-C', 'T7-D','T8-C', 'T8-D']]\n",
    "downwelling.index = grain_sizes\n",
    "\n",
    "# transpose and make the first row the column names\n",
    "upwelling = upwelling.T\n",
    "upwelling.columns = grain_sizes\n",
    "downwelling = downwelling.T\n",
    "downwelling.columns = grain_sizes\n",
    "\n",
    "# add trap type column \n",
    "# if the index ends in A or D its closed, if it ends in B or C its open\n",
    "upwelling['trap_type'] = ['closed' if i[-1] in ['A', 'D'] else 'open' for i in upwelling.index]\n",
    "downwelling['trap_type'] = ['closed' if i[-1] in ['A', 'D'] else 'open' for i in downwelling.index]"
   ]
  },
  {
   "cell_type": "markdown",
   "metadata": {},
   "source": [
    "Upwelling"
   ]
  },
  {
   "cell_type": "code",
   "execution_count": 8,
   "metadata": {},
   "outputs": [
    {
     "name": "stdout",
     "output_type": "stream",
     "text": [
      "Summer Fine Upwelling ANOVA results for mean CLR scores:\n",
      "                    sum_sq   df    F   PR(>F)\n",
      "C(trap_type)  2.773339e-32  1.0  1.0  0.42265\n",
      "Residual      5.546678e-32  2.0  NaN      NaN\n"
     ]
    }
   ],
   "source": [
    "# apply CLR transformation to the data (excluding the 'trap_type' column)\n",
    "clr_transformed_data = clr_manual(upwelling.drop('trap_type', axis=1))\n",
    "# convert CLR data to DataFrame and add the TrapType column back\n",
    "clr_df = pd.DataFrame(clr_transformed_data)\n",
    "clr_df['trap_type'] = upwelling['trap_type']\n",
    "# rename columns to not have a dot for the decimals in the name\n",
    "clr_df.columns = ['size_' + str(col).replace('.', '') if str(col)[0].isdigit() else str(col) for col in clr_df.columns]\n",
    "# conduct ANOVA on each sizes CLR transformed data\n",
    "anova_results = {}\n",
    "for column in clr_df.columns[:-1]:  # exclude 'trap_type' column\n",
    "    model = ols(f'{column} ~ C(trap_type)', data=clr_df).fit()\n",
    "    anova_table = sm.stats.anova_lm(model, typ=2)\n",
    "    anova_results[column] = anova_table\n",
    "\n",
    "# display ANOVA results for each element\n",
    "results = []\n",
    "for element, result in anova_results.items():\n",
    "    #print(f\"ANOVA results for {element}:\")\n",
    "    #print(result, \"\\n\")\n",
    "    results.append(result)\n",
    "# concatenate all results into a single DataFrame\n",
    "results_df = pd.concat(results)\n",
    "# save the results to a CSV file\n",
    "results_df.to_csv('results/d50/summer_fine_upwelling_anova_d50.csv', index=False)\n",
    "\n",
    "# overall ANOVA using the mean clr scores across elements\n",
    "clr_df['mean_clr'] = clr_df.drop('trap_type', axis=1).mean(axis=1)\n",
    "model_mean_clr = ols('mean_clr ~ C(trap_type)', data=clr_df).fit()\n",
    "anova_mean_clr = sm.stats.anova_lm(model_mean_clr, typ=2)\n",
    "print(\"Summer Fine Upwelling ANOVA results for mean CLR scores:\")\n",
    "print(anova_mean_clr)"
   ]
  },
  {
   "cell_type": "markdown",
   "metadata": {},
   "source": [
    "Downwelling"
   ]
  },
  {
   "cell_type": "code",
   "execution_count": 9,
   "metadata": {},
   "outputs": [
    {
     "name": "stdout",
     "output_type": "stream",
     "text": [
      "Summer Fine Downwelling ANOVA results for mean CLR scores:\n",
      "                    sum_sq    df         F    PR(>F)\n",
      "C(trap_type)  5.869501e-35   1.0  0.002299  0.962488\n",
      "Residual      3.319203e-31  13.0       NaN       NaN\n"
     ]
    }
   ],
   "source": [
    "# apply CLR transformation to the data (excluding the 'trap_type' column)\n",
    "clr_transformed_data = clr_manual(downwelling.drop('trap_type', axis=1))\n",
    "# convert CLR data to DataFrame and add the TrapType column back\n",
    "clr_df = pd.DataFrame(clr_transformed_data)\n",
    "clr_df['trap_type'] = downwelling['trap_type']\n",
    "# rename columns to not have a dot for the decimals in the name\n",
    "clr_df.columns = ['size_' + str(col).replace('.', '') if str(col)[0].isdigit() else str(col) for col in clr_df.columns]\n",
    "\n",
    "# conduct ANOVA on each sizes CLR transformed data\n",
    "anova_results = {}\n",
    "for column in clr_df.columns[:-1]:  # exclude 'trap_type' column\n",
    "    model = ols(f'{column} ~ C(trap_type)', data=clr_df).fit()\n",
    "    anova_table = sm.stats.anova_lm(model, typ=2)\n",
    "    anova_results[column] = anova_table\n",
    "\n",
    "# display ANOVA results for each element\n",
    "results = []\n",
    "for element, result in anova_results.items():\n",
    "    #print(f\"ANOVA results for {element}:\")\n",
    "    #print(result, \"\\n\")\n",
    "    results.append(result)\n",
    "# concatenate all results into a single DataFrame\n",
    "results_df = pd.concat(results)\n",
    "# save the results to a CSV file\n",
    "results_df.to_csv('results/d50/summer_fine_downwelling_anova_d50.csv', index=False)\n",
    "\n",
    "# overall ANOVA using the mean clr scores across elements\n",
    "clr_df['mean_clr'] = clr_df.drop('trap_type', axis=1).mean(axis=1)\n",
    "model_mean_clr = ols('mean_clr ~ C(trap_type)', data=clr_df).fit()\n",
    "anova_mean_clr = sm.stats.anova_lm(model_mean_clr, typ=2)\n",
    "print(\"Summer Fine Downwelling ANOVA results for mean CLR scores:\")\n",
    "print(anova_mean_clr)"
   ]
  },
  {
   "cell_type": "markdown",
   "metadata": {},
   "source": [
    "## Spring Combined Sediment "
   ]
  },
  {
   "cell_type": "markdown",
   "metadata": {},
   "source": [
    "Separating by flux direction and basket type"
   ]
  },
  {
   "cell_type": "code",
   "execution_count": 10,
   "metadata": {},
   "outputs": [],
   "source": [
    "# separate by flux\n",
    "upwelling = spring_combined[['T1-A', 'T1-B', 'T1-C', 'T1-D', 'T5-A', 'T5-B', 'T5-C', 'T5-D']]\n",
    "upwelling.index = combined_grain_sizes\n",
    "downwelling = spring_combined[['T2-A', 'T2-B', 'T3-C', 'T3-D', 'T6-A', 'T6-B', 'T6-C', 'T6-D', 'T7-A', 'T7-B', 'T7-C', 'T7-D','T8-C', 'T8-D']]\n",
    "downwelling.index = combined_grain_sizes\n",
    "\n",
    "# transpose and make the first row the column names\n",
    "upwelling = upwelling.T\n",
    "upwelling.columns = combined_grain_sizes\n",
    "downwelling = downwelling.T\n",
    "downwelling.columns = combined_grain_sizes\n",
    "\n",
    "# add trap type column \n",
    "# if the index ends in A or D its closed, if it ends in B or C its open\n",
    "upwelling['trap_type'] = ['closed' if i[-1] in ['A', 'D'] else 'open' for i in upwelling.index]\n",
    "downwelling['trap_type'] = ['closed' if i[-1] in ['A', 'D'] else 'open' for i in downwelling.index]"
   ]
  },
  {
   "cell_type": "markdown",
   "metadata": {},
   "source": [
    "Upwelling"
   ]
  },
  {
   "cell_type": "code",
   "execution_count": 11,
   "metadata": {},
   "outputs": [
    {
     "name": "stdout",
     "output_type": "stream",
     "text": [
      "Spring Combined Upwelling ANOVA results for mean CLR scores:\n",
      "                    sum_sq   df         F    PR(>F)\n",
      "C(trap_type)  2.465190e-32  1.0  0.888889  0.382175\n",
      "Residual      1.664003e-31  6.0       NaN       NaN\n"
     ]
    }
   ],
   "source": [
    "# apply CLR transformation to the data (excluding the 'trap_type' column)\n",
    "clr_transformed_data = clr_manual(upwelling.drop('trap_type', axis=1))\n",
    "# convert CLR data to DataFrame and add the TrapType column back\n",
    "clr_df = pd.DataFrame(clr_transformed_data)\n",
    "clr_df['trap_type'] = upwelling['trap_type']\n",
    "# rename columns to not have a dot for the decimals in the name\n",
    "clr_df.columns = ['size_' + str(col).replace('.', '') if str(col)[0].isdigit() else str(col) for col in clr_df.columns]\n",
    "\n",
    "# conduct ANOVA on each sizes CLR transformed data\n",
    "anova_results = {}\n",
    "for column in clr_df.columns[:-1]:  # exclude 'trap_type' column\n",
    "    model = ols(f'{column} ~ C(trap_type)', data=clr_df).fit()\n",
    "    anova_table = sm.stats.anova_lm(model, typ=2)\n",
    "    anova_results[column] = anova_table\n",
    "\n",
    "# display ANOVA results for each element\n",
    "results = []\n",
    "for element, result in anova_results.items():\n",
    "    #print(f\"ANOVA results for {element}:\")\n",
    "    #print(result, \"\\n\")\n",
    "    results.append(result)\n",
    "# concatenate all results into a single DataFrame\n",
    "results_df = pd.concat(results)\n",
    "# save the results to a CSV file\n",
    "results_df.to_csv('results/sizeclass/spring_combined_upwelling_anova_sizeclass.csv', index=False)\n",
    "\n",
    "# overall ANOVA using the mean clr scores across elements\n",
    "clr_df['mean_clr'] = clr_df.drop('trap_type', axis=1).mean(axis=1)\n",
    "model_mean_clr = ols('mean_clr ~ C(trap_type)', data=clr_df).fit()\n",
    "anova_mean_clr = sm.stats.anova_lm(model_mean_clr, typ=2)\n",
    "print(\"Spring Combined Upwelling ANOVA results for mean CLR scores:\")\n",
    "print(anova_mean_clr)"
   ]
  },
  {
   "cell_type": "markdown",
   "metadata": {},
   "source": [
    "Downwelling"
   ]
  },
  {
   "cell_type": "code",
   "execution_count": 12,
   "metadata": {},
   "outputs": [
    {
     "name": "stdout",
     "output_type": "stream",
     "text": [
      "Spring Combined Downwelling ANOVA results for mean CLR scores:\n",
      "                    sum_sq    df     F    PR(>F)\n",
      "C(trap_type)  3.169530e-32   1.0  0.75  0.403459\n",
      "Residual      5.071249e-31  12.0   NaN       NaN\n"
     ]
    }
   ],
   "source": [
    "# apply CLR transformation to the data (excluding the 'trap_type' column)\n",
    "clr_transformed_data = clr_manual(downwelling.drop('trap_type', axis=1))\n",
    "# convert CLR data to DataFrame and add the TrapType column back\n",
    "clr_df = pd.DataFrame(clr_transformed_data)\n",
    "clr_df['trap_type'] = downwelling['trap_type']\n",
    "# rename columns to not have a dot for the decimals in the name\n",
    "clr_df.columns = ['size_' + str(col).replace('.', '') if str(col)[0].isdigit() else str(col) for col in clr_df.columns]\n",
    "\n",
    "# conduct ANOVA on each sizes CLR transformed data\n",
    "anova_results = {}\n",
    "for column in clr_df.columns[:-1]:  # exclude 'trap_type' column\n",
    "    model = ols(f'{column} ~ C(trap_type)', data=clr_df).fit()\n",
    "    anova_table = sm.stats.anova_lm(model, typ=2)\n",
    "    anova_results[column] = anova_table\n",
    "\n",
    "# display ANOVA results for each element\n",
    "results = []\n",
    "for element, result in anova_results.items():\n",
    "    #print(f\"ANOVA results for {element}:\")\n",
    "    #print(result, \"\\n\")\n",
    "    results.append(result)\n",
    "# concatenate all results into a single DataFrame\n",
    "results_df = pd.concat(results)\n",
    "# save the results to a CSV file\n",
    "results_df.to_csv('results/sizeclass/spring_combined_downwelling_anova_sizeclass.csv', index=False)\n",
    "\n",
    "# overall ANOVA using the mean clr scores across elements\n",
    "clr_df['mean_clr'] = clr_df.drop('trap_type', axis=1).mean(axis=1)\n",
    "model_mean_clr = ols('mean_clr ~ C(trap_type)', data=clr_df).fit()\n",
    "anova_mean_clr = sm.stats.anova_lm(model_mean_clr, typ=2)\n",
    "print(\"Spring Combined Downwelling ANOVA results for mean CLR scores:\")\n",
    "print(anova_mean_clr)"
   ]
  },
  {
   "cell_type": "markdown",
   "metadata": {},
   "source": [
    "## Summer Combined Sediment "
   ]
  },
  {
   "cell_type": "markdown",
   "metadata": {},
   "source": [
    "Separating by flux direction and basket type"
   ]
  },
  {
   "cell_type": "code",
   "execution_count": 13,
   "metadata": {},
   "outputs": [],
   "source": [
    "# separate by flux\n",
    "upwelling = summer_combined[['T5-A', 'T5-B', 'T5-C', 'T5-D']]\n",
    "upwelling.index = combined_grain_sizes\n",
    "downwelling = summer_combined[['T1-A', 'T1-B', 'T1-C', 'T1-D', 'T2-A', 'T2-B', 'T6-B', 'T6-C', 'T6-D', 'T7-A', 'T7-B', 'T7-C', 'T7-D','T8-C', 'T8-D']]\n",
    "downwelling.index = combined_grain_sizes\n",
    "\n",
    "# transpose and make the first row the column names\n",
    "upwelling = upwelling.T\n",
    "upwelling.columns = combined_grain_sizes\n",
    "downwelling = downwelling.T\n",
    "downwelling.columns = combined_grain_sizes\n",
    "\n",
    "# add trap type column \n",
    "# if the index ends in A or D its closed, if it ends in B or C its open\n",
    "upwelling['trap_type'] = ['closed' if i[-1] in ['A', 'D'] else 'open' for i in upwelling.index]\n",
    "downwelling['trap_type'] = ['closed' if i[-1] in ['A', 'D'] else 'open' for i in downwelling.index]"
   ]
  },
  {
   "cell_type": "markdown",
   "metadata": {},
   "source": [
    "Upwelling"
   ]
  },
  {
   "cell_type": "code",
   "execution_count": 14,
   "metadata": {},
   "outputs": [
    {
     "name": "stdout",
     "output_type": "stream",
     "text": [
      "Summer Combined Upwelling ANOVA results for mean CLR scores:\n",
      "                    sum_sq   df     F    PR(>F)\n",
      "C(trap_type)  1.301929e-31  1.0  13.0  0.069051\n",
      "Residual      2.002967e-32  2.0   NaN       NaN\n"
     ]
    }
   ],
   "source": [
    "# apply CLR transformation to the data (excluding the 'trap_type' column)\n",
    "clr_transformed_data = clr_manual(upwelling.drop('trap_type', axis=1))\n",
    "# convert CLR data to DataFrame and add the TrapType column back\n",
    "clr_df = pd.DataFrame(clr_transformed_data)\n",
    "clr_df['trap_type'] = upwelling['trap_type']\n",
    "# rename columns to not have a dot for the decimals in the name\n",
    "clr_df.columns = ['size_' + str(col).replace('.', '') if str(col)[0].isdigit() else str(col) for col in clr_df.columns]\n",
    "# conduct ANOVA on each sizes CLR transformed data\n",
    "anova_results = {}\n",
    "for column in clr_df.columns[:-1]:  # exclude 'trap_type' column\n",
    "    model = ols(f'{column} ~ C(trap_type)', data=clr_df).fit()\n",
    "    anova_table = sm.stats.anova_lm(model, typ=2)\n",
    "    anova_results[column] = anova_table\n",
    "\n",
    "# display ANOVA results for each element\n",
    "results = []\n",
    "for element, result in anova_results.items():\n",
    "    #print(f\"ANOVA results for {element}:\")\n",
    "    #print(result, \"\\n\")\n",
    "    results.append(result)\n",
    "# concatenate all results into a single DataFrame\n",
    "results_df = pd.concat(results)\n",
    "# save the results to a CSV file\n",
    "results_df.to_csv('results/sizeclass/summer_combined_upwelling_anova_sizeclass.csv', index=False)\n",
    "\n",
    "# overall ANOVA using the mean clr scores across elements\n",
    "clr_df['mean_clr'] = clr_df.drop('trap_type', axis=1).mean(axis=1)\n",
    "model_mean_clr = ols('mean_clr ~ C(trap_type)', data=clr_df).fit()\n",
    "anova_mean_clr = sm.stats.anova_lm(model_mean_clr, typ=2)\n",
    "print(\"Summer Combined Upwelling ANOVA results for mean CLR scores:\")\n",
    "print(anova_mean_clr)"
   ]
  },
  {
   "cell_type": "markdown",
   "metadata": {},
   "source": [
    "Downwelling"
   ]
  },
  {
   "cell_type": "code",
   "execution_count": 15,
   "metadata": {},
   "outputs": [
    {
     "name": "stdout",
     "output_type": "stream",
     "text": [
      "Summer Combined Downwelling ANOVA results for mean CLR scores:\n",
      "                    sum_sq    df         F    PR(>F)\n",
      "C(trap_type)  6.166644e-33   1.0  0.401894  0.537108\n",
      "Residual      1.994713e-31  13.0       NaN       NaN\n"
     ]
    }
   ],
   "source": [
    "# apply CLR transformation to the data (excluding the 'trap_type' column)\n",
    "clr_transformed_data = clr_manual(downwelling.drop('trap_type', axis=1))\n",
    "# convert CLR data to DataFrame and add the TrapType column back\n",
    "clr_df = pd.DataFrame(clr_transformed_data)\n",
    "clr_df['trap_type'] = downwelling['trap_type']\n",
    "# rename columns to not have a dot for the decimals in the name\n",
    "clr_df.columns = ['size_' + str(col).replace('.', '') if str(col)[0].isdigit() else str(col) for col in clr_df.columns]\n",
    "\n",
    "# conduct ANOVA on each sizes CLR transformed data\n",
    "anova_results = {}\n",
    "for column in clr_df.columns[:-1]:  # exclude 'trap_type' column\n",
    "    model = ols(f'{column} ~ C(trap_type)', data=clr_df).fit()\n",
    "    anova_table = sm.stats.anova_lm(model, typ=2)\n",
    "    anova_results[column] = anova_table\n",
    "\n",
    "# display ANOVA results for each element\n",
    "results = []\n",
    "for element, result in anova_results.items():\n",
    "    #print(f\"ANOVA results for {element}:\")\n",
    "    #print(result, \"\\n\")\n",
    "    results.append(result)\n",
    "# concatenate all results into a single DataFrame\n",
    "results_df = pd.concat(results)\n",
    "# save the results to a CSV file\n",
    "results_df.to_csv('results/sizeclass/summer_combined_downwelling_anova_sizeclass.csv', index=False)\n",
    "\n",
    "# overall ANOVA using the mean clr scores across elements\n",
    "clr_df['mean_clr'] = clr_df.drop('trap_type', axis=1).mean(axis=1)\n",
    "model_mean_clr = ols('mean_clr ~ C(trap_type)', data=clr_df).fit()\n",
    "anova_mean_clr = sm.stats.anova_lm(model_mean_clr, typ=2)\n",
    "print(\"Summer Combined Downwelling ANOVA results for mean CLR scores:\")\n",
    "print(anova_mean_clr)"
   ]
  },
  {
   "cell_type": "markdown",
   "metadata": {},
   "source": [
    "# Compositional ANOVA with extreme baskets only "
   ]
  },
  {
   "cell_type": "markdown",
   "metadata": {},
   "source": [
    "## Spring Fine Sediment"
   ]
  },
  {
   "cell_type": "markdown",
   "metadata": {},
   "source": [
    "Separating by flux direction and basket type"
   ]
  },
  {
   "cell_type": "code",
   "execution_count": 14,
   "metadata": {},
   "outputs": [],
   "source": [
    "# separate by flux\n",
    "upwelling = spring_fine[['T1-A', 'T1-B', 'T1-C', 'T1-D']]\n",
    "upwelling.index = grain_sizes\n",
    "downwelling = spring_fine[['T2-A', 'T2-B', 'T3-C', 'T3-D']]\n",
    "downwelling.index = grain_sizes\n",
    "\n",
    "# transpose and make the first row the column names\n",
    "upwelling = upwelling.T\n",
    "upwelling.columns = grain_sizes\n",
    "downwelling = downwelling.T\n",
    "downwelling.columns = grain_sizes\n",
    "\n",
    "# add trap type column \n",
    "# if the index ends in A or D its closed, if it ends in B or C its open\n",
    "upwelling['trap_type'] = ['closed' if i[-1] in ['A', 'D'] else 'open' for i in upwelling.index]\n",
    "downwelling['trap_type'] = ['closed' if i[-1] in ['A', 'D'] else 'open' for i in downwelling.index]"
   ]
  },
  {
   "cell_type": "markdown",
   "metadata": {},
   "source": [
    "Upwelling"
   ]
  },
  {
   "cell_type": "code",
   "execution_count": 15,
   "metadata": {},
   "outputs": [
    {
     "name": "stdout",
     "output_type": "stream",
     "text": [
      "Extremes Spring Combined Upwelling ANOVA results for mean CLR scores:\n",
      "                    sum_sq   df             F  PR(>F)\n",
      "C(trap_type)  1.367362e-63  1.0  5.546678e-32     1.0\n",
      "Residual      4.930381e-32  2.0           NaN     NaN\n"
     ]
    }
   ],
   "source": [
    "# apply CLR transformation to the data (excluding the 'trap_type' column)\n",
    "clr_transformed_data = clr_manual(upwelling.drop('trap_type', axis=1))\n",
    "# convert CLR data to DataFrame and add the TrapType column back\n",
    "clr_df = pd.DataFrame(clr_transformed_data)\n",
    "clr_df['trap_type'] = upwelling['trap_type']\n",
    "# rename columns to not have a dot for the decimals in the name\n",
    "clr_df.columns = ['size_' + str(col).replace('.', '') if str(col)[0].isdigit() else str(col) for col in clr_df.columns]\n",
    "\n",
    "# conduct ANOVA on each sizes CLR transformed data\n",
    "anova_results = {}\n",
    "for column in clr_df.columns[:-1]:  # exclude 'trap_type' column\n",
    "    model = ols(f'{column} ~ C(trap_type)', data=clr_df).fit()\n",
    "    anova_table = sm.stats.anova_lm(model, typ=2)\n",
    "    anova_results[column] = anova_table\n",
    "\n",
    "# display ANOVA results for each element\n",
    "results = []\n",
    "for element, result in anova_results.items():\n",
    "    #print(f\"ANOVA results for {element}:\")\n",
    "    #print(result, \"\\n\")\n",
    "    results.append(result)\n",
    "# concatenate all results into a single DataFrame\n",
    "results_df = pd.concat(results)\n",
    "# save the results to a CSV file\n",
    "results_df.to_csv('results/d50/extremes_spring_fine_upwelling_anova_d50.csv', index=False)\n",
    "\n",
    "# overall ANOVA using the mean clr scores across elements\n",
    "clr_df['mean_clr'] = clr_df.drop('trap_type', axis=1).mean(axis=1)\n",
    "model_mean_clr = ols('mean_clr ~ C(trap_type)', data=clr_df).fit()\n",
    "anova_mean_clr = sm.stats.anova_lm(model_mean_clr, typ=2)\n",
    "print(\"Extremes Spring Combined Upwelling ANOVA results for mean CLR scores:\")\n",
    "print(anova_mean_clr)"
   ]
  },
  {
   "cell_type": "markdown",
   "metadata": {},
   "source": [
    "Downwelling"
   ]
  },
  {
   "cell_type": "code",
   "execution_count": 16,
   "metadata": {},
   "outputs": [
    {
     "name": "stdout",
     "output_type": "stream",
     "text": [
      "Spring Combined Downwelling ANOVA results for mean CLR scores:\n",
      "                    sum_sq   df             F  PR(>F)\n",
      "C(trap_type)  6.077163e-64  1.0  6.162976e-33     1.0\n",
      "Residual      1.972152e-31  2.0           NaN     NaN\n"
     ]
    }
   ],
   "source": [
    "# apply CLR transformation to the data (excluding the 'trap_type' column)\n",
    "clr_transformed_data = clr_manual(downwelling.drop('trap_type', axis=1))\n",
    "# convert CLR data to DataFrame and add the TrapType column back\n",
    "clr_df = pd.DataFrame(clr_transformed_data)\n",
    "clr_df['trap_type'] = downwelling['trap_type']\n",
    "# rename columns to not have a dot for the decimals in the name\n",
    "clr_df.columns = ['size_' + str(col).replace('.', '') if str(col)[0].isdigit() else str(col) for col in clr_df.columns]\n",
    "\n",
    "# conduct ANOVA on each sizes CLR transformed data\n",
    "anova_results = {}\n",
    "for column in clr_df.columns[:-1]:  # exclude 'trap_type' column\n",
    "    model = ols(f'{column} ~ C(trap_type)', data=clr_df).fit()\n",
    "    anova_table = sm.stats.anova_lm(model, typ=2)\n",
    "    anova_results[column] = anova_table\n",
    "\n",
    "# display ANOVA results for each element\n",
    "results = []\n",
    "for element, result in anova_results.items():\n",
    "    #print(f\"ANOVA results for {element}:\")\n",
    "    #print(result, \"\\n\")\n",
    "    results.append(result)\n",
    "# concatenate all results into a single DataFrame\n",
    "results_df = pd.concat(results)\n",
    "# save the results to a CSV file\n",
    "results_df.to_csv('results/d50/extremes_spring_fine_downwelling_anova_d50.csv', index=False)\n",
    "\n",
    "# overall ANOVA using the mean clr scores across elements\n",
    "clr_df['mean_clr'] = clr_df.drop('trap_type', axis=1).mean(axis=1)\n",
    "model_mean_clr = ols('mean_clr ~ C(trap_type)', data=clr_df).fit()\n",
    "anova_mean_clr = sm.stats.anova_lm(model_mean_clr, typ=2)\n",
    "print(\"Spring Combined Downwelling ANOVA results for mean CLR scores:\")\n",
    "print(anova_mean_clr)"
   ]
  },
  {
   "cell_type": "markdown",
   "metadata": {},
   "source": [
    "## Summer Fine Sediment"
   ]
  },
  {
   "cell_type": "markdown",
   "metadata": {},
   "source": [
    "Separating by flux direction and basket type"
   ]
  },
  {
   "cell_type": "code",
   "execution_count": 17,
   "metadata": {},
   "outputs": [],
   "source": [
    "# separate by flux\n",
    "upwelling = summer_fine[['T5-A', 'T5-B', 'T5-C', 'T5-D']]\n",
    "upwelling.index = grain_sizes\n",
    "downwelling = summer_fine[['T2-A', 'T2-B', 'T7-A', 'T7-B', 'T7-C', 'T7-D']]\n",
    "downwelling.index = grain_sizes\n",
    "\n",
    "# transpose and make the first row the column names\n",
    "upwelling = upwelling.T\n",
    "upwelling.columns = grain_sizes\n",
    "downwelling = downwelling.T\n",
    "downwelling.columns = grain_sizes\n",
    "\n",
    "# add trap type column \n",
    "# if the index ends in A or D its closed, if it ends in B or C its open\n",
    "upwelling['trap_type'] = ['closed' if i[-1] in ['A', 'D'] else 'open' for i in upwelling.index]\n",
    "downwelling['trap_type'] = ['closed' if i[-1] in ['A', 'D'] else 'open' for i in downwelling.index]"
   ]
  },
  {
   "cell_type": "markdown",
   "metadata": {},
   "source": [
    "Upwelling"
   ]
  },
  {
   "cell_type": "code",
   "execution_count": 20,
   "metadata": {},
   "outputs": [
    {
     "name": "stdout",
     "output_type": "stream",
     "text": [
      "Summer Extremes Combined Upwelling ANOVA results for mean CLR scores:\n",
      "                    sum_sq   df    F   PR(>F)\n",
      "C(trap_type)  2.773339e-32  1.0  1.0  0.42265\n",
      "Residual      5.546678e-32  2.0  NaN      NaN\n"
     ]
    }
   ],
   "source": [
    "# apply CLR transformation to the data (excluding the 'trap_type' column)\n",
    "clr_transformed_data = clr_manual(upwelling.drop('trap_type', axis=1))\n",
    "# convert CLR data to DataFrame and add the TrapType column back\n",
    "clr_df = pd.DataFrame(clr_transformed_data)\n",
    "clr_df['trap_type'] = upwelling['trap_type']\n",
    "# rename columns to not have a dot for the decimals in the name\n",
    "clr_df.columns = ['size_' + str(col).replace('.', '') if str(col)[0].isdigit() else str(col) for col in clr_df.columns]\n",
    "# conduct ANOVA on each sizes CLR transformed data\n",
    "anova_results = {}\n",
    "for column in clr_df.columns[:-1]:  # exclude 'trap_type' column\n",
    "    model = ols(f'{column} ~ C(trap_type)', data=clr_df).fit()\n",
    "    anova_table = sm.stats.anova_lm(model, typ=2)\n",
    "    anova_results[column] = anova_table\n",
    "\n",
    "# display ANOVA results for each element\n",
    "results = []\n",
    "for element, result in anova_results.items():\n",
    "    #print(f\"ANOVA results for {element}:\")\n",
    "    #print(result, \"\\n\")\n",
    "    results.append(result)\n",
    "# concatenate all results into a single DataFrame\n",
    "results_df = pd.concat(results)\n",
    "# save the results to a CSV file\n",
    "results_df.to_csv('results/d50/extremes_summer_fine_upwelling_anova_d50.csv', index=False)\n",
    "\n",
    "# overall ANOVA using the mean clr scores across elements\n",
    "clr_df['mean_clr'] = clr_df.drop('trap_type', axis=1).mean(axis=1)\n",
    "model_mean_clr = ols('mean_clr ~ C(trap_type)', data=clr_df).fit()\n",
    "anova_mean_clr = sm.stats.anova_lm(model_mean_clr, typ=2)\n",
    "print(\"Summer Extremes Combined Upwelling ANOVA results for mean CLR scores:\")\n",
    "print(anova_mean_clr)"
   ]
  },
  {
   "cell_type": "markdown",
   "metadata": {},
   "source": [
    "Downwelling"
   ]
  },
  {
   "cell_type": "code",
   "execution_count": 21,
   "metadata": {},
   "outputs": [
    {
     "name": "stdout",
     "output_type": "stream",
     "text": [
      "Summer Extremes Combined Downwelling ANOVA results for mean CLR scores:\n",
      "                    sum_sq   df         F    PR(>F)\n",
      "C(trap_type)  1.848893e-32  1.0  0.529412  0.507158\n",
      "Residual      1.396941e-31  4.0       NaN       NaN\n"
     ]
    }
   ],
   "source": [
    "# apply CLR transformation to the data (excluding the 'trap_type' column)\n",
    "clr_transformed_data = clr_manual(downwelling.drop('trap_type', axis=1))\n",
    "# convert CLR data to DataFrame and add the TrapType column back\n",
    "clr_df = pd.DataFrame(clr_transformed_data)\n",
    "clr_df['trap_type'] = downwelling['trap_type']\n",
    "# rename columns to not have a dot for the decimals in the name\n",
    "clr_df.columns = ['size_' + str(col).replace('.', '') if str(col)[0].isdigit() else str(col) for col in clr_df.columns]\n",
    "\n",
    "# conduct ANOVA on each sizes CLR transformed data\n",
    "anova_results = {}\n",
    "for column in clr_df.columns[:-1]:  # exclude 'trap_type' column\n",
    "    model = ols(f'{column} ~ C(trap_type)', data=clr_df).fit()\n",
    "    anova_table = sm.stats.anova_lm(model, typ=2)\n",
    "    anova_results[column] = anova_table\n",
    "\n",
    "# display ANOVA results for each element\n",
    "results = []\n",
    "for element, result in anova_results.items():\n",
    "    #print(f\"ANOVA results for {element}:\")\n",
    "    #print(result, \"\\n\")\n",
    "    results.append(result)\n",
    "# concatenate all results into a single DataFrame\n",
    "results_df = pd.concat(results)\n",
    "# save the results to a CSV file\n",
    "results_df.to_csv('results/d50/extremes_summer_fine_downwelling_anova_d50.csv', index=False)\n",
    "\n",
    "# overall ANOVA using the mean clr scores across elements\n",
    "clr_df['mean_clr'] = clr_df.drop('trap_type', axis=1).mean(axis=1)\n",
    "model_mean_clr = ols('mean_clr ~ C(trap_type)', data=clr_df).fit()\n",
    "anova_mean_clr = sm.stats.anova_lm(model_mean_clr, typ=2)\n",
    "print(\"Summer Extremes Combined Downwelling ANOVA results for mean CLR scores:\")\n",
    "print(anova_mean_clr)"
   ]
  },
  {
   "cell_type": "code",
   "execution_count": null,
   "metadata": {},
   "outputs": [],
   "source": []
  }
 ],
 "metadata": {
  "kernelspec": {
   "display_name": "Python 3",
   "language": "python",
   "name": "python3"
  },
  "language_info": {
   "codemirror_mode": {
    "name": "ipython",
    "version": 3
   },
   "file_extension": ".py",
   "mimetype": "text/x-python",
   "name": "python",
   "nbconvert_exporter": "python",
   "pygments_lexer": "ipython3",
   "version": "3.10.6"
  }
 },
 "nbformat": 4,
 "nbformat_minor": 2
}
