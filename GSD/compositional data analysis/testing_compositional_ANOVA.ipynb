{
 "cells": [
  {
   "cell_type": "code",
   "execution_count": 1,
   "metadata": {},
   "outputs": [],
   "source": [
    "import numpy as np\n",
    "import pandas as pd\n",
    "from scipy.stats import f_oneway\n",
    "import statsmodels.api as sm\n",
    "from statsmodels.formula.api import ols"
   ]
  },
  {
   "cell_type": "code",
   "execution_count": 2,
   "metadata": {},
   "outputs": [],
   "source": [
    "# Example Data (replace with your actual data)\n",
    "np.random.seed(0)\n",
    "trap1_data = np.random.rand(4, 10)\n",
    "trap2_data = np.random.rand(4, 10)\n",
    "\n",
    "# Combine into a single DataFrame with labels for ANOVA\n",
    "trap1_df = pd.DataFrame(trap1_data, columns=[f'Element_{i+1}' for i in range(10)])\n",
    "trap2_df = pd.DataFrame(trap2_data, columns=[f'Element_{i+1}' for i in range(10)])\n",
    "trap1_df['TrapType'] = 'Trap1'\n",
    "trap2_df['TrapType'] = 'Trap2'\n",
    "\n",
    "combined_df = pd.concat([trap1_df, trap2_df], ignore_index=True)"
   ]
  },
  {
   "cell_type": "code",
   "execution_count": 3,
   "metadata": {},
   "outputs": [],
   "source": [
    "def clr_manual(data):\n",
    "    # Compute geometric mean\n",
    "    geometric_mean = np.exp(np.mean(np.log(data + 1e-10), axis=1))  # Add small value to avoid log(0)\n",
    "    clr_transformed = np.log((data.T + 1e-10) / geometric_mean).T\n",
    "    return clr_transformed\n",
    "\n",
    "# Apply CLR transformation to the data (excluding the 'TrapType' column)\n",
    "clr_transformed_data = clr_manual(combined_df.drop('TrapType', axis=1))\n",
    "# Convert CLR data to DataFrame and add the TrapType column back\n",
    "clr_df = pd.DataFrame(clr_transformed_data)\n",
    "clr_df['TrapType'] = combined_df['TrapType']"
   ]
  },
  {
   "cell_type": "code",
   "execution_count": 8,
   "metadata": {},
   "outputs": [
    {
     "name": "stdout",
     "output_type": "stream",
     "text": [
      "ANOVA results for Element_1:\n",
      "               sum_sq   df         F    PR(>F)\n",
      "C(TrapType)  0.012544  1.0  0.030115  0.867935\n",
      "Residual     2.499094  6.0       NaN       NaN \n",
      "\n",
      "ANOVA results for Element_2:\n",
      "               sum_sq   df         F    PR(>F)\n",
      "C(TrapType)  0.312781  1.0  1.761558  0.232698\n",
      "Residual     1.065355  6.0       NaN       NaN \n",
      "\n",
      "ANOVA results for Element_3:\n",
      "               sum_sq   df          F    PR(>F)\n",
      "C(TrapType)  1.439270  1.0  31.539166  0.001361\n",
      "Residual     0.273806  6.0        NaN       NaN \n",
      "\n",
      "ANOVA results for Element_4:\n",
      "               sum_sq   df         F    PR(>F)\n",
      "C(TrapType)  2.528133  1.0  4.191052  0.086576\n",
      "Residual     3.619329  6.0       NaN       NaN \n",
      "\n",
      "ANOVA results for Element_5:\n",
      "               sum_sq   df         F    PR(>F)\n",
      "C(TrapType)  6.646790  1.0  7.624393  0.032801\n",
      "Residual     5.230678  6.0       NaN       NaN \n",
      "\n",
      "ANOVA results for Element_6:\n",
      "               sum_sq   df         F    PR(>F)\n",
      "C(TrapType)  0.144647  1.0  0.125932  0.734828\n",
      "Residual     6.891655  6.0       NaN       NaN \n",
      "\n",
      "ANOVA results for Element_7:\n",
      "               sum_sq   df         F    PR(>F)\n",
      "C(TrapType)  3.505237  1.0  2.879262  0.140652\n",
      "Residual     7.304451  6.0       NaN       NaN \n",
      "\n",
      "ANOVA results for Element_8:\n",
      "               sum_sq   df          F    PR(>F)\n",
      "C(TrapType)  3.719819  1.0  43.692894  0.000577\n",
      "Residual     0.510813  6.0        NaN       NaN \n",
      "\n",
      "ANOVA results for Element_9:\n",
      "               sum_sq   df         F    PR(>F)\n",
      "C(TrapType)  0.067483  1.0  0.279294  0.616132\n",
      "Residual     1.449725  6.0       NaN       NaN \n",
      "\n",
      "ANOVA results for Element_10:\n",
      "               sum_sq   df         F    PR(>F)\n",
      "C(TrapType)  1.089929  1.0  3.177562  0.124931\n",
      "Residual     2.058048  6.0       NaN       NaN \n",
      "\n",
      "ANOVA results for mean CLR scores:\n",
      "                   sum_sq   df         F    PR(>F)\n",
      "C(TrapType)  7.122089e-33  1.0  0.536512  0.491493\n",
      "Residual     7.964876e-32  6.0       NaN       NaN\n"
     ]
    }
   ],
   "source": [
    "# Conduct ANOVA on each element's CLR transformed data\n",
    "anova_results = {}\n",
    "for column in clr_df.columns[:-1]:  # Exclude 'TrapType' column\n",
    "    model = ols(f'{column} ~ C(TrapType)', data=clr_df).fit()\n",
    "    anova_table = sm.stats.anova_lm(model, typ=2)\n",
    "    anova_results[column] = anova_table\n",
    "\n",
    "# Display ANOVA results for each element\n",
    "for element, result in anova_results.items():\n",
    "    print(f\"ANOVA results for {element}:\")\n",
    "    print(result, \"\\n\")\n",
    "\n",
    "# Overall ANOVA using the mean clr scores across elements\n",
    "clr_df['mean_clr'] = clr_df.drop('TrapType', axis=1).mean(axis=1)\n",
    "model_mean_clr = ols('mean_clr ~ C(TrapType)', data=clr_df).fit()\n",
    "anova_mean_clr = sm.stats.anova_lm(model_mean_clr, typ=2)\n",
    "print(\"ANOVA results for mean CLR scores:\")\n",
    "print(anova_mean_clr)\n"
   ]
  },
  {
   "cell_type": "code",
   "execution_count": null,
   "metadata": {},
   "outputs": [],
   "source": []
  }
 ],
 "metadata": {
  "kernelspec": {
   "display_name": "Python 3",
   "language": "python",
   "name": "python3"
  },
  "language_info": {
   "codemirror_mode": {
    "name": "ipython",
    "version": 3
   },
   "file_extension": ".py",
   "mimetype": "text/x-python",
   "name": "python",
   "nbconvert_exporter": "python",
   "pygments_lexer": "ipython3",
   "version": "3.9.10"
  }
 },
 "nbformat": 4,
 "nbformat_minor": 2
}
