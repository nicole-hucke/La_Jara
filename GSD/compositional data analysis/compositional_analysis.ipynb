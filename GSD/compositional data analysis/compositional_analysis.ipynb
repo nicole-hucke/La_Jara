{
 "cells": [
  {
   "cell_type": "markdown",
   "metadata": {},
   "source": [
    "# Compositional ANOVA teste between seasons and trap type"
   ]
  },
  {
   "cell_type": "code",
   "execution_count": 18,
   "metadata": {},
   "outputs": [],
   "source": [
    "import numpy as np\n",
    "import pandas as pd\n",
    "from scipy.stats import f_oneway\n",
    "import statsmodels.api as sm\n",
    "from statsmodels.formula.api import ols\n",
    "\n",
    "spring_fine = pd.read_csv('data/spring_2023_basket_LISST.csv')\n",
    "spring_combined = pd.read_csv('data/spring_2023_basket_combined.csv')\n",
    "summer_fine = pd.read_csv('data/summer_2023_basket_LISST.csv')\n",
    "summer_combined = pd.read_csv('data/summer_2023_basket_combined.csv')\n",
    "grain_sizes = spring_fine['sample']\n",
    "combined_grain_sizes = spring_combined['sample']"
   ]
  },
  {
   "cell_type": "markdown",
   "metadata": {},
   "source": [
    "Defining function"
   ]
  },
  {
   "cell_type": "code",
   "execution_count": 19,
   "metadata": {},
   "outputs": [],
   "source": [
    "def clr_manual(data):\n",
    "    # compute geometric mean\n",
    "    geometric_mean = np.exp(np.mean(np.log(data + 1e-20), axis=1)) # add a small number to avoid log(0)\n",
    "    clr_transformed = np.log((data.T + 1e-20) / geometric_mean).T\n",
    "    return clr_transformed"
   ]
  },
  {
   "cell_type": "markdown",
   "metadata": {},
   "source": [
    "## Spring Fine Sediment "
   ]
  },
  {
   "cell_type": "markdown",
   "metadata": {},
   "source": [
    "Separating by flux direction and basket type"
   ]
  },
  {
   "cell_type": "code",
   "execution_count": 3,
   "metadata": {},
   "outputs": [],
   "source": [
    "# separate by flux\n",
    "upwelling = spring_fine[['T1-A', 'T1-B', 'T1-C', 'T1-D', 'T5-A', 'T5-B', 'T5-C', 'T5-D']]\n",
    "upwelling.index = grain_sizes\n",
    "downwelling = spring_fine[['T2-A', 'T2-B', 'T3-C', 'T3-D', 'T6-A', 'T6-B', 'T6-C', 'T6-D', 'T7-A', 'T7-B', 'T7-C', 'T7-D','T8-C', 'T8-D']]\n",
    "downwelling.index = grain_sizes\n",
    "\n",
    "# transpose and make the first row the column names\n",
    "upwelling = upwelling.T\n",
    "upwelling.columns = grain_sizes\n",
    "downwelling = downwelling.T\n",
    "downwelling.columns = grain_sizes\n",
    "\n",
    "# add trap type column \n",
    "# if the index ends in A or D its closed, if it ends in B or C its open\n",
    "upwelling['trap_type'] = ['closed' if i[-1] in ['A', 'D'] else 'open' for i in upwelling.index]\n",
    "downwelling['trap_type'] = ['closed' if i[-1] in ['A', 'D'] else 'open' for i in downwelling.index]"
   ]
  },
  {
   "cell_type": "markdown",
   "metadata": {},
   "source": [
    "Upwelling"
   ]
  },
  {
   "cell_type": "code",
   "execution_count": 4,
   "metadata": {},
   "outputs": [
    {
     "name": "stdout",
     "output_type": "stream",
     "text": [
      "Spring Fine Upwelling ANOVA results for mean CLR scores:\n",
      "                    sum_sq   df         F    PR(>F)\n",
      "C(trap_type)  6.446294e-35  1.0  0.000956  0.976333\n",
      "Residual      4.044373e-31  6.0       NaN       NaN\n"
     ]
    }
   ],
   "source": [
    "# apply CLR transformation to the data (excluding the 'trap_type' column)\n",
    "clr_transformed_data = clr_manual(upwelling.drop('trap_type', axis=1))\n",
    "# convert CLR data to DataFrame and add the TrapType column back\n",
    "clr_df = pd.DataFrame(clr_transformed_data)\n",
    "clr_df['trap_type'] = upwelling['trap_type']\n",
    "# rename columns to not have a dot for the decimals in the name\n",
    "clr_df.columns = ['size_' + str(col).replace('.', '') if str(col)[0].isdigit() else str(col) for col in clr_df.columns]\n",
    "\n",
    "# conduct ANOVA on each sizes CLR transformed data\n",
    "anova_results = {}\n",
    "for column in clr_df.columns[:-1]:  # exclude 'trap_type' column\n",
    "    model = ols(f'{column} ~ C(trap_type)', data=clr_df).fit()\n",
    "    anova_table = sm.stats.anova_lm(model, typ=2)\n",
    "    anova_results[column] = anova_table\n",
    "\n",
    "# display ANOVA results for each element\n",
    "results = []\n",
    "for element, result in anova_results.items():\n",
    "    #print(f\"ANOVA results for {element}:\")\n",
    "    #print(result, \"\\n\")\n",
    "    results.append(result)\n",
    "# concatenate all results into a single DataFrame\n",
    "results_df = pd.concat(results)\n",
    "# save the results to a CSV file\n",
    "results_df.to_csv('results/spring_fine_upwelling_anova_results.csv', index=False)\n",
    "\n",
    "# overall ANOVA using the mean clr scores across elements\n",
    "clr_df['mean_clr'] = clr_df.drop('trap_type', axis=1).mean(axis=1)\n",
    "model_mean_clr = ols('mean_clr ~ C(trap_type)', data=clr_df).fit()\n",
    "anova_mean_clr = sm.stats.anova_lm(model_mean_clr, typ=2)\n",
    "print(\"Spring Fine Upwelling ANOVA results for mean CLR scores:\")\n",
    "print(anova_mean_clr)"
   ]
  },
  {
   "cell_type": "markdown",
   "metadata": {},
   "source": [
    "Downwelling"
   ]
  },
  {
   "cell_type": "code",
   "execution_count": 12,
   "metadata": {},
   "outputs": [
    {
     "name": "stdout",
     "output_type": "stream",
     "text": [
      "Spring Fine Downwelling ANOVA results for mean CLR scores:\n",
      "                    sum_sq    df         F    PR(>F)\n",
      "C(trap_type)  6.512407e-34   1.0  0.002521  0.960722\n",
      "Residual      3.358759e-30  13.0       NaN       NaN\n"
     ]
    }
   ],
   "source": [
    "# apply CLR transformation to the data (excluding the 'trap_type' column)\n",
    "clr_transformed_data = clr_manual(downwelling.drop('trap_type', axis=1))\n",
    "# convert CLR data to DataFrame and add the TrapType column back\n",
    "clr_df = pd.DataFrame(clr_transformed_data)\n",
    "clr_df['trap_type'] = downwelling['trap_type']\n",
    "# rename columns to not have a dot for the decimals in the name\n",
    "clr_df.columns = ['size_' + str(col).replace('.', '') if str(col)[0].isdigit() else str(col) for col in clr_df.columns]\n",
    "\n",
    "# conduct ANOVA on each sizes CLR transformed data\n",
    "anova_results = {}\n",
    "for column in clr_df.columns[:-1]:  # exclude 'trap_type' column\n",
    "    model = ols(f'{column} ~ C(trap_type)', data=clr_df).fit()\n",
    "    anova_table = sm.stats.anova_lm(model, typ=2)\n",
    "    anova_results[column] = anova_table\n",
    "\n",
    "# display ANOVA results for each element\n",
    "results = []\n",
    "for element, result in anova_results.items():\n",
    "    #print(f\"ANOVA results for {element}:\")\n",
    "    #print(result, \"\\n\")\n",
    "    results.append(result)\n",
    "# concatenate all results into a single DataFrame\n",
    "results_df = pd.concat(results)\n",
    "# save the results to a CSV file\n",
    "results_df.to_csv('results/spring_fine_downwelling_anova_results.csv', index=False)\n",
    "\n",
    "# overall ANOVA using the mean clr scores across elements\n",
    "clr_df['mean_clr'] = clr_df.drop('trap_type', axis=1).mean(axis=1)\n",
    "model_mean_clr = ols('mean_clr ~ C(trap_type)', data=clr_df).fit()\n",
    "anova_mean_clr = sm.stats.anova_lm(model_mean_clr, typ=2)\n",
    "print(\"Spring Fine Downwelling ANOVA results for mean CLR scores:\")\n",
    "print(anova_mean_clr)"
   ]
  },
  {
   "cell_type": "markdown",
   "metadata": {},
   "source": [
    "## Summer Fine Sediment "
   ]
  },
  {
   "cell_type": "markdown",
   "metadata": {},
   "source": [
    "Separating by flux direction and basket type"
   ]
  },
  {
   "cell_type": "code",
   "execution_count": 6,
   "metadata": {},
   "outputs": [],
   "source": [
    "# separate by flux\n",
    "upwelling = summer_fine[['T5-A', 'T5-B', 'T5-C', 'T5-D']]\n",
    "upwelling.index = grain_sizes\n",
    "downwelling = summer_fine[['T1-A', 'T1-B', 'T1-C', 'T1-D', 'T2-A', 'T2-B', 'T6-B', 'T6-C', 'T6-D', 'T7-A', 'T7-B', 'T7-C', 'T7-D','T8-C', 'T8-D']]\n",
    "downwelling.index = grain_sizes\n",
    "\n",
    "# transpose and make the first row the column names\n",
    "upwelling = upwelling.T\n",
    "upwelling.columns = grain_sizes\n",
    "downwelling = downwelling.T\n",
    "downwelling.columns = grain_sizes\n",
    "\n",
    "# add trap type column \n",
    "# if the index ends in A or D its closed, if it ends in B or C its open\n",
    "upwelling['trap_type'] = ['closed' if i[-1] in ['A', 'D'] else 'open' for i in upwelling.index]\n",
    "downwelling['trap_type'] = ['closed' if i[-1] in ['A', 'D'] else 'open' for i in downwelling.index]"
   ]
  },
  {
   "cell_type": "markdown",
   "metadata": {},
   "source": [
    "Upwelling"
   ]
  },
  {
   "cell_type": "code",
   "execution_count": 9,
   "metadata": {},
   "outputs": [
    {
     "name": "stdout",
     "output_type": "stream",
     "text": [
      "Summer Fine Upwelling ANOVA results for mean CLR scores:\n",
      "                    sum_sq   df         F    PR(>F)\n",
      "C(trap_type)  7.230610e-31  1.0  0.378028  0.601293\n",
      "Residual      3.825438e-30  2.0       NaN       NaN\n"
     ]
    }
   ],
   "source": [
    "# apply CLR transformation to the data (excluding the 'trap_type' column)\n",
    "clr_transformed_data = clr_manual(upwelling.drop('trap_type', axis=1))\n",
    "# convert CLR data to DataFrame and add the TrapType column back\n",
    "clr_df = pd.DataFrame(clr_transformed_data)\n",
    "clr_df['trap_type'] = upwelling['trap_type']\n",
    "# rename columns to not have a dot for the decimals in the name\n",
    "clr_df.columns = ['size_' + str(col).replace('.', '') if str(col)[0].isdigit() else str(col) for col in clr_df.columns]\n",
    "# conduct ANOVA on each sizes CLR transformed data\n",
    "anova_results = {}\n",
    "for column in clr_df.columns[:-1]:  # exclude 'trap_type' column\n",
    "    model = ols(f'{column} ~ C(trap_type)', data=clr_df).fit()\n",
    "    anova_table = sm.stats.anova_lm(model, typ=2)\n",
    "    anova_results[column] = anova_table\n",
    "\n",
    "# display ANOVA results for each element\n",
    "results = []\n",
    "for element, result in anova_results.items():\n",
    "    #print(f\"ANOVA results for {element}:\")\n",
    "    #print(result, \"\\n\")\n",
    "    results.append(result)\n",
    "# concatenate all results into a single DataFrame\n",
    "results_df = pd.concat(results)\n",
    "# save the results to a CSV file\n",
    "results_df.to_csv('results/summer_fine_upwelling_anova_results.csv', index=False)\n",
    "\n",
    "# overall ANOVA using the mean clr scores across elements\n",
    "clr_df['mean_clr'] = clr_df.drop('trap_type', axis=1).mean(axis=1)\n",
    "model_mean_clr = ols('mean_clr ~ C(trap_type)', data=clr_df).fit()\n",
    "anova_mean_clr = sm.stats.anova_lm(model_mean_clr, typ=2)\n",
    "print(\"Summer Fine Upwelling ANOVA results for mean CLR scores:\")\n",
    "print(anova_mean_clr)"
   ]
  },
  {
   "cell_type": "markdown",
   "metadata": {},
   "source": [
    "Downwelling"
   ]
  },
  {
   "cell_type": "code",
   "execution_count": 11,
   "metadata": {},
   "outputs": [
    {
     "name": "stdout",
     "output_type": "stream",
     "text": [
      "Summer Fine Downwelling ANOVA results for mean CLR scores:\n",
      "                    sum_sq    df         F    PR(>F)\n",
      "C(trap_type)  6.512407e-34   1.0  0.002521  0.960722\n",
      "Residual      3.358759e-30  13.0       NaN       NaN\n"
     ]
    }
   ],
   "source": [
    "# apply CLR transformation to the data (excluding the 'trap_type' column)\n",
    "clr_transformed_data = clr_manual(downwelling.drop('trap_type', axis=1))\n",
    "# convert CLR data to DataFrame and add the TrapType column back\n",
    "clr_df = pd.DataFrame(clr_transformed_data)\n",
    "clr_df['trap_type'] = downwelling['trap_type']\n",
    "# rename columns to not have a dot for the decimals in the name\n",
    "clr_df.columns = ['size_' + str(col).replace('.', '') if str(col)[0].isdigit() else str(col) for col in clr_df.columns]\n",
    "\n",
    "# conduct ANOVA on each sizes CLR transformed data\n",
    "anova_results = {}\n",
    "for column in clr_df.columns[:-1]:  # exclude 'trap_type' column\n",
    "    model = ols(f'{column} ~ C(trap_type)', data=clr_df).fit()\n",
    "    anova_table = sm.stats.anova_lm(model, typ=2)\n",
    "    anova_results[column] = anova_table\n",
    "\n",
    "# display ANOVA results for each element\n",
    "results = []\n",
    "for element, result in anova_results.items():\n",
    "    #print(f\"ANOVA results for {element}:\")\n",
    "    #print(result, \"\\n\")\n",
    "    results.append(result)\n",
    "# concatenate all results into a single DataFrame\n",
    "results_df = pd.concat(results)\n",
    "# save the results to a CSV file\n",
    "results_df.to_csv('results/summer_fine_downwelling_anova_results.csv', index=False)\n",
    "\n",
    "# overall ANOVA using the mean clr scores across elements\n",
    "clr_df['mean_clr'] = clr_df.drop('trap_type', axis=1).mean(axis=1)\n",
    "model_mean_clr = ols('mean_clr ~ C(trap_type)', data=clr_df).fit()\n",
    "anova_mean_clr = sm.stats.anova_lm(model_mean_clr, typ=2)\n",
    "print(\"Summer Fine Downwelling ANOVA results for mean CLR scores:\")\n",
    "print(anova_mean_clr)"
   ]
  },
  {
   "cell_type": "markdown",
   "metadata": {},
   "source": [
    "## Spring Combined Sediment "
   ]
  },
  {
   "cell_type": "markdown",
   "metadata": {},
   "source": [
    "Separating by flux direction and basket type"
   ]
  },
  {
   "cell_type": "code",
   "execution_count": 27,
   "metadata": {},
   "outputs": [],
   "source": [
    "# separate by flux\n",
    "upwelling = spring_combined[['T1-A', 'T1-B', 'T1-C', 'T1-D', 'T5-A', 'T5-B', 'T5-C', 'T5-D']]\n",
    "upwelling.index = combined_grain_sizes\n",
    "downwelling = spring_combined[['T2-A', 'T2-B', 'T3-C', 'T3-D', 'T6-A', 'T6-B', 'T6-C', 'T6-D', 'T7-A', 'T7-B', 'T7-C', 'T7-D','T8-C', 'T8-D']]\n",
    "downwelling.index = combined_grain_sizes\n",
    "\n",
    "# transpose and make the first row the column names\n",
    "upwelling = upwelling.T\n",
    "upwelling.columns = combined_grain_sizes\n",
    "downwelling = downwelling.T\n",
    "downwelling.columns = combined_grain_sizes\n",
    "\n",
    "# add trap type column \n",
    "# if the index ends in A or D its closed, if it ends in B or C its open\n",
    "upwelling['trap_type'] = ['closed' if i[-1] in ['A', 'D'] else 'open' for i in upwelling.index]\n",
    "downwelling['trap_type'] = ['closed' if i[-1] in ['A', 'D'] else 'open' for i in downwelling.index]"
   ]
  },
  {
   "cell_type": "markdown",
   "metadata": {},
   "source": [
    "Upwelling"
   ]
  },
  {
   "cell_type": "code",
   "execution_count": 28,
   "metadata": {},
   "outputs": [
    {
     "name": "stdout",
     "output_type": "stream",
     "text": [
      "Spring Combined Upwelling ANOVA results for mean CLR scores:\n",
      "                    sum_sq   df         F    PR(>F)\n",
      "C(trap_type)  9.705324e-31  1.0  5.405405  0.059047\n",
      "Residual      1.077291e-30  6.0       NaN       NaN\n"
     ]
    }
   ],
   "source": [
    "# apply CLR transformation to the data (excluding the 'trap_type' column)\n",
    "clr_transformed_data = clr_manual(upwelling.drop('trap_type', axis=1))\n",
    "# convert CLR data to DataFrame and add the TrapType column back\n",
    "clr_df = pd.DataFrame(clr_transformed_data)\n",
    "clr_df['trap_type'] = upwelling['trap_type']\n",
    "# rename columns to not have a dot for the decimals in the name\n",
    "clr_df.columns = ['size_' + str(col).replace('.', '') if str(col)[0].isdigit() else str(col) for col in clr_df.columns]\n",
    "\n",
    "# conduct ANOVA on each sizes CLR transformed data\n",
    "anova_results = {}\n",
    "for column in clr_df.columns[:-1]:  # exclude 'trap_type' column\n",
    "    model = ols(f'{column} ~ C(trap_type)', data=clr_df).fit()\n",
    "    anova_table = sm.stats.anova_lm(model, typ=2)\n",
    "    anova_results[column] = anova_table\n",
    "\n",
    "# display ANOVA results for each element\n",
    "results = []\n",
    "for element, result in anova_results.items():\n",
    "    #print(f\"ANOVA results for {element}:\")\n",
    "    #print(result, \"\\n\")\n",
    "    results.append(result)\n",
    "# concatenate all results into a single DataFrame\n",
    "results_df = pd.concat(results)\n",
    "# save the results to a CSV file\n",
    "results_df.to_csv('results/spring_combined_upwelling_anova_results.csv', index=False)\n",
    "\n",
    "# overall ANOVA using the mean clr scores across elements\n",
    "clr_df['mean_clr'] = clr_df.drop('trap_type', axis=1).mean(axis=1)\n",
    "model_mean_clr = ols('mean_clr ~ C(trap_type)', data=clr_df).fit()\n",
    "anova_mean_clr = sm.stats.anova_lm(model_mean_clr, typ=2)\n",
    "print(\"Spring Combined Upwelling ANOVA results for mean CLR scores:\")\n",
    "print(anova_mean_clr)"
   ]
  },
  {
   "cell_type": "markdown",
   "metadata": {},
   "source": [
    "Downwelling"
   ]
  },
  {
   "cell_type": "code",
   "execution_count": 29,
   "metadata": {},
   "outputs": [
    {
     "name": "stdout",
     "output_type": "stream",
     "text": [
      "Spring Combined Downwelling ANOVA results for mean CLR scores:\n",
      "                    sum_sq    df        F    PR(>F)\n",
      "C(trap_type)  1.386475e-31   1.0  0.27959  0.606612\n",
      "Residual      5.950750e-30  12.0      NaN       NaN\n"
     ]
    }
   ],
   "source": [
    "# apply CLR transformation to the data (excluding the 'trap_type' column)\n",
    "clr_transformed_data = clr_manual(downwelling.drop('trap_type', axis=1))\n",
    "# convert CLR data to DataFrame and add the TrapType column back\n",
    "clr_df = pd.DataFrame(clr_transformed_data)\n",
    "clr_df['trap_type'] = downwelling['trap_type']\n",
    "# rename columns to not have a dot for the decimals in the name\n",
    "clr_df.columns = ['size_' + str(col).replace('.', '') if str(col)[0].isdigit() else str(col) for col in clr_df.columns]\n",
    "\n",
    "# conduct ANOVA on each sizes CLR transformed data\n",
    "anova_results = {}\n",
    "for column in clr_df.columns[:-1]:  # exclude 'trap_type' column\n",
    "    model = ols(f'{column} ~ C(trap_type)', data=clr_df).fit()\n",
    "    anova_table = sm.stats.anova_lm(model, typ=2)\n",
    "    anova_results[column] = anova_table\n",
    "\n",
    "# display ANOVA results for each element\n",
    "results = []\n",
    "for element, result in anova_results.items():\n",
    "    #print(f\"ANOVA results for {element}:\")\n",
    "    #print(result, \"\\n\")\n",
    "    results.append(result)\n",
    "# concatenate all results into a single DataFrame\n",
    "results_df = pd.concat(results)\n",
    "# save the results to a CSV file\n",
    "results_df.to_csv('results/spring_combined_downwelling_anova_results.csv', index=False)\n",
    "\n",
    "# overall ANOVA using the mean clr scores across elements\n",
    "clr_df['mean_clr'] = clr_df.drop('trap_type', axis=1).mean(axis=1)\n",
    "model_mean_clr = ols('mean_clr ~ C(trap_type)', data=clr_df).fit()\n",
    "anova_mean_clr = sm.stats.anova_lm(model_mean_clr, typ=2)\n",
    "print(\"Spring Combined Downwelling ANOVA results for mean CLR scores:\")\n",
    "print(anova_mean_clr)"
   ]
  },
  {
   "cell_type": "markdown",
   "metadata": {},
   "source": [
    "## Summer Combined Sediment "
   ]
  },
  {
   "cell_type": "markdown",
   "metadata": {},
   "source": [
    "Separating by flux direction and basket type"
   ]
  },
  {
   "cell_type": "code",
   "execution_count": 30,
   "metadata": {},
   "outputs": [],
   "source": [
    "# separate by flux\n",
    "upwelling = summer_combined[['T5-A', 'T5-B', 'T5-C', 'T5-D']]\n",
    "upwelling.index = combined_grain_sizes\n",
    "downwelling = summer_combined[['T1-A', 'T1-B', 'T1-C', 'T1-D', 'T2-A', 'T2-B', 'T6-B', 'T6-C', 'T6-D', 'T7-A', 'T7-B', 'T7-C', 'T7-D','T8-C', 'T8-D']]\n",
    "downwelling.index = combined_grain_sizes\n",
    "\n",
    "# transpose and make the first row the column names\n",
    "upwelling = upwelling.T\n",
    "upwelling.columns = combined_grain_sizes\n",
    "downwelling = downwelling.T\n",
    "downwelling.columns = combined_grain_sizes\n",
    "\n",
    "# add trap type column \n",
    "# if the index ends in A or D its closed, if it ends in B or C its open\n",
    "upwelling['trap_type'] = ['closed' if i[-1] in ['A', 'D'] else 'open' for i in upwelling.index]\n",
    "downwelling['trap_type'] = ['closed' if i[-1] in ['A', 'D'] else 'open' for i in downwelling.index]"
   ]
  },
  {
   "cell_type": "markdown",
   "metadata": {},
   "source": [
    "Upwelling"
   ]
  },
  {
   "cell_type": "code",
   "execution_count": 31,
   "metadata": {},
   "outputs": [
    {
     "name": "stdout",
     "output_type": "stream",
     "text": [
      "Summer Combined Upwelling ANOVA results for mean CLR scores:\n",
      "                    sum_sq   df         F    PR(>F)\n",
      "C(trap_type)  6.987834e-31  1.0  2.769231  0.237999\n",
      "Residual      5.046769e-31  2.0       NaN       NaN\n"
     ]
    }
   ],
   "source": [
    "# apply CLR transformation to the data (excluding the 'trap_type' column)\n",
    "clr_transformed_data = clr_manual(upwelling.drop('trap_type', axis=1))\n",
    "# convert CLR data to DataFrame and add the TrapType column back\n",
    "clr_df = pd.DataFrame(clr_transformed_data)\n",
    "clr_df['trap_type'] = upwelling['trap_type']\n",
    "# rename columns to not have a dot for the decimals in the name\n",
    "clr_df.columns = ['size_' + str(col).replace('.', '') if str(col)[0].isdigit() else str(col) for col in clr_df.columns]\n",
    "# conduct ANOVA on each sizes CLR transformed data\n",
    "anova_results = {}\n",
    "for column in clr_df.columns[:-1]:  # exclude 'trap_type' column\n",
    "    model = ols(f'{column} ~ C(trap_type)', data=clr_df).fit()\n",
    "    anova_table = sm.stats.anova_lm(model, typ=2)\n",
    "    anova_results[column] = anova_table\n",
    "\n",
    "# display ANOVA results for each element\n",
    "results = []\n",
    "for element, result in anova_results.items():\n",
    "    #print(f\"ANOVA results for {element}:\")\n",
    "    #print(result, \"\\n\")\n",
    "    results.append(result)\n",
    "# concatenate all results into a single DataFrame\n",
    "results_df = pd.concat(results)\n",
    "# save the results to a CSV file\n",
    "results_df.to_csv('results/summer_combined_upwelling_anova_results.csv', index=False)\n",
    "\n",
    "# overall ANOVA using the mean clr scores across elements\n",
    "clr_df['mean_clr'] = clr_df.drop('trap_type', axis=1).mean(axis=1)\n",
    "model_mean_clr = ols('mean_clr ~ C(trap_type)', data=clr_df).fit()\n",
    "anova_mean_clr = sm.stats.anova_lm(model_mean_clr, typ=2)\n",
    "print(\"Summer Combined Upwelling ANOVA results for mean CLR scores:\")\n",
    "print(anova_mean_clr)"
   ]
  },
  {
   "cell_type": "markdown",
   "metadata": {},
   "source": [
    "Downwelling"
   ]
  },
  {
   "cell_type": "code",
   "execution_count": 32,
   "metadata": {},
   "outputs": [
    {
     "name": "stdout",
     "output_type": "stream",
     "text": [
      "Summer Combined Downwelling ANOVA results for mean CLR scores:\n",
      "                    sum_sq    df         F   PR(>F)\n",
      "C(trap_type)  5.841912e-31   1.0  1.878285  0.19373\n",
      "Residual      4.043308e-30  13.0       NaN      NaN\n"
     ]
    }
   ],
   "source": [
    "# apply CLR transformation to the data (excluding the 'trap_type' column)\n",
    "clr_transformed_data = clr_manual(downwelling.drop('trap_type', axis=1))\n",
    "# convert CLR data to DataFrame and add the TrapType column back\n",
    "clr_df = pd.DataFrame(clr_transformed_data)\n",
    "clr_df['trap_type'] = downwelling['trap_type']\n",
    "# rename columns to not have a dot for the decimals in the name\n",
    "clr_df.columns = ['size_' + str(col).replace('.', '') if str(col)[0].isdigit() else str(col) for col in clr_df.columns]\n",
    "\n",
    "# conduct ANOVA on each sizes CLR transformed data\n",
    "anova_results = {}\n",
    "for column in clr_df.columns[:-1]:  # exclude 'trap_type' column\n",
    "    model = ols(f'{column} ~ C(trap_type)', data=clr_df).fit()\n",
    "    anova_table = sm.stats.anova_lm(model, typ=2)\n",
    "    anova_results[column] = anova_table\n",
    "\n",
    "# display ANOVA results for each element\n",
    "results = []\n",
    "for element, result in anova_results.items():\n",
    "    #print(f\"ANOVA results for {element}:\")\n",
    "    #print(result, \"\\n\")\n",
    "    results.append(result)\n",
    "# concatenate all results into a single DataFrame\n",
    "results_df = pd.concat(results)\n",
    "# save the results to a CSV file\n",
    "results_df.to_csv('results/summer_combined_downwelling_anova_results.csv', index=False)\n",
    "\n",
    "# overall ANOVA using the mean clr scores across elements\n",
    "clr_df['mean_clr'] = clr_df.drop('trap_type', axis=1).mean(axis=1)\n",
    "model_mean_clr = ols('mean_clr ~ C(trap_type)', data=clr_df).fit()\n",
    "anova_mean_clr = sm.stats.anova_lm(model_mean_clr, typ=2)\n",
    "print(\"Summer Combined Downwelling ANOVA results for mean CLR scores:\")\n",
    "print(anova_mean_clr)"
   ]
  },
  {
   "cell_type": "code",
   "execution_count": null,
   "metadata": {},
   "outputs": [],
   "source": []
  }
 ],
 "metadata": {
  "kernelspec": {
   "display_name": "Python 3",
   "language": "python",
   "name": "python3"
  },
  "language_info": {
   "codemirror_mode": {
    "name": "ipython",
    "version": 3
   },
   "file_extension": ".py",
   "mimetype": "text/x-python",
   "name": "python",
   "nbconvert_exporter": "python",
   "pygments_lexer": "ipython3",
   "version": "3.9.10"
  }
 },
 "nbformat": 4,
 "nbformat_minor": 2
}
