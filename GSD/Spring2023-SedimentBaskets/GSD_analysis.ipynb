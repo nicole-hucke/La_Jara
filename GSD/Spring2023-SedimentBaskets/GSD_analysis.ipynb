{
 "cells": [
  {
   "cell_type": "code",
   "execution_count": 1,
   "metadata": {},
   "outputs": [],
   "source": [
    "import numpy as np\n",
    "\n",
    "# Read the grain size data from a text file\n",
    "def read_grain_size_data(filename):\n",
    "    data = np.loadtxt(filename, delimiter='\\t')  # Adjust delimiter as needed\n",
    "    grain_sizes, percent_passing = data[:, 0], data[:, 1]\n",
    "    return grain_sizes, percent_passing\n",
    "\n",
    "# Calculate D values (D10, D30, D60) as percentiles\n",
    "def calculate_percentiles(grain_sizes, percent_passing):\n",
    "    d10 = np.interp(10, percent_passing, grain_sizes)\n",
    "    d30 = np.interp(30, percent_passing, grain_sizes)\n",
    "    d60 = np.interp(60, percent_passing, grain_sizes)\n",
    "    return d10, d30, d60"
   ]
  },
  {
   "cell_type": "code",
   "execution_count": 2,
   "metadata": {},
   "outputs": [
    {
     "name": "stdout",
     "output_type": "stream",
     "text": [
      "D10: 0.03 mm\n",
      "D30: 0.03 mm\n",
      "D60: 0.03 mm\n"
     ]
    }
   ],
   "source": [
    "\n",
    "# Specify the path to your data file\n",
    "filename = 'T25A.txt'  # Adjust the filename and delimiter as needed\n",
    "\n",
    "# Read the data\n",
    "grain_sizes, percent_passing = read_grain_size_data(filename)\n",
    "\n",
    "# Calculate D10, D30, and D60\n",
    "d10, d30, d60 = calculate_percentiles(grain_sizes, percent_passing)\n",
    "\n",
    "# Display the results\n",
    "print(f'D10: {d10:.2f} mm')\n",
    "print(f'D30: {d30:.2f} mm')\n",
    "print(f'D60: {d60:.2f} mm')"
   ]
  },
  {
   "cell_type": "code",
   "execution_count": 3,
   "metadata": {},
   "outputs": [
    {
     "data": {
      "text/plain": [
       "array([5.   , 1.   , 0.85 , 0.3  , 0.25 , 0.125, 0.063, 0.053, 0.038,\n",
       "       0.025])"
      ]
     },
     "execution_count": 3,
     "metadata": {},
     "output_type": "execute_result"
    }
   ],
   "source": [
    "grain_sizes"
   ]
  },
  {
   "cell_type": "code",
   "execution_count": 4,
   "metadata": {},
   "outputs": [
    {
     "data": {
      "text/plain": [
       "array([100.        ,  44.49114418,  35.828248  ,   7.5862025 ,\n",
       "         6.35125908,   3.77608515,   2.46286768,   2.13615857,\n",
       "         1.60780869,   1.31343017])"
      ]
     },
     "execution_count": 4,
     "metadata": {},
     "output_type": "execute_result"
    }
   ],
   "source": [
    "percent_passing"
   ]
  },
  {
   "cell_type": "code",
   "execution_count": null,
   "metadata": {},
   "outputs": [],
   "source": []
  }
 ],
 "metadata": {
  "kernelspec": {
   "display_name": "base",
   "language": "python",
   "name": "python3"
  },
  "language_info": {
   "codemirror_mode": {
    "name": "ipython",
    "version": 3
   },
   "file_extension": ".py",
   "mimetype": "text/x-python",
   "name": "python",
   "nbconvert_exporter": "python",
   "pygments_lexer": "ipython3",
   "version": "3.9.12"
  },
  "orig_nbformat": 4
 },
 "nbformat": 4,
 "nbformat_minor": 2
}
