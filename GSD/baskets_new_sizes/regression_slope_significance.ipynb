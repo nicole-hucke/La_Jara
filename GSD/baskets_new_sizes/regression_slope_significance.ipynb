{
 "cells": [
  {
   "cell_type": "markdown",
   "id": "3ba8d11c",
   "metadata": {},
   "source": [
    "## Testing if the regression slopes are significantly different from eachother\n",
    "Note: I am not sure if all of this is correct, I just followed what I found online to what seemed reasonable to do, but is subject to change"
   ]
  },
  {
   "cell_type": "code",
   "execution_count": 29,
   "id": "ff688673",
   "metadata": {},
   "outputs": [],
   "source": [
    "from scipy import stats\n",
    "import numpy as np\n",
    "import pandas as pd \n",
    "import statsmodels.formula.api as smf\n",
    "import statsmodels.stats.anova as smanova "
   ]
  },
  {
   "cell_type": "markdown",
   "id": "53a18b67",
   "metadata": {},
   "source": [
    "### Seasonally "
   ]
  },
  {
   "cell_type": "markdown",
   "id": "51327bd7",
   "metadata": {},
   "source": [
    "Total Sediment"
   ]
  },
  {
   "cell_type": "code",
   "execution_count": 4,
   "id": "0a3b6481",
   "metadata": {},
   "outputs": [
    {
     "name": "stdout",
     "output_type": "stream",
     "text": [
      "T-statistic: 0.014\n",
      "P-value: 0.9892\n",
      "No significant difference between the slopes.\n",
      "Critical t-value (two-tailed, α=0.05): ±2.306\n",
      "The difference is NOT significant.\n"
     ]
    }
   ],
   "source": [
    "# spring slope and standard error\n",
    "beta1 = -1.825235574 #slope\n",
    "se1 = 0.296210271\n",
    "# summer slope and standard error - without the T2 outlier\n",
    "beta2 = -1.83395639948931\n",
    "se2 = 0.551398621493848\n",
    "df = 8  # degrees of freedom, assuming equal variance and n1+n2-4\n",
    "\n",
    "# calculate the t-statistic\n",
    "t_stat = (beta1 - beta2) / np.sqrt(se1**2 + se2**2)\n",
    "\n",
    "# degrees of freedom: use df=n1+n2-4 if known\n",
    "p_value = 2 * (1 - stats.t.cdf(abs(t_stat), df=df))\n",
    "\n",
    "print(f\"T-statistic: {t_stat:.3f}\")\n",
    "print(f\"P-value: {p_value:.4f}\")\n",
    "\n",
    "# Interpretation\n",
    "alpha = 0.05\n",
    "if p_value < alpha:\n",
    "    print(\"The slopes are significantly different.\")\n",
    "else:\n",
    "    print(\"No significant difference between the slopes.\")\n",
    "\n",
    "    # Get the critical t-value for a two-tailed test\n",
    "t_crit = stats.t.ppf(1 - alpha/2, df)\n",
    "print(f\"Critical t-value (two-tailed, α=0.05): ±{t_crit:.3f}\")\n",
    "if abs(t_stat) > t_crit:\n",
    "    print(\"The difference is significant.\")\n",
    "else:\n",
    "    print(\"The difference is NOT significant.\")\n"
   ]
  },
  {
   "cell_type": "markdown",
   "id": "ca55951f",
   "metadata": {},
   "source": [
    "Coarse Sand"
   ]
  },
  {
   "cell_type": "code",
   "execution_count": 5,
   "id": "9bc6d35a",
   "metadata": {},
   "outputs": [
    {
     "name": "stdout",
     "output_type": "stream",
     "text": [
      "T-statistic: 0.007\n",
      "P-value: 0.9944\n",
      "No significant difference between the slopes.\n",
      "Critical t-value (two-tailed, α=0.05): ±2.306\n",
      "The difference is NOT significant.\n"
     ]
    }
   ],
   "source": [
    "# spring slope and standard error\n",
    "beta1 = -1.760101149\n",
    "se1 = 0.330140029\n",
    "# summer slope and standard error - without the T2 outlier\n",
    "beta2 = -1.772826489\n",
    "se2 = 1.738993826\n",
    "df = 8  # degrees of freedom, assuming equal variance and n1+n2-4\n",
    "\n",
    "# calculate the t-statistic\n",
    "t_stat = (beta1 - beta2) / np.sqrt(se1**2 + se2**2)\n",
    "\n",
    "# degrees of freedom: use df=n1+n2-4 if known\n",
    "p_value = 2 * (1 - stats.t.cdf(abs(t_stat), df=df))\n",
    "\n",
    "print(f\"T-statistic: {t_stat:.3f}\")\n",
    "print(f\"P-value: {p_value:.4f}\")\n",
    "\n",
    "# Interpretation\n",
    "alpha = 0.05\n",
    "if p_value < alpha:\n",
    "    print(\"The slopes are significantly different.\")\n",
    "else:\n",
    "    print(\"No significant difference between the slopes.\")\n",
    "\n",
    "    # Get the critical t-value for a two-tailed test\n",
    "t_crit = stats.t.ppf(1 - alpha/2, df)\n",
    "print(f\"Critical t-value (two-tailed, α=0.05): ±{t_crit:.3f}\")\n",
    "if abs(t_stat) > t_crit:\n",
    "    print(\"The difference is significant.\")\n",
    "else:\n",
    "    print(\"The difference is NOT significant.\")"
   ]
  },
  {
   "cell_type": "markdown",
   "id": "7a623d33",
   "metadata": {},
   "source": [
    "Fine Sand"
   ]
  },
  {
   "cell_type": "code",
   "execution_count": 6,
   "id": "be182a42",
   "metadata": {},
   "outputs": [
    {
     "name": "stdout",
     "output_type": "stream",
     "text": [
      "T-statistic: -0.016\n",
      "P-value: 0.9879\n",
      "No significant difference between the slopes.\n",
      "Critical t-value (two-tailed, α=0.05): ±2.306\n",
      "The difference is NOT significant.\n"
     ]
    }
   ],
   "source": [
    "# spring slope and standard error\n",
    "beta1 = -1.951380189\n",
    "se1 = 0.807291172\n",
    "# summer slope and standard error - without the T2 outlier\n",
    "beta2 = -1.935184536\n",
    "se2 = 0.653801062\n",
    "df = 8  # degrees of freedom, assuming equal variance and n1+n2-4\n",
    "\n",
    "# calculate the t-statistic\n",
    "t_stat = (beta1 - beta2) / np.sqrt(se1**2 + se2**2)\n",
    "\n",
    "# degrees of freedom: use df=n1+n2-4 if known\n",
    "p_value = 2 * (1 - stats.t.cdf(abs(t_stat), df=df))\n",
    "\n",
    "print(f\"T-statistic: {t_stat:.3f}\")\n",
    "print(f\"P-value: {p_value:.4f}\")\n",
    "\n",
    "# Interpretation\n",
    "alpha = 0.05\n",
    "if p_value < alpha:\n",
    "    print(\"The slopes are significantly different.\")\n",
    "else:\n",
    "    print(\"No significant difference between the slopes.\")\n",
    "\n",
    "    # Get the critical t-value for a two-tailed test\n",
    "t_crit = stats.t.ppf(1 - alpha/2, df)\n",
    "print(f\"Critical t-value (two-tailed, α=0.05): ±{t_crit:.3f}\")\n",
    "if abs(t_stat) > t_crit:\n",
    "    print(\"The difference is significant.\")\n",
    "else:\n",
    "    print(\"The difference is NOT significant.\")"
   ]
  },
  {
   "cell_type": "markdown",
   "id": "ff91bcf8",
   "metadata": {},
   "source": [
    "Silt"
   ]
  },
  {
   "cell_type": "code",
   "execution_count": 7,
   "id": "88b1ff47",
   "metadata": {},
   "outputs": [
    {
     "name": "stdout",
     "output_type": "stream",
     "text": [
      "T-statistic: -1.151\n",
      "P-value: 0.2829\n",
      "No significant difference between the slopes.\n",
      "Critical t-value (two-tailed, α=0.05): ±2.306\n",
      "The difference is NOT significant.\n"
     ]
    }
   ],
   "source": [
    "# spring slope and standard error\n",
    "beta1 = -2.280023075\n",
    "se1 = 0.924899177\n",
    "# summer slope and standard error - without the T2 outlier\n",
    "beta2 = -0.962476029\n",
    "se2 = 0.674277316\n",
    "df = 8  # degrees of freedom, assuming equal variance and n1+n2-4\n",
    "\n",
    "# calculate the t-statistic\n",
    "t_stat = (beta1 - beta2) / np.sqrt(se1**2 + se2**2)\n",
    "\n",
    "# degrees of freedom: use df=n1+n2-4 if known\n",
    "p_value = 2 * (1 - stats.t.cdf(abs(t_stat), df=df))\n",
    "\n",
    "print(f\"T-statistic: {t_stat:.3f}\")\n",
    "print(f\"P-value: {p_value:.4f}\")\n",
    "\n",
    "# Interpretation\n",
    "alpha = 0.05\n",
    "if p_value < alpha:\n",
    "    print(\"The slopes are significantly different.\")\n",
    "else:\n",
    "    print(\"No significant difference between the slopes.\")\n",
    "\n",
    "    # Get the critical t-value for a two-tailed test\n",
    "t_crit = stats.t.ppf(1 - alpha/2, df)\n",
    "print(f\"Critical t-value (two-tailed, α=0.05): ±{t_crit:.3f}\")\n",
    "if abs(t_stat) > t_crit:\n",
    "    print(\"The difference is significant.\")\n",
    "else:\n",
    "    print(\"The difference is NOT significant.\")"
   ]
  },
  {
   "cell_type": "markdown",
   "id": "22d5dae2",
   "metadata": {},
   "source": [
    "Clay"
   ]
  },
  {
   "cell_type": "code",
   "execution_count": 8,
   "id": "ac2747f4",
   "metadata": {},
   "outputs": [
    {
     "name": "stdout",
     "output_type": "stream",
     "text": [
      "T-statistic: -0.766\n",
      "P-value: 0.4658\n",
      "No significant difference between the slopes.\n",
      "Critical t-value (two-tailed, α=0.05): ±2.306\n",
      "The difference is NOT significant.\n"
     ]
    }
   ],
   "source": [
    "# spring slope and standard error\n",
    "beta1 = -2.50234747\n",
    "se1 = 1.015251663\n",
    "# summer slope and standard error - without the T2 outlier\n",
    "beta2 = -1.429228873\n",
    "se2 = 0.965853282\n",
    "df = 8  # degrees of freedom, assuming equal variance and n1+n2-4\n",
    "\n",
    "# calculate the t-statistic\n",
    "t_stat = (beta1 - beta2) / np.sqrt(se1**2 + se2**2)\n",
    "\n",
    "# degrees of freedom: use df=n1+n2-4 if known\n",
    "p_value = 2 * (1 - stats.t.cdf(abs(t_stat), df=df))\n",
    "\n",
    "print(f\"T-statistic: {t_stat:.3f}\")\n",
    "print(f\"P-value: {p_value:.4f}\")\n",
    "\n",
    "# Interpretation\n",
    "alpha = 0.05\n",
    "if p_value < alpha:\n",
    "    print(\"The slopes are significantly different.\")\n",
    "else:\n",
    "    print(\"No significant difference between the slopes.\")\n",
    "\n",
    "    # Get the critical t-value for a two-tailed test\n",
    "t_crit = stats.t.ppf(1 - alpha/2, df)\n",
    "print(f\"Critical t-value (two-tailed, α=0.05): ±{t_crit:.3f}\")\n",
    "if abs(t_stat) > t_crit:\n",
    "    print(\"The difference is significant.\")\n",
    "else:\n",
    "    print(\"The difference is NOT significant.\")"
   ]
  },
  {
   "cell_type": "markdown",
   "id": "abeb1f69",
   "metadata": {},
   "source": [
    "### Between GS class"
   ]
  },
  {
   "cell_type": "markdown",
   "id": "70dbf8fe",
   "metadata": {},
   "source": [
    "If I want to test four regressions (CS, FS, S and C) in a given season, I will use ANCOVA (Analysis of Covariance)"
   ]
  },
  {
   "cell_type": "markdown",
   "id": "749c37d9",
   "metadata": {},
   "source": [
    "#### Spring"
   ]
  },
  {
   "cell_type": "code",
   "execution_count": 21,
   "id": "074fe608",
   "metadata": {},
   "outputs": [
    {
     "data": {
      "application/vnd.microsoft.datawrangler.viewer.v0+json": {
       "columns": [
        {
         "name": "index",
         "rawType": "int64",
         "type": "integer"
        },
        {
         "name": "HyporheicFlux",
         "rawType": "float64",
         "type": "float"
        },
        {
         "name": "DeltaSediment",
         "rawType": "float64",
         "type": "float"
        },
        {
         "name": "group",
         "rawType": "object",
         "type": "string"
        }
       ],
       "ref": "1a83834b-d053-442d-8eb3-15c2d6f89c4f",
       "rows": [
        [
         "0",
         "0.205",
         "-0.487",
         "CS"
        ],
        [
         "1",
         "-0.317",
         "0.554",
         "CS"
        ],
        [
         "2",
         "-0.11",
         "-0.041",
         "CS"
        ],
        [
         "3",
         "0.06",
         "-0.249",
         "CS"
        ],
        [
         "4",
         "-0.035",
         "-0.075",
         "CS"
        ],
        [
         "5",
         "-0.167",
         "-0.068",
         "CS"
        ],
        [
         "6",
         "-0.033",
         "0.032",
         "CS"
        ],
        [
         "7",
         "0.205",
         "-0.355",
         "FS"
        ],
        [
         "8",
         "-0.317",
         "0.434",
         "FS"
        ],
        [
         "9",
         "-0.11",
         "0.85",
         "FS"
        ],
        [
         "10",
         "0.06",
         "-0.425",
         "FS"
        ],
        [
         "11",
         "-0.035",
         "0.06",
         "FS"
        ],
        [
         "12",
         "-0.167",
         "0.24",
         "FS"
        ],
        [
         "13",
         "-0.033",
         "0.12",
         "FS"
        ],
        [
         "14",
         "0.205",
         "-0.39",
         "S"
        ],
        [
         "15",
         "-0.317",
         "0.452",
         "S"
        ],
        [
         "16",
         "-0.11",
         "0.867",
         "S"
        ],
        [
         "17",
         "0.06",
         "-0.475",
         "S"
        ],
        [
         "18",
         "-0.035",
         "-0.024",
         "S"
        ],
        [
         "19",
         "-0.167",
         "0.443",
         "S"
        ],
        [
         "20",
         "-0.033",
         "-0.294",
         "S"
        ],
        [
         "21",
         "0.205",
         "-0.407",
         "C"
        ],
        [
         "22",
         "-0.317",
         "0.499",
         "C"
        ],
        [
         "23",
         "-0.11",
         "0.925",
         "C"
        ],
        [
         "24",
         "0.06",
         "-0.53",
         "C"
        ],
        [
         "25",
         "-0.035",
         "-0.054",
         "C"
        ],
        [
         "26",
         "-0.167",
         "0.524",
         "C"
        ],
        [
         "27",
         "-0.033",
         "-0.343",
         "C"
        ]
       ],
       "shape": {
        "columns": 3,
        "rows": 28
       }
      },
      "text/html": [
       "<div>\n",
       "<style scoped>\n",
       "    .dataframe tbody tr th:only-of-type {\n",
       "        vertical-align: middle;\n",
       "    }\n",
       "\n",
       "    .dataframe tbody tr th {\n",
       "        vertical-align: top;\n",
       "    }\n",
       "\n",
       "    .dataframe thead th {\n",
       "        text-align: right;\n",
       "    }\n",
       "</style>\n",
       "<table border=\"1\" class=\"dataframe\">\n",
       "  <thead>\n",
       "    <tr style=\"text-align: right;\">\n",
       "      <th></th>\n",
       "      <th>HyporheicFlux</th>\n",
       "      <th>DeltaSediment</th>\n",
       "      <th>group</th>\n",
       "    </tr>\n",
       "  </thead>\n",
       "  <tbody>\n",
       "    <tr>\n",
       "      <th>0</th>\n",
       "      <td>0.205</td>\n",
       "      <td>-0.487</td>\n",
       "      <td>CS</td>\n",
       "    </tr>\n",
       "    <tr>\n",
       "      <th>1</th>\n",
       "      <td>-0.317</td>\n",
       "      <td>0.554</td>\n",
       "      <td>CS</td>\n",
       "    </tr>\n",
       "    <tr>\n",
       "      <th>2</th>\n",
       "      <td>-0.110</td>\n",
       "      <td>-0.041</td>\n",
       "      <td>CS</td>\n",
       "    </tr>\n",
       "    <tr>\n",
       "      <th>3</th>\n",
       "      <td>0.060</td>\n",
       "      <td>-0.249</td>\n",
       "      <td>CS</td>\n",
       "    </tr>\n",
       "    <tr>\n",
       "      <th>4</th>\n",
       "      <td>-0.035</td>\n",
       "      <td>-0.075</td>\n",
       "      <td>CS</td>\n",
       "    </tr>\n",
       "    <tr>\n",
       "      <th>5</th>\n",
       "      <td>-0.167</td>\n",
       "      <td>-0.068</td>\n",
       "      <td>CS</td>\n",
       "    </tr>\n",
       "    <tr>\n",
       "      <th>6</th>\n",
       "      <td>-0.033</td>\n",
       "      <td>0.032</td>\n",
       "      <td>CS</td>\n",
       "    </tr>\n",
       "    <tr>\n",
       "      <th>7</th>\n",
       "      <td>0.205</td>\n",
       "      <td>-0.355</td>\n",
       "      <td>FS</td>\n",
       "    </tr>\n",
       "    <tr>\n",
       "      <th>8</th>\n",
       "      <td>-0.317</td>\n",
       "      <td>0.434</td>\n",
       "      <td>FS</td>\n",
       "    </tr>\n",
       "    <tr>\n",
       "      <th>9</th>\n",
       "      <td>-0.110</td>\n",
       "      <td>0.850</td>\n",
       "      <td>FS</td>\n",
       "    </tr>\n",
       "    <tr>\n",
       "      <th>10</th>\n",
       "      <td>0.060</td>\n",
       "      <td>-0.425</td>\n",
       "      <td>FS</td>\n",
       "    </tr>\n",
       "    <tr>\n",
       "      <th>11</th>\n",
       "      <td>-0.035</td>\n",
       "      <td>0.060</td>\n",
       "      <td>FS</td>\n",
       "    </tr>\n",
       "    <tr>\n",
       "      <th>12</th>\n",
       "      <td>-0.167</td>\n",
       "      <td>0.240</td>\n",
       "      <td>FS</td>\n",
       "    </tr>\n",
       "    <tr>\n",
       "      <th>13</th>\n",
       "      <td>-0.033</td>\n",
       "      <td>0.120</td>\n",
       "      <td>FS</td>\n",
       "    </tr>\n",
       "    <tr>\n",
       "      <th>14</th>\n",
       "      <td>0.205</td>\n",
       "      <td>-0.390</td>\n",
       "      <td>S</td>\n",
       "    </tr>\n",
       "    <tr>\n",
       "      <th>15</th>\n",
       "      <td>-0.317</td>\n",
       "      <td>0.452</td>\n",
       "      <td>S</td>\n",
       "    </tr>\n",
       "    <tr>\n",
       "      <th>16</th>\n",
       "      <td>-0.110</td>\n",
       "      <td>0.867</td>\n",
       "      <td>S</td>\n",
       "    </tr>\n",
       "    <tr>\n",
       "      <th>17</th>\n",
       "      <td>0.060</td>\n",
       "      <td>-0.475</td>\n",
       "      <td>S</td>\n",
       "    </tr>\n",
       "    <tr>\n",
       "      <th>18</th>\n",
       "      <td>-0.035</td>\n",
       "      <td>-0.024</td>\n",
       "      <td>S</td>\n",
       "    </tr>\n",
       "    <tr>\n",
       "      <th>19</th>\n",
       "      <td>-0.167</td>\n",
       "      <td>0.443</td>\n",
       "      <td>S</td>\n",
       "    </tr>\n",
       "    <tr>\n",
       "      <th>20</th>\n",
       "      <td>-0.033</td>\n",
       "      <td>-0.294</td>\n",
       "      <td>S</td>\n",
       "    </tr>\n",
       "    <tr>\n",
       "      <th>21</th>\n",
       "      <td>0.205</td>\n",
       "      <td>-0.407</td>\n",
       "      <td>C</td>\n",
       "    </tr>\n",
       "    <tr>\n",
       "      <th>22</th>\n",
       "      <td>-0.317</td>\n",
       "      <td>0.499</td>\n",
       "      <td>C</td>\n",
       "    </tr>\n",
       "    <tr>\n",
       "      <th>23</th>\n",
       "      <td>-0.110</td>\n",
       "      <td>0.925</td>\n",
       "      <td>C</td>\n",
       "    </tr>\n",
       "    <tr>\n",
       "      <th>24</th>\n",
       "      <td>0.060</td>\n",
       "      <td>-0.530</td>\n",
       "      <td>C</td>\n",
       "    </tr>\n",
       "    <tr>\n",
       "      <th>25</th>\n",
       "      <td>-0.035</td>\n",
       "      <td>-0.054</td>\n",
       "      <td>C</td>\n",
       "    </tr>\n",
       "    <tr>\n",
       "      <th>26</th>\n",
       "      <td>-0.167</td>\n",
       "      <td>0.524</td>\n",
       "      <td>C</td>\n",
       "    </tr>\n",
       "    <tr>\n",
       "      <th>27</th>\n",
       "      <td>-0.033</td>\n",
       "      <td>-0.343</td>\n",
       "      <td>C</td>\n",
       "    </tr>\n",
       "  </tbody>\n",
       "</table>\n",
       "</div>"
      ],
      "text/plain": [
       "    HyporheicFlux  DeltaSediment group\n",
       "0           0.205         -0.487    CS\n",
       "1          -0.317          0.554    CS\n",
       "2          -0.110         -0.041    CS\n",
       "3           0.060         -0.249    CS\n",
       "4          -0.035         -0.075    CS\n",
       "5          -0.167         -0.068    CS\n",
       "6          -0.033          0.032    CS\n",
       "7           0.205         -0.355    FS\n",
       "8          -0.317          0.434    FS\n",
       "9          -0.110          0.850    FS\n",
       "10          0.060         -0.425    FS\n",
       "11         -0.035          0.060    FS\n",
       "12         -0.167          0.240    FS\n",
       "13         -0.033          0.120    FS\n",
       "14          0.205         -0.390     S\n",
       "15         -0.317          0.452     S\n",
       "16         -0.110          0.867     S\n",
       "17          0.060         -0.475     S\n",
       "18         -0.035         -0.024     S\n",
       "19         -0.167          0.443     S\n",
       "20         -0.033         -0.294     S\n",
       "21          0.205         -0.407     C\n",
       "22         -0.317          0.499     C\n",
       "23         -0.110          0.925     C\n",
       "24          0.060         -0.530     C\n",
       "25         -0.035         -0.054     C\n",
       "26         -0.167          0.524     C\n",
       "27         -0.033         -0.343     C"
      ]
     },
     "execution_count": 21,
     "metadata": {},
     "output_type": "execute_result"
    }
   ],
   "source": [
    "# from excel data\n",
    "# hyporheic flux (x)\n",
    "x_CS = [0.205, -0.317, -0.110, 0.060, -0.035, -0.167, -0.033]\n",
    "x_FS = [0.205, -0.317, -0.110, 0.060, -0.035, -0.167, -0.033]\n",
    "x_S =  [0.205, -0.317, -0.110, 0.060, -0.035, -0.167, -0.033]\n",
    "x_C =  [0.205, -0.317, -0.110, 0.060, -0.035, -0.167, -0.033]\n",
    "\n",
    "# delta sediment (y)\n",
    "y_CS = [-0.487, 0.554, -0.041, -0.249, -0.075, -0.068, 0.032] \n",
    "y_FS = [-0.355, 0.434, 0.850, -0.425, 0.060, 0.240, 0.120]\n",
    "y_S =  [-0.390, 0.452, 0.867, -0.475, -0.024, 0.443, -0.294]\n",
    "y_C =  [-0.407, 0.499, 0.925, -0.530, -0.054, 0.524, -0.343]\n",
    "\n",
    "# create group labels\n",
    "group_A = ['CS'] * len(x_CS)\n",
    "group_B = ['FS'] * len(x_FS)\n",
    "group_C = ['S'] * len(x_S)\n",
    "group_D = ['C'] * len(x_C)\n",
    "\n",
    "# combine into a single dataframe\n",
    "df = pd.DataFrame({\n",
    "    'HyporheicFlux': x_CS + x_FS + x_S + x_C,\n",
    "    'DeltaSediment': y_CS + y_FS + y_S + y_C,\n",
    "    'group': group_A + group_B + group_C + group_D\n",
    "})\n",
    "df"
   ]
  },
  {
   "cell_type": "markdown",
   "id": "020b4823",
   "metadata": {},
   "source": [
    "Clay as reference"
   ]
  },
  {
   "cell_type": "code",
   "execution_count": 36,
   "id": "3c9171b9",
   "metadata": {},
   "outputs": [
    {
     "name": "stdout",
     "output_type": "stream",
     "text": [
      "                            OLS Regression Results                            \n",
      "==============================================================================\n",
      "Dep. Variable:          DeltaSediment   R-squared:                       0.590\n",
      "Model:                            OLS   Adj. R-squared:                  0.447\n",
      "Method:                 Least Squares   F-statistic:                     4.117\n",
      "Date:                Wed, 11 Jun 2025   Prob (F-statistic):            0.00593\n",
      "Time:                        17:33:37   Log-Likelihood:                -4.0970\n",
      "No. Observations:                  28   AIC:                             24.19\n",
      "Df Residuals:                      20   BIC:                             34.85\n",
      "Df Model:                           7                                         \n",
      "Covariance Type:            nonrobust                                         \n",
      "=============================================================================================\n",
      "                                coef    std err          t      P>|t|      [0.025      0.975]\n",
      "---------------------------------------------------------------------------------------------\n",
      "Intercept                    -0.0540      0.133     -0.405      0.690      -0.332       0.224\n",
      "group[T.CS]                  -0.0935      0.189     -0.495      0.626      -0.487       0.300\n",
      "group[T.FS]                   0.0756      0.189      0.400      0.693      -0.318       0.469\n",
      "group[T.S]                    0.0076      0.189      0.040      0.968      -0.386       0.401\n",
      "HyporheicFlux                -2.4993      0.814     -3.072      0.006      -4.197      -0.802\n",
      "HyporheicFlux:group[T.CS]     0.7399      1.151      0.643      0.528      -1.660       3.140\n",
      "HyporheicFlux:group[T.FS]     0.5519      1.151      0.480      0.637      -1.848       2.952\n",
      "HyporheicFlux:group[T.S]      0.2227      1.151      0.193      0.849      -2.178       2.623\n",
      "==============================================================================\n",
      "Omnibus:                        7.882   Durbin-Watson:                   3.104\n",
      "Prob(Omnibus):                  0.019   Jarque-Bera (JB):                6.138\n",
      "Skew:                           1.076   Prob(JB):                       0.0465\n",
      "Kurtosis:                       3.794   Cond. No.                         31.2\n",
      "==============================================================================\n",
      "\n",
      "Notes:\n",
      "[1] Standard Errors assume that the covariance matrix of the errors is correctly specified.\n"
     ]
    },
    {
     "data": {
      "application/vnd.microsoft.datawrangler.viewer.v0+json": {
       "columns": [
        {
         "name": "index",
         "rawType": "object",
         "type": "string"
        },
        {
         "name": "sum_sq",
         "rawType": "float64",
         "type": "float"
        },
        {
         "name": "df",
         "rawType": "float64",
         "type": "float"
        },
        {
         "name": "F",
         "rawType": "float64",
         "type": "float"
        },
        {
         "name": "PR(>F)",
         "rawType": "float64",
         "type": "float"
        }
       ],
       "ref": "9ac5f549-8c81-4f7e-b0ec-e02a923fb7a8",
       "rows": [
        [
         "group",
         "0.12611382142857083",
         "3.0",
         "0.38273168776877614",
         "0.766546171389891"
        ],
        [
         "HyporheicFlux",
         "2.984610024558962",
         "1.0",
         "27.17318734199279",
         "4.222413779388834e-05"
        ],
        [
         "HyporheicFlux:group",
         "0.05444661757178163",
         "3.0",
         "0.16523522640499563",
         "0.9185331405871578"
        ],
        [
         "Residual",
         "2.196731643583539",
         "20.0",
         null,
         null
        ]
       ],
       "shape": {
        "columns": 4,
        "rows": 4
       }
      },
      "text/html": [
       "<div>\n",
       "<style scoped>\n",
       "    .dataframe tbody tr th:only-of-type {\n",
       "        vertical-align: middle;\n",
       "    }\n",
       "\n",
       "    .dataframe tbody tr th {\n",
       "        vertical-align: top;\n",
       "    }\n",
       "\n",
       "    .dataframe thead th {\n",
       "        text-align: right;\n",
       "    }\n",
       "</style>\n",
       "<table border=\"1\" class=\"dataframe\">\n",
       "  <thead>\n",
       "    <tr style=\"text-align: right;\">\n",
       "      <th></th>\n",
       "      <th>sum_sq</th>\n",
       "      <th>df</th>\n",
       "      <th>F</th>\n",
       "      <th>PR(&gt;F)</th>\n",
       "    </tr>\n",
       "  </thead>\n",
       "  <tbody>\n",
       "    <tr>\n",
       "      <th>group</th>\n",
       "      <td>0.126114</td>\n",
       "      <td>3.0</td>\n",
       "      <td>0.382732</td>\n",
       "      <td>0.766546</td>\n",
       "    </tr>\n",
       "    <tr>\n",
       "      <th>HyporheicFlux</th>\n",
       "      <td>2.984610</td>\n",
       "      <td>1.0</td>\n",
       "      <td>27.173187</td>\n",
       "      <td>0.000042</td>\n",
       "    </tr>\n",
       "    <tr>\n",
       "      <th>HyporheicFlux:group</th>\n",
       "      <td>0.054447</td>\n",
       "      <td>3.0</td>\n",
       "      <td>0.165235</td>\n",
       "      <td>0.918533</td>\n",
       "    </tr>\n",
       "    <tr>\n",
       "      <th>Residual</th>\n",
       "      <td>2.196732</td>\n",
       "      <td>20.0</td>\n",
       "      <td>NaN</td>\n",
       "      <td>NaN</td>\n",
       "    </tr>\n",
       "  </tbody>\n",
       "</table>\n",
       "</div>"
      ],
      "text/plain": [
       "                       sum_sq    df          F    PR(>F)\n",
       "group                0.126114   3.0   0.382732  0.766546\n",
       "HyporheicFlux        2.984610   1.0  27.173187  0.000042\n",
       "HyporheicFlux:group  0.054447   3.0   0.165235  0.918533\n",
       "Residual             2.196732  20.0        NaN       NaN"
      ]
     },
     "metadata": {},
     "output_type": "display_data"
    }
   ],
   "source": [
    "# set 'group' as a categorical variable with a specific reference level\n",
    "df['group'] = pd.Categorical(df['group'], categories=['C', 'CS', 'FS', 'S'])\n",
    "# run stats models regression\n",
    "model = smf.ols('DeltaSediment ~ HyporheicFlux * group', data=df).fit()\n",
    "# print the summary of the regression model\n",
    "print(model.summary())\n",
    "\n",
    "# perform ANCOVA\n",
    "ancova_table = smanova.anova_lm(model, typ=2)\n",
    "# print ancova with headers\n",
    "display(ancova_table)\n"
   ]
  },
  {
   "cell_type": "markdown",
   "id": "94e6b711",
   "metadata": {},
   "source": [
    "Silt as reference"
   ]
  },
  {
   "cell_type": "code",
   "execution_count": 24,
   "id": "9228c4ec",
   "metadata": {},
   "outputs": [
    {
     "name": "stdout",
     "output_type": "stream",
     "text": [
      "                            OLS Regression Results                            \n",
      "==============================================================================\n",
      "Dep. Variable:          DeltaSediment   R-squared:                       0.590\n",
      "Model:                            OLS   Adj. R-squared:                  0.447\n",
      "Method:                 Least Squares   F-statistic:                     4.117\n",
      "Date:                Wed, 11 Jun 2025   Prob (F-statistic):            0.00593\n",
      "Time:                        16:55:15   Log-Likelihood:                -4.0970\n",
      "No. Observations:                  28   AIC:                             24.19\n",
      "Df Residuals:                      20   BIC:                             34.85\n",
      "Df Model:                           7                                         \n",
      "Covariance Type:            nonrobust                                         \n",
      "=============================================================================================\n",
      "                                coef    std err          t      P>|t|      [0.025      0.975]\n",
      "---------------------------------------------------------------------------------------------\n",
      "Intercept                    -0.0464      0.133     -0.348      0.732      -0.325       0.232\n",
      "group[T.CS]                  -0.1011      0.189     -0.535      0.598      -0.495       0.293\n",
      "group[T.FS]                   0.0680      0.189      0.360      0.723      -0.326       0.462\n",
      "group[T.C]                   -0.0076      0.189     -0.040      0.968      -0.401       0.386\n",
      "HyporheicFlux                -2.2767      0.814     -2.798      0.011      -3.974      -0.579\n",
      "HyporheicFlux:group[T.CS]     0.5172      1.151      0.449      0.658      -1.883       2.918\n",
      "HyporheicFlux:group[T.FS]     0.3292      1.151      0.286      0.778      -2.071       2.730\n",
      "HyporheicFlux:group[T.C]     -0.2227      1.151     -0.193      0.849      -2.623       2.178\n",
      "==============================================================================\n",
      "Omnibus:                        7.882   Durbin-Watson:                   3.104\n",
      "Prob(Omnibus):                  0.019   Jarque-Bera (JB):                6.138\n",
      "Skew:                           1.076   Prob(JB):                       0.0465\n",
      "Kurtosis:                       3.794   Cond. No.                         31.2\n",
      "==============================================================================\n",
      "\n",
      "Notes:\n",
      "[1] Standard Errors assume that the covariance matrix of the errors is correctly specified.\n"
     ]
    }
   ],
   "source": [
    "# set 'group' as a categorical variable with a specific reference level\n",
    "df['group'] = pd.Categorical(df['group'], categories=['S', 'CS', 'FS', 'C'])\n",
    "# run stats models regression\n",
    "model = smf.ols('DeltaSediment ~ HyporheicFlux * group', data=df).fit()\n",
    "# print the summary of the regression model\n",
    "print(model.summary())"
   ]
  },
  {
   "cell_type": "markdown",
   "id": "2a52aa20",
   "metadata": {},
   "source": [
    "Fine sand as reference"
   ]
  },
  {
   "cell_type": "code",
   "execution_count": 37,
   "id": "5fe9d5b9",
   "metadata": {},
   "outputs": [
    {
     "name": "stdout",
     "output_type": "stream",
     "text": [
      "                            OLS Regression Results                            \n",
      "==============================================================================\n",
      "Dep. Variable:          DeltaSediment   R-squared:                       0.590\n",
      "Model:                            OLS   Adj. R-squared:                  0.447\n",
      "Method:                 Least Squares   F-statistic:                     4.117\n",
      "Date:                Wed, 11 Jun 2025   Prob (F-statistic):            0.00593\n",
      "Time:                        17:34:09   Log-Likelihood:                -4.0970\n",
      "No. Observations:                  28   AIC:                             24.19\n",
      "Df Residuals:                      20   BIC:                             34.85\n",
      "Df Model:                           7                                         \n",
      "Covariance Type:            nonrobust                                         \n",
      "=============================================================================================\n",
      "                                coef    std err          t      P>|t|      [0.025      0.975]\n",
      "---------------------------------------------------------------------------------------------\n",
      "Intercept                     0.0216      0.133      0.161      0.873      -0.257       0.300\n",
      "group[T.CS]                  -0.1691      0.189     -0.895      0.381      -0.563       0.225\n",
      "group[T.S]                   -0.0680      0.189     -0.360      0.723      -0.462       0.326\n",
      "group[T.C]                   -0.0756      0.189     -0.400      0.693      -0.469       0.318\n",
      "HyporheicFlux                -1.9475      0.814     -2.393      0.027      -3.645      -0.250\n",
      "HyporheicFlux:group[T.CS]     0.1880      1.151      0.163      0.872      -2.212       2.588\n",
      "HyporheicFlux:group[T.S]     -0.3292      1.151     -0.286      0.778      -2.730       2.071\n",
      "HyporheicFlux:group[T.C]     -0.5519      1.151     -0.480      0.637      -2.952       1.848\n",
      "==============================================================================\n",
      "Omnibus:                        7.882   Durbin-Watson:                   3.104\n",
      "Prob(Omnibus):                  0.019   Jarque-Bera (JB):                6.138\n",
      "Skew:                           1.076   Prob(JB):                       0.0465\n",
      "Kurtosis:                       3.794   Cond. No.                         31.2\n",
      "==============================================================================\n",
      "\n",
      "Notes:\n",
      "[1] Standard Errors assume that the covariance matrix of the errors is correctly specified.\n"
     ]
    },
    {
     "data": {
      "application/vnd.microsoft.datawrangler.viewer.v0+json": {
       "columns": [
        {
         "name": "index",
         "rawType": "object",
         "type": "string"
        },
        {
         "name": "sum_sq",
         "rawType": "float64",
         "type": "float"
        },
        {
         "name": "df",
         "rawType": "float64",
         "type": "float"
        },
        {
         "name": "F",
         "rawType": "float64",
         "type": "float"
        },
        {
         "name": "PR(>F)",
         "rawType": "float64",
         "type": "float"
        }
       ],
       "ref": "70b6209a-a2b1-4a84-8352-8d0acaf270e9",
       "rows": [
        [
         "group",
         "0.12611382142857155",
         "3.0",
         "0.38273168776877814",
         "0.7665461713898892"
        ],
        [
         "HyporheicFlux",
         "2.9846100245589686",
         "1.0",
         "27.173187341992836",
         "4.22241377938879e-05"
        ],
        [
         "HyporheicFlux:group",
         "0.05444661757178162",
         "3.0",
         "0.16523522640499552",
         "0.9185331405871578"
        ],
        [
         "Residual",
         "2.19673164358354",
         "20.0",
         null,
         null
        ]
       ],
       "shape": {
        "columns": 4,
        "rows": 4
       }
      },
      "text/html": [
       "<div>\n",
       "<style scoped>\n",
       "    .dataframe tbody tr th:only-of-type {\n",
       "        vertical-align: middle;\n",
       "    }\n",
       "\n",
       "    .dataframe tbody tr th {\n",
       "        vertical-align: top;\n",
       "    }\n",
       "\n",
       "    .dataframe thead th {\n",
       "        text-align: right;\n",
       "    }\n",
       "</style>\n",
       "<table border=\"1\" class=\"dataframe\">\n",
       "  <thead>\n",
       "    <tr style=\"text-align: right;\">\n",
       "      <th></th>\n",
       "      <th>sum_sq</th>\n",
       "      <th>df</th>\n",
       "      <th>F</th>\n",
       "      <th>PR(&gt;F)</th>\n",
       "    </tr>\n",
       "  </thead>\n",
       "  <tbody>\n",
       "    <tr>\n",
       "      <th>group</th>\n",
       "      <td>0.126114</td>\n",
       "      <td>3.0</td>\n",
       "      <td>0.382732</td>\n",
       "      <td>0.766546</td>\n",
       "    </tr>\n",
       "    <tr>\n",
       "      <th>HyporheicFlux</th>\n",
       "      <td>2.984610</td>\n",
       "      <td>1.0</td>\n",
       "      <td>27.173187</td>\n",
       "      <td>0.000042</td>\n",
       "    </tr>\n",
       "    <tr>\n",
       "      <th>HyporheicFlux:group</th>\n",
       "      <td>0.054447</td>\n",
       "      <td>3.0</td>\n",
       "      <td>0.165235</td>\n",
       "      <td>0.918533</td>\n",
       "    </tr>\n",
       "    <tr>\n",
       "      <th>Residual</th>\n",
       "      <td>2.196732</td>\n",
       "      <td>20.0</td>\n",
       "      <td>NaN</td>\n",
       "      <td>NaN</td>\n",
       "    </tr>\n",
       "  </tbody>\n",
       "</table>\n",
       "</div>"
      ],
      "text/plain": [
       "                       sum_sq    df          F    PR(>F)\n",
       "group                0.126114   3.0   0.382732  0.766546\n",
       "HyporheicFlux        2.984610   1.0  27.173187  0.000042\n",
       "HyporheicFlux:group  0.054447   3.0   0.165235  0.918533\n",
       "Residual             2.196732  20.0        NaN       NaN"
      ]
     },
     "metadata": {},
     "output_type": "display_data"
    }
   ],
   "source": [
    "# set 'group' as a categorical variable with a specific reference level\n",
    "df['group'] = pd.Categorical(df['group'], categories=['FS', 'CS', 'S', 'C'])\n",
    "# run stats models regression\n",
    "model = smf.ols('DeltaSediment ~ HyporheicFlux * group', data=df).fit()\n",
    "# print the summary of the regression model\n",
    "print(model.summary())\n",
    "\n",
    "# perform ANCOVA\n",
    "ancova_table = smanova.anova_lm(model, typ=2)\n",
    "# print ancova with headers\n",
    "display(ancova_table)"
   ]
  },
  {
   "cell_type": "markdown",
   "id": "4c03aff0",
   "metadata": {},
   "source": [
    "Coarse Sand as reference"
   ]
  },
  {
   "cell_type": "code",
   "execution_count": 38,
   "id": "33480eb2",
   "metadata": {},
   "outputs": [
    {
     "name": "stdout",
     "output_type": "stream",
     "text": [
      "                            OLS Regression Results                            \n",
      "==============================================================================\n",
      "Dep. Variable:          DeltaSediment   R-squared:                       0.590\n",
      "Model:                            OLS   Adj. R-squared:                  0.447\n",
      "Method:                 Least Squares   F-statistic:                     4.117\n",
      "Date:                Wed, 11 Jun 2025   Prob (F-statistic):            0.00593\n",
      "Time:                        17:34:30   Log-Likelihood:                -4.0970\n",
      "No. Observations:                  28   AIC:                             24.19\n",
      "Df Residuals:                      20   BIC:                             34.85\n",
      "Df Model:                           7                                         \n",
      "Covariance Type:            nonrobust                                         \n",
      "=============================================================================================\n",
      "                                coef    std err          t      P>|t|      [0.025      0.975]\n",
      "---------------------------------------------------------------------------------------------\n",
      "Intercept                    -0.1475      0.133     -1.105      0.282      -0.426       0.131\n",
      "group[T.FS]                   0.1691      0.189      0.895      0.381      -0.225       0.563\n",
      "group[T.S]                    0.1011      0.189      0.535      0.598      -0.293       0.495\n",
      "group[T.C]                    0.0935      0.189      0.495      0.626      -0.300       0.487\n",
      "HyporheicFlux                -1.7595      0.814     -2.162      0.043      -3.457      -0.062\n",
      "HyporheicFlux:group[T.FS]    -0.1880      1.151     -0.163      0.872      -2.588       2.212\n",
      "HyporheicFlux:group[T.S]     -0.5172      1.151     -0.449      0.658      -2.918       1.883\n",
      "HyporheicFlux:group[T.C]     -0.7399      1.151     -0.643      0.528      -3.140       1.660\n",
      "==============================================================================\n",
      "Omnibus:                        7.882   Durbin-Watson:                   3.104\n",
      "Prob(Omnibus):                  0.019   Jarque-Bera (JB):                6.138\n",
      "Skew:                           1.076   Prob(JB):                       0.0465\n",
      "Kurtosis:                       3.794   Cond. No.                         31.2\n",
      "==============================================================================\n",
      "\n",
      "Notes:\n",
      "[1] Standard Errors assume that the covariance matrix of the errors is correctly specified.\n"
     ]
    },
    {
     "data": {
      "application/vnd.microsoft.datawrangler.viewer.v0+json": {
       "columns": [
        {
         "name": "index",
         "rawType": "object",
         "type": "string"
        },
        {
         "name": "sum_sq",
         "rawType": "float64",
         "type": "float"
        },
        {
         "name": "df",
         "rawType": "float64",
         "type": "float"
        },
        {
         "name": "F",
         "rawType": "float64",
         "type": "float"
        },
        {
         "name": "PR(>F)",
         "rawType": "float64",
         "type": "float"
        }
       ],
       "ref": "d311557c-7988-4fbb-b4e2-2b00e962c33b",
       "rows": [
        [
         "group",
         "0.1261138214285716",
         "3.0",
         "0.3827316877687785",
         "0.7665461713898892"
        ],
        [
         "HyporheicFlux",
         "2.9846100245589686",
         "1.0",
         "27.173187341992843",
         "4.222413779388784e-05"
        ],
        [
         "HyporheicFlux:group",
         "0.05444661757178171",
         "3.0",
         "0.1652352264049958",
         "0.9185331405871578"
        ],
        [
         "Residual",
         "2.1967316435835396",
         "20.0",
         null,
         null
        ]
       ],
       "shape": {
        "columns": 4,
        "rows": 4
       }
      },
      "text/html": [
       "<div>\n",
       "<style scoped>\n",
       "    .dataframe tbody tr th:only-of-type {\n",
       "        vertical-align: middle;\n",
       "    }\n",
       "\n",
       "    .dataframe tbody tr th {\n",
       "        vertical-align: top;\n",
       "    }\n",
       "\n",
       "    .dataframe thead th {\n",
       "        text-align: right;\n",
       "    }\n",
       "</style>\n",
       "<table border=\"1\" class=\"dataframe\">\n",
       "  <thead>\n",
       "    <tr style=\"text-align: right;\">\n",
       "      <th></th>\n",
       "      <th>sum_sq</th>\n",
       "      <th>df</th>\n",
       "      <th>F</th>\n",
       "      <th>PR(&gt;F)</th>\n",
       "    </tr>\n",
       "  </thead>\n",
       "  <tbody>\n",
       "    <tr>\n",
       "      <th>group</th>\n",
       "      <td>0.126114</td>\n",
       "      <td>3.0</td>\n",
       "      <td>0.382732</td>\n",
       "      <td>0.766546</td>\n",
       "    </tr>\n",
       "    <tr>\n",
       "      <th>HyporheicFlux</th>\n",
       "      <td>2.984610</td>\n",
       "      <td>1.0</td>\n",
       "      <td>27.173187</td>\n",
       "      <td>0.000042</td>\n",
       "    </tr>\n",
       "    <tr>\n",
       "      <th>HyporheicFlux:group</th>\n",
       "      <td>0.054447</td>\n",
       "      <td>3.0</td>\n",
       "      <td>0.165235</td>\n",
       "      <td>0.918533</td>\n",
       "    </tr>\n",
       "    <tr>\n",
       "      <th>Residual</th>\n",
       "      <td>2.196732</td>\n",
       "      <td>20.0</td>\n",
       "      <td>NaN</td>\n",
       "      <td>NaN</td>\n",
       "    </tr>\n",
       "  </tbody>\n",
       "</table>\n",
       "</div>"
      ],
      "text/plain": [
       "                       sum_sq    df          F    PR(>F)\n",
       "group                0.126114   3.0   0.382732  0.766546\n",
       "HyporheicFlux        2.984610   1.0  27.173187  0.000042\n",
       "HyporheicFlux:group  0.054447   3.0   0.165235  0.918533\n",
       "Residual             2.196732  20.0        NaN       NaN"
      ]
     },
     "metadata": {},
     "output_type": "display_data"
    }
   ],
   "source": [
    "# set 'group' as a categorical variable with a specific reference level\n",
    "df['group'] = pd.Categorical(df['group'], categories=['CS', 'FS', 'S', 'C'])\n",
    "# run stats models regression\n",
    "model = smf.ols('DeltaSediment ~ HyporheicFlux * group', data=df).fit()\n",
    "# print the summary of the regression model\n",
    "print(model.summary())\n",
    "\n",
    "# perform ANCOVA\n",
    "ancova_table = smanova.anova_lm(model, typ=2)\n",
    "# print ancova with headers\n",
    "display(ancova_table)"
   ]
  },
  {
   "cell_type": "markdown",
   "id": "f8de24f2",
   "metadata": {},
   "source": [
    "#### Summer"
   ]
  },
  {
   "cell_type": "code",
   "execution_count": 40,
   "id": "f3a82d8b",
   "metadata": {},
   "outputs": [
    {
     "data": {
      "application/vnd.microsoft.datawrangler.viewer.v0+json": {
       "columns": [
        {
         "name": "index",
         "rawType": "int64",
         "type": "integer"
        },
        {
         "name": "HyporheicFlux",
         "rawType": "float64",
         "type": "float"
        },
        {
         "name": "DeltaSediment",
         "rawType": "float64",
         "type": "float"
        },
        {
         "name": "group",
         "rawType": "object",
         "type": "string"
        }
       ],
       "ref": "19c34125-9246-46a2-b28b-2575f74ffc2c",
       "rows": [
        [
         "0",
         "-0.256",
         "0.24",
         "CS"
        ],
        [
         "1",
         "-0.326",
         "3.046",
         "CS"
        ],
        [
         "2",
         "0.089",
         "-0.508",
         "CS"
        ],
        [
         "3",
         "-0.058",
         "-0.659",
         "CS"
        ],
        [
         "4",
         "-0.124",
         "-0.638",
         "CS"
        ],
        [
         "5",
         "-0.052",
         "0.136",
         "CS"
        ],
        [
         "6",
         "-0.256",
         "0.515",
         "FS"
        ],
        [
         "7",
         "-0.326",
         "-0.056",
         "FS"
        ],
        [
         "8",
         "0.089",
         "-0.227",
         "FS"
        ],
        [
         "9",
         "-0.058",
         "0.221",
         "FS"
        ],
        [
         "10",
         "-0.124",
         "-0.035",
         "FS"
        ],
        [
         "11",
         "-0.052",
         "0.04",
         "FS"
        ],
        [
         "12",
         "-0.256",
         "0.343",
         "S"
        ],
        [
         "13",
         "-0.326",
         "0.241",
         "S"
        ],
        [
         "14",
         "0.089",
         "-0.066",
         "S"
        ],
        [
         "15",
         "-0.058",
         "0.411",
         "S"
        ],
        [
         "16",
         "-0.124",
         "0.117",
         "S"
        ],
        [
         "17",
         "-0.052",
         "0.247",
         "S"
        ],
        [
         "18",
         "-0.256",
         "0.332",
         "C"
        ],
        [
         "19",
         "-0.326",
         "0.255",
         "C"
        ],
        [
         "20",
         "0.089",
         "-0.164",
         "C"
        ],
        [
         "21",
         "-0.058",
         "0.43",
         "C"
        ],
        [
         "22",
         "-0.124",
         "0.202",
         "C"
        ],
        [
         "23",
         "-0.052",
         "-0.156",
         "C"
        ]
       ],
       "shape": {
        "columns": 3,
        "rows": 24
       }
      },
      "text/html": [
       "<div>\n",
       "<style scoped>\n",
       "    .dataframe tbody tr th:only-of-type {\n",
       "        vertical-align: middle;\n",
       "    }\n",
       "\n",
       "    .dataframe tbody tr th {\n",
       "        vertical-align: top;\n",
       "    }\n",
       "\n",
       "    .dataframe thead th {\n",
       "        text-align: right;\n",
       "    }\n",
       "</style>\n",
       "<table border=\"1\" class=\"dataframe\">\n",
       "  <thead>\n",
       "    <tr style=\"text-align: right;\">\n",
       "      <th></th>\n",
       "      <th>HyporheicFlux</th>\n",
       "      <th>DeltaSediment</th>\n",
       "      <th>group</th>\n",
       "    </tr>\n",
       "  </thead>\n",
       "  <tbody>\n",
       "    <tr>\n",
       "      <th>0</th>\n",
       "      <td>-0.256</td>\n",
       "      <td>0.240</td>\n",
       "      <td>CS</td>\n",
       "    </tr>\n",
       "    <tr>\n",
       "      <th>1</th>\n",
       "      <td>-0.326</td>\n",
       "      <td>3.046</td>\n",
       "      <td>CS</td>\n",
       "    </tr>\n",
       "    <tr>\n",
       "      <th>2</th>\n",
       "      <td>0.089</td>\n",
       "      <td>-0.508</td>\n",
       "      <td>CS</td>\n",
       "    </tr>\n",
       "    <tr>\n",
       "      <th>3</th>\n",
       "      <td>-0.058</td>\n",
       "      <td>-0.659</td>\n",
       "      <td>CS</td>\n",
       "    </tr>\n",
       "    <tr>\n",
       "      <th>4</th>\n",
       "      <td>-0.124</td>\n",
       "      <td>-0.638</td>\n",
       "      <td>CS</td>\n",
       "    </tr>\n",
       "    <tr>\n",
       "      <th>5</th>\n",
       "      <td>-0.052</td>\n",
       "      <td>0.136</td>\n",
       "      <td>CS</td>\n",
       "    </tr>\n",
       "    <tr>\n",
       "      <th>6</th>\n",
       "      <td>-0.256</td>\n",
       "      <td>0.515</td>\n",
       "      <td>FS</td>\n",
       "    </tr>\n",
       "    <tr>\n",
       "      <th>7</th>\n",
       "      <td>-0.326</td>\n",
       "      <td>-0.056</td>\n",
       "      <td>FS</td>\n",
       "    </tr>\n",
       "    <tr>\n",
       "      <th>8</th>\n",
       "      <td>0.089</td>\n",
       "      <td>-0.227</td>\n",
       "      <td>FS</td>\n",
       "    </tr>\n",
       "    <tr>\n",
       "      <th>9</th>\n",
       "      <td>-0.058</td>\n",
       "      <td>0.221</td>\n",
       "      <td>FS</td>\n",
       "    </tr>\n",
       "    <tr>\n",
       "      <th>10</th>\n",
       "      <td>-0.124</td>\n",
       "      <td>-0.035</td>\n",
       "      <td>FS</td>\n",
       "    </tr>\n",
       "    <tr>\n",
       "      <th>11</th>\n",
       "      <td>-0.052</td>\n",
       "      <td>0.040</td>\n",
       "      <td>FS</td>\n",
       "    </tr>\n",
       "    <tr>\n",
       "      <th>12</th>\n",
       "      <td>-0.256</td>\n",
       "      <td>0.343</td>\n",
       "      <td>S</td>\n",
       "    </tr>\n",
       "    <tr>\n",
       "      <th>13</th>\n",
       "      <td>-0.326</td>\n",
       "      <td>0.241</td>\n",
       "      <td>S</td>\n",
       "    </tr>\n",
       "    <tr>\n",
       "      <th>14</th>\n",
       "      <td>0.089</td>\n",
       "      <td>-0.066</td>\n",
       "      <td>S</td>\n",
       "    </tr>\n",
       "    <tr>\n",
       "      <th>15</th>\n",
       "      <td>-0.058</td>\n",
       "      <td>0.411</td>\n",
       "      <td>S</td>\n",
       "    </tr>\n",
       "    <tr>\n",
       "      <th>16</th>\n",
       "      <td>-0.124</td>\n",
       "      <td>0.117</td>\n",
       "      <td>S</td>\n",
       "    </tr>\n",
       "    <tr>\n",
       "      <th>17</th>\n",
       "      <td>-0.052</td>\n",
       "      <td>0.247</td>\n",
       "      <td>S</td>\n",
       "    </tr>\n",
       "    <tr>\n",
       "      <th>18</th>\n",
       "      <td>-0.256</td>\n",
       "      <td>0.332</td>\n",
       "      <td>C</td>\n",
       "    </tr>\n",
       "    <tr>\n",
       "      <th>19</th>\n",
       "      <td>-0.326</td>\n",
       "      <td>0.255</td>\n",
       "      <td>C</td>\n",
       "    </tr>\n",
       "    <tr>\n",
       "      <th>20</th>\n",
       "      <td>0.089</td>\n",
       "      <td>-0.164</td>\n",
       "      <td>C</td>\n",
       "    </tr>\n",
       "    <tr>\n",
       "      <th>21</th>\n",
       "      <td>-0.058</td>\n",
       "      <td>0.430</td>\n",
       "      <td>C</td>\n",
       "    </tr>\n",
       "    <tr>\n",
       "      <th>22</th>\n",
       "      <td>-0.124</td>\n",
       "      <td>0.202</td>\n",
       "      <td>C</td>\n",
       "    </tr>\n",
       "    <tr>\n",
       "      <th>23</th>\n",
       "      <td>-0.052</td>\n",
       "      <td>-0.156</td>\n",
       "      <td>C</td>\n",
       "    </tr>\n",
       "  </tbody>\n",
       "</table>\n",
       "</div>"
      ],
      "text/plain": [
       "    HyporheicFlux  DeltaSediment group\n",
       "0          -0.256          0.240    CS\n",
       "1          -0.326          3.046    CS\n",
       "2           0.089         -0.508    CS\n",
       "3          -0.058         -0.659    CS\n",
       "4          -0.124         -0.638    CS\n",
       "5          -0.052          0.136    CS\n",
       "6          -0.256          0.515    FS\n",
       "7          -0.326         -0.056    FS\n",
       "8           0.089         -0.227    FS\n",
       "9          -0.058          0.221    FS\n",
       "10         -0.124         -0.035    FS\n",
       "11         -0.052          0.040    FS\n",
       "12         -0.256          0.343     S\n",
       "13         -0.326          0.241     S\n",
       "14          0.089         -0.066     S\n",
       "15         -0.058          0.411     S\n",
       "16         -0.124          0.117     S\n",
       "17         -0.052          0.247     S\n",
       "18         -0.256          0.332     C\n",
       "19         -0.326          0.255     C\n",
       "20          0.089         -0.164     C\n",
       "21         -0.058          0.430     C\n",
       "22         -0.124          0.202     C\n",
       "23         -0.052         -0.156     C"
      ]
     },
     "execution_count": 40,
     "metadata": {},
     "output_type": "execute_result"
    }
   ],
   "source": [
    "# from excel data - NO UOTLIER\n",
    "# hyporheic flux (x)\n",
    "x_CS = [-0.256, -0.326, 0.089, -0.058, -0.124, -0.052]\n",
    "x_FS = [-0.256, -0.326, 0.089, -0.058, -0.124, -0.052]\n",
    "x_S =  [-0.256, -0.326, 0.089, -0.058, -0.124, -0.052]\n",
    "x_C =  [-0.256, -0.326, 0.089, -0.058, -0.124, -0.052]\n",
    "\n",
    "# delta sediment (y)\n",
    "y_CS = [0.240, 3.046, -0.508, -0.659, -0.638, 0.136] \n",
    "y_FS = [0.515, -0.056, -0.227, 0.221, -0.035, 0.040]\n",
    "y_S =  [0.343, 0.241, -0.066, 0.411, 0.117, 0.247]\n",
    "y_C =  [0.332, 0.255, -0.164, 0.430, 0.202, -0.156]\n",
    "\n",
    "# create group labels\n",
    "group_A = ['CS'] * len(x_CS)\n",
    "group_B = ['FS'] * len(x_FS)\n",
    "group_C = ['S'] * len(x_S)\n",
    "group_D = ['C'] * len(x_C)\n",
    "\n",
    "# combine into a single dataframe\n",
    "df = pd.DataFrame({\n",
    "    'HyporheicFlux': x_CS + x_FS + x_S + x_C,\n",
    "    'DeltaSediment': y_CS + y_FS + y_S + y_C,\n",
    "    'group': group_A + group_B + group_C + group_D\n",
    "})\n",
    "df"
   ]
  },
  {
   "cell_type": "markdown",
   "id": "615dc3c2",
   "metadata": {},
   "source": [
    "Clay as reference"
   ]
  },
  {
   "cell_type": "code",
   "execution_count": 41,
   "id": "556236ab",
   "metadata": {},
   "outputs": [
    {
     "name": "stdout",
     "output_type": "stream",
     "text": [
      "                            OLS Regression Results                            \n",
      "==============================================================================\n",
      "Dep. Variable:          DeltaSediment   R-squared:                       0.541\n",
      "Model:                            OLS   Adj. R-squared:                  0.340\n",
      "Method:                 Least Squares   F-statistic:                     2.694\n",
      "Date:                Wed, 11 Jun 2025   Prob (F-statistic):             0.0477\n",
      "Time:                        17:41:51   Log-Likelihood:                -15.285\n",
      "No. Observations:                  24   AIC:                             46.57\n",
      "Df Residuals:                      16   BIC:                             55.99\n",
      "Df Model:                           7                                         \n",
      "Covariance Type:            nonrobust                                         \n",
      "=============================================================================================\n",
      "                                coef    std err          t      P>|t|      [0.025      0.975]\n",
      "---------------------------------------------------------------------------------------------\n",
      "Intercept                     0.0259      0.305      0.085      0.933      -0.621       0.673\n",
      "group[T.CS]                  -0.6065      0.431     -1.406      0.179      -1.521       0.308\n",
      "group[T.FS]                  -0.0448      0.431     -0.104      0.919      -0.959       0.870\n",
      "group[T.S]                    0.1181      0.431      0.274      0.788      -0.797       1.033\n",
      "HyporheicFlux                -1.0228      1.666     -0.614      0.548      -4.555       2.509\n",
      "HyporheicFlux:group[T.CS]    -5.9935      2.356     -2.544      0.022     -10.988      -0.999\n",
      "HyporheicFlux:group[T.FS]     0.2371      2.356      0.101      0.921      -4.758       5.232\n",
      "HyporheicFlux:group[T.S]      0.4324      2.356      0.184      0.857      -4.562       5.427\n",
      "==============================================================================\n",
      "Omnibus:                        5.711   Durbin-Watson:                   2.060\n",
      "Prob(Omnibus):                  0.058   Jarque-Bera (JB):                4.588\n",
      "Skew:                           0.432   Prob(JB):                        0.101\n",
      "Kurtosis:                       4.960   Cond. No.                         35.4\n",
      "==============================================================================\n",
      "\n",
      "Notes:\n",
      "[1] Standard Errors assume that the covariance matrix of the errors is correctly specified.\n"
     ]
    },
    {
     "data": {
      "application/vnd.microsoft.datawrangler.viewer.v0+json": {
       "columns": [
        {
         "name": "index",
         "rawType": "object",
         "type": "string"
        },
        {
         "name": "sum_sq",
         "rawType": "float64",
         "type": "float"
        },
        {
         "name": "df",
         "rawType": "float64",
         "type": "float"
        },
        {
         "name": "F",
         "rawType": "float64",
         "type": "float"
        },
        {
         "name": "PR(>F)",
         "rawType": "float64",
         "type": "float"
        }
       ],
       "ref": "b7d0ac28-020b-4c8e-8678-c32941da9125",
       "rows": [
        [
         "group",
         "0.12544679166666678",
         "3.0",
         "0.13321513994576098",
         "0.9388477807807437"
        ],
        [
         "HyporheicFlux",
         "2.5061748509874215",
         "1.0",
         "7.984112524534531",
         "0.012179857021556077"
        ],
        [
         "HyporheicFlux:group",
         "3.2884646081189732",
         "3.0",
         "3.4921042392322437",
         "0.04031890322277731"
        ],
        [
         "Residual",
         "5.022323707560282",
         "16.0",
         null,
         null
        ]
       ],
       "shape": {
        "columns": 4,
        "rows": 4
       }
      },
      "text/html": [
       "<div>\n",
       "<style scoped>\n",
       "    .dataframe tbody tr th:only-of-type {\n",
       "        vertical-align: middle;\n",
       "    }\n",
       "\n",
       "    .dataframe tbody tr th {\n",
       "        vertical-align: top;\n",
       "    }\n",
       "\n",
       "    .dataframe thead th {\n",
       "        text-align: right;\n",
       "    }\n",
       "</style>\n",
       "<table border=\"1\" class=\"dataframe\">\n",
       "  <thead>\n",
       "    <tr style=\"text-align: right;\">\n",
       "      <th></th>\n",
       "      <th>sum_sq</th>\n",
       "      <th>df</th>\n",
       "      <th>F</th>\n",
       "      <th>PR(&gt;F)</th>\n",
       "    </tr>\n",
       "  </thead>\n",
       "  <tbody>\n",
       "    <tr>\n",
       "      <th>group</th>\n",
       "      <td>0.125447</td>\n",
       "      <td>3.0</td>\n",
       "      <td>0.133215</td>\n",
       "      <td>0.938848</td>\n",
       "    </tr>\n",
       "    <tr>\n",
       "      <th>HyporheicFlux</th>\n",
       "      <td>2.506175</td>\n",
       "      <td>1.0</td>\n",
       "      <td>7.984113</td>\n",
       "      <td>0.012180</td>\n",
       "    </tr>\n",
       "    <tr>\n",
       "      <th>HyporheicFlux:group</th>\n",
       "      <td>3.288465</td>\n",
       "      <td>3.0</td>\n",
       "      <td>3.492104</td>\n",
       "      <td>0.040319</td>\n",
       "    </tr>\n",
       "    <tr>\n",
       "      <th>Residual</th>\n",
       "      <td>5.022324</td>\n",
       "      <td>16.0</td>\n",
       "      <td>NaN</td>\n",
       "      <td>NaN</td>\n",
       "    </tr>\n",
       "  </tbody>\n",
       "</table>\n",
       "</div>"
      ],
      "text/plain": [
       "                       sum_sq    df         F    PR(>F)\n",
       "group                0.125447   3.0  0.133215  0.938848\n",
       "HyporheicFlux        2.506175   1.0  7.984113  0.012180\n",
       "HyporheicFlux:group  3.288465   3.0  3.492104  0.040319\n",
       "Residual             5.022324  16.0       NaN       NaN"
      ]
     },
     "metadata": {},
     "output_type": "display_data"
    }
   ],
   "source": [
    "# set 'group' as a categorical variable with a specific reference level\n",
    "df['group'] = pd.Categorical(df['group'], categories=['C', 'CS', 'FS', 'S'])\n",
    "# run stats models regression\n",
    "model = smf.ols('DeltaSediment ~ HyporheicFlux * group', data=df).fit()\n",
    "# print the summary of the regression model\n",
    "print(model.summary())\n",
    "\n",
    "# perform ANCOVA\n",
    "ancova_table = smanova.anova_lm(model, typ=2)\n",
    "# print ancova with headers\n",
    "display(ancova_table)"
   ]
  },
  {
   "cell_type": "markdown",
   "id": "0da5c665",
   "metadata": {},
   "source": [
    "Silt as reference"
   ]
  },
  {
   "cell_type": "code",
   "execution_count": 42,
   "id": "b13b9b54",
   "metadata": {},
   "outputs": [
    {
     "name": "stdout",
     "output_type": "stream",
     "text": [
      "                            OLS Regression Results                            \n",
      "==============================================================================\n",
      "Dep. Variable:          DeltaSediment   R-squared:                       0.541\n",
      "Model:                            OLS   Adj. R-squared:                  0.340\n",
      "Method:                 Least Squares   F-statistic:                     2.694\n",
      "Date:                Wed, 11 Jun 2025   Prob (F-statistic):             0.0477\n",
      "Time:                        17:43:56   Log-Likelihood:                -15.285\n",
      "No. Observations:                  24   AIC:                             46.57\n",
      "Df Residuals:                      16   BIC:                             55.99\n",
      "Df Model:                           7                                         \n",
      "Covariance Type:            nonrobust                                         \n",
      "=============================================================================================\n",
      "                                coef    std err          t      P>|t|      [0.025      0.975]\n",
      "---------------------------------------------------------------------------------------------\n",
      "Intercept                     0.1440      0.305      0.472      0.643      -0.503       0.791\n",
      "group[T.CS]                  -0.7246      0.431     -1.680      0.112      -1.639       0.190\n",
      "group[T.FS]                  -0.1628      0.431     -0.377      0.711      -1.077       0.752\n",
      "group[T.C]                   -0.1181      0.431     -0.274      0.788      -1.033       0.797\n",
      "HyporheicFlux                -0.5904      1.666     -0.354      0.728      -4.122       2.941\n",
      "HyporheicFlux:group[T.CS]    -6.4258      2.356     -2.727      0.015     -11.421      -1.431\n",
      "HyporheicFlux:group[T.FS]    -0.1953      2.356     -0.083      0.935      -5.190       4.799\n",
      "HyporheicFlux:group[T.C]     -0.4324      2.356     -0.184      0.857      -5.427       4.562\n",
      "==============================================================================\n",
      "Omnibus:                        5.711   Durbin-Watson:                   2.060\n",
      "Prob(Omnibus):                  0.058   Jarque-Bera (JB):                4.588\n",
      "Skew:                           0.432   Prob(JB):                        0.101\n",
      "Kurtosis:                       4.960   Cond. No.                         35.4\n",
      "==============================================================================\n",
      "\n",
      "Notes:\n",
      "[1] Standard Errors assume that the covariance matrix of the errors is correctly specified.\n"
     ]
    }
   ],
   "source": [
    "# set 'group' as a categorical variable with a specific reference level\n",
    "df['group'] = pd.Categorical(df['group'], categories=['S', 'CS', 'FS', 'C'])\n",
    "# run stats models regression\n",
    "model = smf.ols('DeltaSediment ~ HyporheicFlux * group', data=df).fit()\n",
    "# print the summary of the regression model\n",
    "print(model.summary())"
   ]
  },
  {
   "cell_type": "markdown",
   "id": "7577e21d",
   "metadata": {},
   "source": [
    "Fine Sand as reference"
   ]
  },
  {
   "cell_type": "code",
   "execution_count": 43,
   "id": "1e425611",
   "metadata": {},
   "outputs": [
    {
     "name": "stdout",
     "output_type": "stream",
     "text": [
      "                            OLS Regression Results                            \n",
      "==============================================================================\n",
      "Dep. Variable:          DeltaSediment   R-squared:                       0.541\n",
      "Model:                            OLS   Adj. R-squared:                  0.340\n",
      "Method:                 Least Squares   F-statistic:                     2.694\n",
      "Date:                Wed, 11 Jun 2025   Prob (F-statistic):             0.0477\n",
      "Time:                        17:44:33   Log-Likelihood:                -15.285\n",
      "No. Observations:                  24   AIC:                             46.57\n",
      "Df Residuals:                      16   BIC:                             55.99\n",
      "Df Model:                           7                                         \n",
      "Covariance Type:            nonrobust                                         \n",
      "=============================================================================================\n",
      "                                coef    std err          t      P>|t|      [0.025      0.975]\n",
      "---------------------------------------------------------------------------------------------\n",
      "Intercept                    -0.0189      0.305     -0.062      0.951      -0.666       0.628\n",
      "group[T.CS]                  -0.5618      0.431     -1.302      0.211      -1.476       0.353\n",
      "group[T.S]                    0.1628      0.431      0.377      0.711      -0.752       1.077\n",
      "group[T.C]                    0.0448      0.431      0.104      0.919      -0.870       0.959\n",
      "HyporheicFlux                -0.7857      1.666     -0.472      0.644      -4.317       2.746\n",
      "HyporheicFlux:group[T.CS]    -6.2306      2.356     -2.644      0.018     -11.225      -1.236\n",
      "HyporheicFlux:group[T.S]      0.1953      2.356      0.083      0.935      -4.799       5.190\n",
      "HyporheicFlux:group[T.C]     -0.2371      2.356     -0.101      0.921      -5.232       4.758\n",
      "==============================================================================\n",
      "Omnibus:                        5.711   Durbin-Watson:                   2.060\n",
      "Prob(Omnibus):                  0.058   Jarque-Bera (JB):                4.588\n",
      "Skew:                           0.432   Prob(JB):                        0.101\n",
      "Kurtosis:                       4.960   Cond. No.                         35.4\n",
      "==============================================================================\n",
      "\n",
      "Notes:\n",
      "[1] Standard Errors assume that the covariance matrix of the errors is correctly specified.\n"
     ]
    },
    {
     "data": {
      "application/vnd.microsoft.datawrangler.viewer.v0+json": {
       "columns": [
        {
         "name": "index",
         "rawType": "object",
         "type": "string"
        },
        {
         "name": "sum_sq",
         "rawType": "float64",
         "type": "float"
        },
        {
         "name": "df",
         "rawType": "float64",
         "type": "float"
        },
        {
         "name": "F",
         "rawType": "float64",
         "type": "float"
        },
        {
         "name": "PR(>F)",
         "rawType": "float64",
         "type": "float"
        }
       ],
       "ref": "36d78003-fdda-44c9-803c-d7b5d7f15d69",
       "rows": [
        [
         "group",
         "0.1254467916666693",
         "3.0",
         "0.13321513994576376",
         "0.9388477807807425"
        ],
        [
         "HyporheicFlux",
         "2.5061748509874175",
         "1.0",
         "7.984112524534524",
         "0.01217985702155611"
        ],
        [
         "HyporheicFlux:group",
         "3.2884646081189737",
         "3.0",
         "3.4921042392322463",
         "0.040318903222777196"
        ],
        [
         "Residual",
         "5.022323707560278",
         "16.0",
         null,
         null
        ]
       ],
       "shape": {
        "columns": 4,
        "rows": 4
       }
      },
      "text/html": [
       "<div>\n",
       "<style scoped>\n",
       "    .dataframe tbody tr th:only-of-type {\n",
       "        vertical-align: middle;\n",
       "    }\n",
       "\n",
       "    .dataframe tbody tr th {\n",
       "        vertical-align: top;\n",
       "    }\n",
       "\n",
       "    .dataframe thead th {\n",
       "        text-align: right;\n",
       "    }\n",
       "</style>\n",
       "<table border=\"1\" class=\"dataframe\">\n",
       "  <thead>\n",
       "    <tr style=\"text-align: right;\">\n",
       "      <th></th>\n",
       "      <th>sum_sq</th>\n",
       "      <th>df</th>\n",
       "      <th>F</th>\n",
       "      <th>PR(&gt;F)</th>\n",
       "    </tr>\n",
       "  </thead>\n",
       "  <tbody>\n",
       "    <tr>\n",
       "      <th>group</th>\n",
       "      <td>0.125447</td>\n",
       "      <td>3.0</td>\n",
       "      <td>0.133215</td>\n",
       "      <td>0.938848</td>\n",
       "    </tr>\n",
       "    <tr>\n",
       "      <th>HyporheicFlux</th>\n",
       "      <td>2.506175</td>\n",
       "      <td>1.0</td>\n",
       "      <td>7.984113</td>\n",
       "      <td>0.012180</td>\n",
       "    </tr>\n",
       "    <tr>\n",
       "      <th>HyporheicFlux:group</th>\n",
       "      <td>3.288465</td>\n",
       "      <td>3.0</td>\n",
       "      <td>3.492104</td>\n",
       "      <td>0.040319</td>\n",
       "    </tr>\n",
       "    <tr>\n",
       "      <th>Residual</th>\n",
       "      <td>5.022324</td>\n",
       "      <td>16.0</td>\n",
       "      <td>NaN</td>\n",
       "      <td>NaN</td>\n",
       "    </tr>\n",
       "  </tbody>\n",
       "</table>\n",
       "</div>"
      ],
      "text/plain": [
       "                       sum_sq    df         F    PR(>F)\n",
       "group                0.125447   3.0  0.133215  0.938848\n",
       "HyporheicFlux        2.506175   1.0  7.984113  0.012180\n",
       "HyporheicFlux:group  3.288465   3.0  3.492104  0.040319\n",
       "Residual             5.022324  16.0       NaN       NaN"
      ]
     },
     "metadata": {},
     "output_type": "display_data"
    }
   ],
   "source": [
    "# set 'group' as a categorical variable with a specific reference level\n",
    "df['group'] = pd.Categorical(df['group'], categories=['FS', 'CS', 'S', 'C'])\n",
    "# run stats models regression\n",
    "model = smf.ols('DeltaSediment ~ HyporheicFlux * group', data=df).fit()\n",
    "# print the summary of the regression model\n",
    "print(model.summary())\n",
    "\n",
    "# perform ANCOVA\n",
    "ancova_table = smanova.anova_lm(model, typ=2)\n",
    "# print ancova with headers\n",
    "display(ancova_table)"
   ]
  },
  {
   "cell_type": "markdown",
   "id": "b198125b",
   "metadata": {},
   "source": [
    "Coarse Sand as reference"
   ]
  },
  {
   "cell_type": "code",
   "execution_count": 44,
   "id": "a26c00a1",
   "metadata": {},
   "outputs": [
    {
     "name": "stdout",
     "output_type": "stream",
     "text": [
      "                            OLS Regression Results                            \n",
      "==============================================================================\n",
      "Dep. Variable:          DeltaSediment   R-squared:                       0.541\n",
      "Model:                            OLS   Adj. R-squared:                  0.340\n",
      "Method:                 Least Squares   F-statistic:                     2.694\n",
      "Date:                Wed, 11 Jun 2025   Prob (F-statistic):             0.0477\n",
      "Time:                        17:45:05   Log-Likelihood:                -15.285\n",
      "No. Observations:                  24   AIC:                             46.57\n",
      "Df Residuals:                      16   BIC:                             55.99\n",
      "Df Model:                           7                                         \n",
      "Covariance Type:            nonrobust                                         \n",
      "=============================================================================================\n",
      "                                coef    std err          t      P>|t|      [0.025      0.975]\n",
      "---------------------------------------------------------------------------------------------\n",
      "Intercept                    -0.5806      0.305     -1.903      0.075      -1.227       0.066\n",
      "group[T.FS]                   0.5618      0.431      1.302      0.211      -0.353       1.476\n",
      "group[T.S]                    0.7246      0.431      1.680      0.112      -0.190       1.639\n",
      "group[T.C]                    0.6065      0.431      1.406      0.179      -0.308       1.521\n",
      "HyporheicFlux                -7.0162      1.666     -4.211      0.001     -10.548      -3.484\n",
      "HyporheicFlux:group[T.FS]     6.2306      2.356      2.644      0.018       1.236      11.225\n",
      "HyporheicFlux:group[T.S]      6.4258      2.356      2.727      0.015       1.431      11.421\n",
      "HyporheicFlux:group[T.C]      5.9935      2.356      2.544      0.022       0.999      10.988\n",
      "==============================================================================\n",
      "Omnibus:                        5.711   Durbin-Watson:                   2.060\n",
      "Prob(Omnibus):                  0.058   Jarque-Bera (JB):                4.588\n",
      "Skew:                           0.432   Prob(JB):                        0.101\n",
      "Kurtosis:                       4.960   Cond. No.                         35.4\n",
      "==============================================================================\n",
      "\n",
      "Notes:\n",
      "[1] Standard Errors assume that the covariance matrix of the errors is correctly specified.\n"
     ]
    },
    {
     "data": {
      "application/vnd.microsoft.datawrangler.viewer.v0+json": {
       "columns": [
        {
         "name": "index",
         "rawType": "object",
         "type": "string"
        },
        {
         "name": "sum_sq",
         "rawType": "float64",
         "type": "float"
        },
        {
         "name": "df",
         "rawType": "float64",
         "type": "float"
        },
        {
         "name": "F",
         "rawType": "float64",
         "type": "float"
        },
        {
         "name": "PR(>F)",
         "rawType": "float64",
         "type": "float"
        }
       ],
       "ref": "2d1be5d0-7338-477c-aa38-90dbf9b352c2",
       "rows": [
        [
         "group",
         "0.12544679166666592",
         "3.0",
         "0.1332151399457601",
         "0.9388477807807445"
        ],
        [
         "HyporheicFlux",
         "2.50617485098742",
         "1.0",
         "7.984112524534527",
         "0.012179857021556094"
        ],
        [
         "HyporheicFlux:group",
         "3.2884646081189737",
         "3.0",
         "3.492104239232244",
         "0.04031890322277731"
        ],
        [
         "Residual",
         "5.022323707560282",
         "16.0",
         null,
         null
        ]
       ],
       "shape": {
        "columns": 4,
        "rows": 4
       }
      },
      "text/html": [
       "<div>\n",
       "<style scoped>\n",
       "    .dataframe tbody tr th:only-of-type {\n",
       "        vertical-align: middle;\n",
       "    }\n",
       "\n",
       "    .dataframe tbody tr th {\n",
       "        vertical-align: top;\n",
       "    }\n",
       "\n",
       "    .dataframe thead th {\n",
       "        text-align: right;\n",
       "    }\n",
       "</style>\n",
       "<table border=\"1\" class=\"dataframe\">\n",
       "  <thead>\n",
       "    <tr style=\"text-align: right;\">\n",
       "      <th></th>\n",
       "      <th>sum_sq</th>\n",
       "      <th>df</th>\n",
       "      <th>F</th>\n",
       "      <th>PR(&gt;F)</th>\n",
       "    </tr>\n",
       "  </thead>\n",
       "  <tbody>\n",
       "    <tr>\n",
       "      <th>group</th>\n",
       "      <td>0.125447</td>\n",
       "      <td>3.0</td>\n",
       "      <td>0.133215</td>\n",
       "      <td>0.938848</td>\n",
       "    </tr>\n",
       "    <tr>\n",
       "      <th>HyporheicFlux</th>\n",
       "      <td>2.506175</td>\n",
       "      <td>1.0</td>\n",
       "      <td>7.984113</td>\n",
       "      <td>0.012180</td>\n",
       "    </tr>\n",
       "    <tr>\n",
       "      <th>HyporheicFlux:group</th>\n",
       "      <td>3.288465</td>\n",
       "      <td>3.0</td>\n",
       "      <td>3.492104</td>\n",
       "      <td>0.040319</td>\n",
       "    </tr>\n",
       "    <tr>\n",
       "      <th>Residual</th>\n",
       "      <td>5.022324</td>\n",
       "      <td>16.0</td>\n",
       "      <td>NaN</td>\n",
       "      <td>NaN</td>\n",
       "    </tr>\n",
       "  </tbody>\n",
       "</table>\n",
       "</div>"
      ],
      "text/plain": [
       "                       sum_sq    df         F    PR(>F)\n",
       "group                0.125447   3.0  0.133215  0.938848\n",
       "HyporheicFlux        2.506175   1.0  7.984113  0.012180\n",
       "HyporheicFlux:group  3.288465   3.0  3.492104  0.040319\n",
       "Residual             5.022324  16.0       NaN       NaN"
      ]
     },
     "metadata": {},
     "output_type": "display_data"
    }
   ],
   "source": [
    "# set 'group' as a categorical variable with a specific reference level\n",
    "df['group'] = pd.Categorical(df['group'], categories=['CS', 'FS', 'S', 'C'])\n",
    "# run stats models regression\n",
    "model = smf.ols('DeltaSediment ~ HyporheicFlux * group', data=df).fit()\n",
    "# print the summary of the regression model\n",
    "print(model.summary())\n",
    "\n",
    "# perform ANCOVA\n",
    "ancova_table = smanova.anova_lm(model, typ=2)\n",
    "# print ancova with headers\n",
    "display(ancova_table)"
   ]
  },
  {
   "cell_type": "code",
   "execution_count": 45,
   "id": "3cb6817f",
   "metadata": {},
   "outputs": [
    {
     "name": "stdout",
     "output_type": "stream",
     "text": [
      "                       sum_sq    df         F    PR(>F)\n",
      "group                0.125447   3.0  0.133215  0.938848\n",
      "HyporheicFlux        2.506175   1.0  7.984113  0.012180\n",
      "HyporheicFlux:group  3.288465   3.0  3.492104  0.040319\n",
      "Residual             5.022324  16.0       NaN       NaN\n"
     ]
    }
   ],
   "source": [
    "print(ancova_table)"
   ]
  }
 ],
 "metadata": {
  "kernelspec": {
   "display_name": "Python 3",
   "language": "python",
   "name": "python3"
  },
  "language_info": {
   "codemirror_mode": {
    "name": "ipython",
    "version": 3
   },
   "file_extension": ".py",
   "mimetype": "text/x-python",
   "name": "python",
   "nbconvert_exporter": "python",
   "pygments_lexer": "ipython3",
   "version": "3.9.10"
  }
 },
 "nbformat": 4,
 "nbformat_minor": 5
}
