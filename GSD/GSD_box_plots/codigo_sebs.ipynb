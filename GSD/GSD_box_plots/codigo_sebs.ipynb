{
 "cells": [
  {
   "cell_type": "code",
   "execution_count": null,
   "metadata": {},
   "outputs": [],
   "source": [
    "# Comparing taustcr distribution\n",
    "labels = [\"0\", \"1\", \"2\", \"3\"]\n",
    "linewidth = 1\n",
    "colors = [\"black\", \"darkred\", \"navy\", \"darkgreen\"]\n",
    "x0 = critical_shear_stress_dimless.flatten()\n",
    "x1 = critical_shear_stress_dimless1.flatten()\n",
    "x2 = critical_shear_stress_dimless2.flatten()\n",
    "x3 = critical_shear_stress_dimless3.flatten()\n",
    "x0 = np.sort(x0)\n",
    "x1 = np.sort(x1)\n",
    "x2 = np.sort(x2)\n",
    "x3 = np.sort(x3)\n",
    "y0 = 1*np.arange(len(x0))/(len(x0)-1)\n",
    "y1 = 1*np.arange(len(x1))/(len(x1)-1)\n",
    "y2 = 1*np.arange(len(x2))/(len(x2)-1)\n",
    "y3 = 1*np.arange(len(x3))/(len(x3)-1)\n",
    "plt.plot(y0, x0, color=colors[0], linewidth=linewidth, label=labels[0])\n",
    "plt.plot(y1, x1, color=colors[1], linewidth=linewidth, label=labels[1])\n",
    "plt.plot(y2, x2, color=colors[2], linewidth=linewidth, label=labels[2])\n",
    "plt.plot(y3, x3, color=colors[3], linewidth=linewidth, label=labels[3])\n",
    "plt.title(\"taustcr distribution\")\n",
    "plt.xlabel(\"Cumulative Fraction\")\n",
    "plt.ylabel(\"Tau*c [-]\")\n",
    "plt.legend(loc =\"upper left\")\n",
    "plt.ylim((0, 0.5))\n",
    "plt.grid(True)\n",
    "plt.show()"
   ]
  }
 ],
 "metadata": {
  "kernelspec": {
   "display_name": "Python 3",
   "language": "python",
   "name": "python3"
  },
  "language_info": {
   "name": "python",
   "version": "3.9.10"
  }
 },
 "nbformat": 4,
 "nbformat_minor": 2
}
