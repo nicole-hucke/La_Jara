{
 "cells": [
  {
   "cell_type": "markdown",
   "metadata": {},
   "source": [
    "# Getting reach average shear stresses "
   ]
  },
  {
   "cell_type": "code",
   "execution_count": 1,
   "metadata": {},
   "outputs": [],
   "source": [
    "import numpy as np\n",
    "import matplotlib.pyplot as plt\n",
    "import pandas as pd\n",
    "import seaborn as sns\n",
    "\n",
    "# import topography data\n",
    "P2_topo = pd.read_csv('XS_topo/P2_topo.csv')\n",
    "P3_topo = pd.read_csv('XS_topo/P3_topo.csv')\n",
    "P4_topo = pd.read_csv('XS_topo/P4_topo.csv')\n",
    "P6_topo = pd.read_csv('XS_topo/P6_topo.csv')\n",
    "\n",
    "# import depth data and make date the index\n",
    "depth_2021 = pd.read_csv('water_depth/2021_depths.csv', index_col='Date_Time', parse_dates=True)\n",
    "depth_2022 = pd.read_csv('water_depth/2022_depths.csv', index_col='Date_Time', parse_dates=True)\n",
    "depth_2023 = pd.read_csv('water_depth/2023_depths.csv', index_col='Date_Time', parse_dates=True)"
   ]
  },
  {
   "cell_type": "markdown",
   "metadata": {},
   "source": [
    "Function Definition"
   ]
  },
  {
   "cell_type": "code",
   "execution_count": 2,
   "metadata": {},
   "outputs": [],
   "source": [
    "def get_water_depth(x_coordinate, z_coordinate, wse):\n",
    "    tempCalc1 = wse - z_coordinate\n",
    "    if tempCalc1.size == 0:\n",
    "        return np.nan, tempCalc1  # return nan if tempCalc1 is empty\n",
    "    \n",
    "    water_depth = tempCalc1[tempCalc1 > 0]\n",
    "    if water_depth.size == 0:\n",
    "        return np.nan, tempCalc1  # return nan if no positive water depths are found\n",
    "    \n",
    "    water_depth_avg = np.nanmedian(water_depth)\n",
    "    \n",
    "    return water_depth_avg, tempCalc1\n",
    "\n",
    "def calculate_average_depth(topography_df, depth_timeseries, depth_location):\n",
    "    \"\"\"\n",
    "    Calculate the cross-sectional average depth across a river at each time step in the time series.\n",
    "\n",
    "    Parameters:\n",
    "    topography_df (pd.DataFrame): distance' and 'elevation' columns representing the cross-sectional topography.\n",
    "    depth_timeseries (pd.DataFrame): 'depth' column representing the water depths (time series) at the specified location.\n",
    "    depth_location (float): X-coordinate where the depth measurements are taken (in meters).\n",
    "\n",
    "    Returns:\n",
    "    avg_depth_timeseries (pd.DataFrame): DataFrame with time and cross-sectional average depths for each time step.\n",
    "    \"\"\"\n",
    "\n",
    "    X = topography_df['distance'].values\n",
    "    Z = topography_df['elevation'].values\n",
    "    depth = depth_timeseries['depth'].values\n",
    "    times = depth_timeseries.index \n",
    "\n",
    "    #find the riverbed elevation at the depth measurement location\n",
    "    riverbed_elevation_at_depth_location = np.interp(depth_location, X, Z)\n",
    "\n",
    "    avg_depths = [] \n",
    "\n",
    "    # loop over each time step and calculate average depth\n",
    "    for d in depth:\n",
    "        wse = riverbed_elevation_at_depth_location + d  # wse at this time step\n",
    "        water_depth_avg, _ = get_water_depth(X, Z, wse)  # calculate average depth\n",
    "        avg_depths.append(water_depth_avg)\n",
    "\n",
    "    # create a DataFrame with time and average depth for each time step\n",
    "    average_depth_timeseries = pd.DataFrame({\n",
    "        'time': times,\n",
    "        'average_depth': avg_depths\n",
    "    }).set_index('time')\n",
    "\n",
    "    return average_depth_timeseries"
   ]
  },
  {
   "cell_type": "markdown",
   "metadata": {},
   "source": [
    "Prepping data to process through functions"
   ]
  },
  {
   "cell_type": "code",
   "execution_count": 3,
   "metadata": {},
   "outputs": [
    {
     "data": {
      "text/html": [
       "<div>\n",
       "<style scoped>\n",
       "    .dataframe tbody tr th:only-of-type {\n",
       "        vertical-align: middle;\n",
       "    }\n",
       "\n",
       "    .dataframe tbody tr th {\n",
       "        vertical-align: top;\n",
       "    }\n",
       "\n",
       "    .dataframe thead th {\n",
       "        text-align: right;\n",
       "    }\n",
       "</style>\n",
       "<table border=\"1\" class=\"dataframe\">\n",
       "  <thead>\n",
       "    <tr style=\"text-align: right;\">\n",
       "      <th></th>\n",
       "      <th>depth</th>\n",
       "    </tr>\n",
       "    <tr>\n",
       "      <th>Date_Time</th>\n",
       "      <th></th>\n",
       "    </tr>\n",
       "  </thead>\n",
       "  <tbody>\n",
       "    <tr>\n",
       "      <th>2022-03-01 00:00:00</th>\n",
       "      <td>0.120852</td>\n",
       "    </tr>\n",
       "    <tr>\n",
       "      <th>2022-03-01 00:15:00</th>\n",
       "      <td>0.119627</td>\n",
       "    </tr>\n",
       "    <tr>\n",
       "      <th>2022-03-01 00:30:00</th>\n",
       "      <td>0.118516</td>\n",
       "    </tr>\n",
       "    <tr>\n",
       "      <th>2022-03-01 00:45:00</th>\n",
       "      <td>0.117518</td>\n",
       "    </tr>\n",
       "    <tr>\n",
       "      <th>2022-03-01 01:00:00</th>\n",
       "      <td>0.116634</td>\n",
       "    </tr>\n",
       "    <tr>\n",
       "      <th>...</th>\n",
       "      <td>...</td>\n",
       "    </tr>\n",
       "    <tr>\n",
       "      <th>2022-09-16 23:00:00</th>\n",
       "      <td>0.116895</td>\n",
       "    </tr>\n",
       "    <tr>\n",
       "      <th>2022-09-16 23:15:00</th>\n",
       "      <td>0.118644</td>\n",
       "    </tr>\n",
       "    <tr>\n",
       "      <th>2022-09-16 23:30:00</th>\n",
       "      <td>0.115145</td>\n",
       "    </tr>\n",
       "    <tr>\n",
       "      <th>2022-09-16 23:45:00</th>\n",
       "      <td>0.113396</td>\n",
       "    </tr>\n",
       "    <tr>\n",
       "      <th>2022-09-17 00:00:00</th>\n",
       "      <td>0.116315</td>\n",
       "    </tr>\n",
       "  </tbody>\n",
       "</table>\n",
       "<p>12643 rows × 1 columns</p>\n",
       "</div>"
      ],
      "text/plain": [
       "                        depth\n",
       "Date_Time                    \n",
       "2022-03-01 00:00:00  0.120852\n",
       "2022-03-01 00:15:00  0.119627\n",
       "2022-03-01 00:30:00  0.118516\n",
       "2022-03-01 00:45:00  0.117518\n",
       "2022-03-01 01:00:00  0.116634\n",
       "...                       ...\n",
       "2022-09-16 23:00:00  0.116895\n",
       "2022-09-16 23:15:00  0.118644\n",
       "2022-09-16 23:30:00  0.115145\n",
       "2022-09-16 23:45:00  0.113396\n",
       "2022-09-17 00:00:00  0.116315\n",
       "\n",
       "[12643 rows x 1 columns]"
      ]
     },
     "execution_count": 3,
     "metadata": {},
     "output_type": "execute_result"
    }
   ],
   "source": [
    "# 2021 piezometers\n",
    "P2_2021_depth = pd.DataFrame(depth_2021['P2']) \n",
    "P2_2021_depth.columns = ['depth'] # change the column name to 'depth'\n",
    "P3_2021_depth = pd.DataFrame(depth_2021['P3'])\n",
    "P3_2021_depth.columns = ['depth']\n",
    "P4_2021_depth = pd.DataFrame(depth_2021['P4'])\n",
    "P4_2021_depth.columns = ['depth']\n",
    "P6_2021_depth = pd.DataFrame(depth_2021['P6'])\n",
    "P6_2021_depth.columns = ['depth']\n",
    "\n",
    "# 2022 piezometers\n",
    "P2_2022_depth = pd.DataFrame(depth_2022['P2'])\n",
    "P2_2022_depth.columns = ['depth']\n",
    "P3_2022_depth = pd.DataFrame(depth_2022['P3'])\n",
    "P3_2022_depth.columns = ['depth']\n",
    "P4_2022_depth = pd.DataFrame(depth_2022['P4'])\n",
    "P4_2022_depth.columns = ['depth']\n",
    "P6_2022_depth = pd.DataFrame(depth_2022['P6'])\n",
    "P6_2022_depth.columns = ['depth']\n",
    "\n",
    "# 2023 piezometers\n",
    "P2_2023_depth = pd.DataFrame(depth_2023['P2'])\n",
    "P2_2023_depth.columns = ['depth']\n",
    "P3_2023_depth = pd.DataFrame(depth_2023['P3'])\n",
    "P3_2023_depth.columns = ['depth']\n",
    "P4_2023_depth = pd.DataFrame(depth_2023['P4'])\n",
    "P4_2023_depth.columns = ['depth']\n",
    "P6_2023_depth = pd.DataFrame(depth_2023['P6'])\n",
    "P6_2023_depth.columns = ['depth']\n",
    "\n",
    "P2_2022_depth"
   ]
  },
  {
   "cell_type": "markdown",
   "metadata": {},
   "source": [
    "Obtaining average depths by cross section"
   ]
  },
  {
   "cell_type": "code",
   "execution_count": 31,
   "metadata": {},
   "outputs": [],
   "source": [
    "# 2021 average depth\n",
    "P2_2021_avg_depth = calculate_average_depth(P2_topo, P2_2021_depth, 0.7)\n",
    "P3_2021_avg_depth = calculate_average_depth(P3_topo, P3_2021_depth, 0.6)\n",
    "P4_2021_avg_depth = calculate_average_depth(P4_topo, P4_2021_depth, 2.5)\n",
    "P6_2021_avg_depth = calculate_average_depth(P6_topo, P6_2021_depth, 1.7)\n",
    "# put all in one dataframe\n",
    "avg_depth_2021 = pd.concat([P2_2021_avg_depth, P3_2021_avg_depth, P4_2021_avg_depth, P6_2021_avg_depth], axis=1)\n",
    "avg_depth_2021.columns = ['P2', 'P3', 'P4', 'P6']\n",
    "\n",
    "# 2022 average depth\n",
    "P2_2022_avg_depth = calculate_average_depth(P2_topo, P2_2022_depth, 0.7)\n",
    "P3_2022_avg_depth = calculate_average_depth(P3_topo, P3_2022_depth, 0.6)\n",
    "P4_2022_avg_depth = calculate_average_depth(P4_topo, P4_2022_depth, 2.5)\n",
    "P6_2022_avg_depth = calculate_average_depth(P6_topo, P6_2022_depth, 1.7)\n",
    "# put all in one dataframe\n",
    "avg_depth_2022 = pd.concat([P2_2022_avg_depth, P3_2022_avg_depth, P4_2022_avg_depth, P6_2022_avg_depth], axis=1)\n",
    "avg_depth_2022.columns = ['P2', 'P3', 'P4', 'P6']\n",
    "\n",
    "# 2023 average depth\n",
    "P2_2023_avg_depth = calculate_average_depth(P2_topo, P2_2023_depth, 0.7)\n",
    "P3_2023_avg_depth = calculate_average_depth(P3_topo, P3_2023_depth, 0.6)\n",
    "P4_2023_avg_depth = calculate_average_depth(P4_topo, P4_2023_depth, 2.5)\n",
    "P6_2023_avg_depth = calculate_average_depth(P6_topo, P6_2023_depth, 1.7)\n",
    "# put all in one dataframe\n",
    "avg_depth_2023 = pd.concat([P2_2023_avg_depth, P3_2023_avg_depth, P4_2023_avg_depth, P6_2023_avg_depth], axis=1)\n",
    "avg_depth_2023.columns = ['P2', 'P3', 'P4', 'P6']"
   ]
  },
  {
   "cell_type": "markdown",
   "metadata": {},
   "source": [
    "Testing manually"
   ]
  },
  {
   "cell_type": "code",
   "execution_count": 53,
   "metadata": {},
   "outputs": [
    {
     "name": "stdout",
     "output_type": "stream",
     "text": [
      "2723.120793689\n"
     ]
    },
    {
     "data": {
      "image/png": "[encoded data removed]",
      "text/plain": [
       "<Figure size 432x288 with 1 Axes>"
      ]
     },
     "metadata": {
      "needs_background": "light"
     },
     "output_type": "display_data"
    }
   ],
   "source": [
    "X = P2_topo['distance']\n",
    "Z = P2_topo['elevation']\n",
    "depth = depth_2021['P2']\n",
    "depth_location = 0.7\n",
    "# riverbed elevation at the depth measurement location\n",
    "riverbed_elevation_at_depth_location = np.interp(depth_location, X, Z)\n",
    "wse = riverbed_elevation_at_depth_location + depth\n",
    "# testing the first time step\n",
    "wse = wse.iloc[0]\n",
    "print(wse)\n",
    "# plot the cross section\n",
    "plt.plot(X, Z)\n",
    "plt.scatter(depth_location, np.interp(depth_location, X, Z), color='red')\n",
    "# plot the water surface elevation\n",
    "plt.axhline(y=wse, color='blue', linestyle='--')\n",
    "plt.show()"
   ]
  },
  {
   "cell_type": "code",
   "execution_count": 54,
   "metadata": {},
   "outputs": [
    {
     "data": {
      "text/plain": [
       "0.05508780664708598"
      ]
     },
     "execution_count": 54,
     "metadata": {},
     "output_type": "execute_result"
    }
   ],
   "source": [
    "water_depth_avg, tempCalc1 = get_water_depth(X, Z, wse)\n",
    "water_depth_avg"
   ]
  },
  {
   "cell_type": "code",
   "execution_count": 55,
   "metadata": {},
   "outputs": [
    {
     "name": "stdout",
     "output_type": "stream",
     "text": [
      "3     0.032794\n",
      "4     0.049794\n",
      "5     0.105794\n",
      "6     0.107794\n",
      "7     0.125794\n",
      "8     0.077794\n",
      "9     0.086794\n",
      "10    0.087794\n",
      "11    0.073794\n",
      "12    0.036794\n",
      "13    0.050794\n",
      "14    0.035794\n",
      "15    0.037794\n",
      "18    0.003794\n",
      "19    0.008794\n",
      "23    0.009794\n",
      "24    0.004794\n",
      "Name: elevation, dtype: float64\n"
     ]
    },
    {
     "data": {
      "text/plain": [
       "0.05508780664708598"
      ]
     },
     "execution_count": 55,
     "metadata": {},
     "output_type": "execute_result"
    }
   ],
   "source": [
    "water_depth = wse - Z\n",
    "water_depth = water_depth[water_depth > 0]\n",
    "print(water_depth)\n",
    "water_depth_avg = np.mean(water_depth)\n",
    "water_depth_avg"
   ]
  },
  {
   "cell_type": "markdown",
   "metadata": {},
   "source": [
    "example with high water level"
   ]
  },
  {
   "cell_type": "code",
   "execution_count": 56,
   "metadata": {},
   "outputs": [
    {
     "data": {
      "image/png": "[encoded data removed]",
      "text/plain": [
       "<Figure size 432x288 with 1 Axes>"
      ]
     },
     "metadata": {
      "needs_background": "light"
     },
     "output_type": "display_data"
    }
   ],
   "source": [
    "wse = 2723.18\n",
    "# plot the cross section\n",
    "plt.plot(X, Z)\n",
    "plt.scatter(depth_location, np.interp(depth_location, X, Z), color='red')\n",
    "# plot the water surface elevation\n",
    "plt.axhline(y=wse, color='blue', linestyle='--')\n",
    "plt.show()"
   ]
  },
  {
   "cell_type": "code",
   "execution_count": 49,
   "metadata": {},
   "outputs": [
    {
     "data": {
      "text/plain": [
       "0.09339130434763439"
      ]
     },
     "execution_count": 49,
     "metadata": {},
     "output_type": "execute_result"
    }
   ],
   "source": [
    "water_depth_avg, tempCalc1 = get_water_depth(X, Z, wse)\n",
    "water_depth_avg"
   ]
  },
  {
   "cell_type": "code",
   "execution_count": 50,
   "metadata": {},
   "outputs": [
    {
     "name": "stdout",
     "output_type": "stream",
     "text": [
      "2     0.014\n",
      "3     0.092\n",
      "4     0.109\n",
      "5     0.165\n",
      "6     0.167\n",
      "7     0.185\n",
      "8     0.137\n",
      "9     0.146\n",
      "10    0.147\n",
      "11    0.133\n",
      "12    0.096\n",
      "13    0.110\n",
      "14    0.095\n",
      "15    0.097\n",
      "16    0.034\n",
      "17    0.020\n",
      "18    0.063\n",
      "19    0.068\n",
      "20    0.044\n",
      "21    0.034\n",
      "22    0.059\n",
      "23    0.069\n",
      "24    0.064\n",
      "Name: elevation, dtype: float64\n"
     ]
    },
    {
     "data": {
      "text/plain": [
       "0.09339130434763439"
      ]
     },
     "execution_count": 50,
     "metadata": {},
     "output_type": "execute_result"
    }
   ],
   "source": [
    "water_depth = wse - Z\n",
    "water_depth = water_depth[water_depth > 0]\n",
    "print(water_depth)\n",
    "water_depth_avg = np.mean(water_depth)\n",
    "water_depth_avg"
   ]
  },
  {
   "cell_type": "code",
   "execution_count": null,
   "metadata": {},
   "outputs": [],
   "source": []
  }
 ],
 "metadata": {
  "kernelspec": {
   "display_name": "Python 3",
   "language": "python",
   "name": "python3"
  },
  "language_info": {
   "codemirror_mode": {
    "name": "ipython",
    "version": 3
   },
   "file_extension": ".py",
   "mimetype": "text/x-python",
   "name": "python",
   "nbconvert_exporter": "python",
   "pygments_lexer": "ipython3",
   "version": "3.9.10"
  }
 },
 "nbformat": 4,
 "nbformat_minor": 2
}
