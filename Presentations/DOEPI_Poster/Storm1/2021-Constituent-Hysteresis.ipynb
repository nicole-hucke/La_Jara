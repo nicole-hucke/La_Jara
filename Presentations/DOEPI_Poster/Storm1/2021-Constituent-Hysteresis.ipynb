{
 "cells": [
  {
   "cell_type": "code",
   "execution_count": 2,
   "metadata": {},
   "outputs": [
    {
     "name": "stdout",
     "output_type": "stream",
     "text": [
      "C:\\Users\\nicol\\Documents\\GitHub\\La_Jara\\Presentations\\DOEPI_Poster\\Storm1\n"
     ]
    }
   ],
   "source": [
    "cd Documents/GitHub/La_Jara/Presentations/DOEPI_Poster/Storm1"
   ]
  },
  {
   "cell_type": "code",
   "execution_count": 3,
   "metadata": {},
   "outputs": [],
   "source": [
    "#Import data\n",
    "import pandas as pd\n",
    "import numpy as np\n",
    "import matplotlib.pyplot as plt\n",
    "import seaborn as sns  \n",
    "\n",
    "up = pd.read_excel('st1_up.xlsx')\n",
    "down = pd.read_excel('st1_down.xlsx')\n",
    "\n",
    "import matplotlib.collections as mcoll\n",
    "import matplotlib.path as mpath\n",
    "\n",
    "######################## creating the function for my colorline #######################\n",
    "def make_segments(x, y):\n",
    "    \"\"\"\n",
    "    Create list of line segments from x and y coordinates, in the correct format\n",
    "    for LineCollection: an array of the form numlines x (points per line) x 2 (x\n",
    "    and y) array\n",
    "    \"\"\"\n",
    "\n",
    "    points = np.array([x, y]).T.reshape(-1, 1, 2)\n",
    "    segments = np.concatenate([points[:-1], points[1:]], axis=1)\n",
    "    return segments\n",
    "\n",
    "def colorline(x, y, z=None, cmap=plt.get_cmap('copper'), norm=plt.Normalize(0.0, 1.0), linewidth=3, alpha=1.0):\n",
    "    \"\"\"\n",
    "    Plot a colored line with coordinates x and y\n",
    "    Optionally specify colors in the array z\n",
    "    Optionally specify a colormap, a norm function and a line width\n",
    "    \"\"\"\n",
    "\n",
    "    # Default colors equally spaced on [0,1]:\n",
    "    if z is None:\n",
    "        z = np.linspace(0.0, 1.0, len(x))\n",
    "\n",
    "    # Special case if a single number:\n",
    "    if not hasattr(z, \"__iter__\"):  # to check for numerical input -- this is a hack\n",
    "        z = np.array([z])\n",
    "\n",
    "    z = np.asarray(z)\n",
    "    \n",
    "    segments = make_segments(x, y)\n",
    "    lc = mcoll.LineCollection(segments, array=z, cmap=cmap, norm=norm, linewidth=linewidth, alpha=alpha)\n",
    "\n",
    "    ax = plt.gca()\n",
    "    ax.add_collection(lc)\n",
    "\n",
    "    return lc\n"
   ]
  },
  {
   "cell_type": "code",
   "execution_count": 6,
   "metadata": {},
   "outputs": [
    {
     "name": "stderr",
     "output_type": "stream",
     "text": [
      "C:\\Users\\nicol\\AppData\\Local\\Temp\\ipykernel_36192\\2750421564.py:11: MatplotlibDeprecationWarning: Auto-removal of grids by pcolor() and pcolormesh() is deprecated since 3.5 and will be removed two minor releases later; please call grid(False) first.\n",
      "  plt.colorbar(sc, ax=ax1)\n"
     ]
    },
    {
     "data": {
      "image/png": "[encoded data removed]",
      "text/plain": [
       "<Figure size 288x216 with 2 Axes>"
      ]
     },
     "metadata": {},
     "output_type": "display_data"
    }
   ],
   "source": [
    "fig, (ax1) = plt.subplots(figsize=(4,3))\n",
    "sns.set_style('darkgrid')\n",
    "cm = plt.cm.get_cmap('Oranges_r')\n",
    "fig.tight_layout(h_pad=100)\n",
    "\n",
    "\n",
    "z = np.linspace(0, 1, len(up['q']))\n",
    "colorline(down['q'], down['fDOM (QSU)'], z, cmap=plt.get_cmap('Oranges_r'), linewidth=4)\n",
    "sc =ax1.scatter(down['q'], down['fDOM (QSU)'], c=range(len(up['q'])), cmap=cm, zorder=100)\n",
    "plt.grid(False)\n",
    "plt.colorbar(sc, ax=ax1)\n",
    "plt.text(4.2,540,'Sample #', fontsize=10)\n",
    "ax1.set_title('fDOM Storm 1', fontsize=14)\n",
    "ax1.set_ylabel(\"fDOM (QSU)\", fontsize=12)\n",
    "ax1.set_xlabel(\"Discharge (cfs)\", fontsize=12)\n",
    "\n",
    "plt.savefig(\"ST1_FDOM_DOWN.png\", bbox_inches = 'tight', dpi=1000)"
   ]
  },
  {
   "cell_type": "code",
   "execution_count": null,
   "metadata": {},
   "outputs": [],
   "source": []
  }
 ],
 "metadata": {
  "kernelspec": {
   "display_name": "Python 3.9.10 64-bit",
   "language": "python",
   "name": "python3"
  },
  "language_info": {
   "codemirror_mode": {
    "name": "ipython",
    "version": 3
   },
   "file_extension": ".py",
   "mimetype": "text/x-python",
   "name": "python",
   "nbconvert_exporter": "python",
   "pygments_lexer": "ipython3",
   "version": "3.9.12"
  },
  "orig_nbformat": 4,
  "vscode": {
   "interpreter": {
    "hash": "b77382f87b36d2df04c3d9d21ec59d1507eb02b2cc5d891a58ed2cdcc4c28bd5"
   }
  }
 },
 "nbformat": 4,
 "nbformat_minor": 2
}
